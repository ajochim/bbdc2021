{
 "cells": [
  {
   "cell_type": "code",
   "execution_count": 1,
   "metadata": {},
   "outputs": [],
   "source": [
    "import os\n",
    "import sys\n",
    "sys.path.insert(0, './../')\n",
    "import bbdc2021 as bbdc"
   ]
  },
  {
   "cell_type": "code",
   "execution_count": 2,
   "metadata": {},
   "outputs": [],
   "source": [
    "pipe_param = {'data_folder': './../data/',\n",
    "                  'wav_files_folder': 'final_pre_dataset', # mel parameter\n",
    "                  'frame_size': 0.04, 'frame_stride': 0.02495,\n",
    "                  'mel_filter': 32, 'nfft': 512,\n",
    "                  'dev_csv': 'dev-labels.csv', # filelisten, falls man doch auf kleinerem probieren moechte\n",
    "                  'eval_csv': 'challenge_filelist_dummy.csv',\n",
    "                  'scaling': 'standard', # 'standard', 'minmax' oder 'no' wenn kein scaling sein soll\n",
    "                  'test_split_range': (8000, -1), # index anfang und ende aus dev set \n",
    "                  'prediction_path': './', # wo prediction csvs gespeichert werden sollen\n",
    "                  'post_processing': 'fill', # 'fill' is das von Jannes.\n",
    "                  'post_timethres': 0.8, # post processing parameter\n",
    "                  'post_noisethres': 0.3,\n",
    "                  'post_base': 2,\n",
    "                  'submission_file_path': './challenge_submission.csv'}\n",
    "unet_param = {'channels': [32, 64, 64],\n",
    "              'val_split_range': (6400, -1), # 0.2\n",
    "              'loss': 'categorical_crossentropy', # bbdc.dice_loss moeglich\n",
    "              'learning_rate': 0.001,\n",
    "              'batch_size': 20,\n",
    "              'epochs': 30,\n",
    "              'model_save_path': './',\n",
    "              'load_path': None} # Wenn trainiert werden soll: None; Submission 1: 'model9561.h5'"
   ]
  },
  {
   "cell_type": "code",
   "execution_count": 2,
   "metadata": {},
   "outputs": [],
   "source": [
    "def pipeline_u_net2d_1(pipe_param, model_param):\n",
    "    \"\"\"Current u_net2d pipeline from loading data to prediction.\n",
    "    Takes paramater dictionary as argument\"\"\"\n",
    "    print('Pipeline parameter:', pipe_param)\n",
    "    print('Model parameter:', model_param)\n",
    "    # load\n",
    "    x_dev, y_dev, timep, filelist_dev, x_ch, filelist_ch = bbdc.loading_block2(pipe_param)\n",
    "    # shuffle\n",
    "    x_dev, y_dev, filelist_dev = bbdc.shuffle_block1(x_dev, y_dev, filelist_dev)\n",
    "    # split (tv=train and val set)\n",
    "    x_tv, x_test, y_tv, y_test, filelist_test = bbdc.split_block1(x_dev, y_dev, timep, filelist_dev, pipe_param)\n",
    "    # model fit (or load)\n",
    "    history, model = bbdc.model_block1_unet2d(x_tv, y_tv, model_param)\n",
    "    # evaluate\n",
    "    scores_list, model_psds = bbdc.evaluation_block1(x_test, y_test, timep, filelist_test, model, pipe_param)\n",
    "    # post processing and its evaluation\n",
    "    pp_pred_test, pp_pred_ch, pp_psds = bbdc.postprocessing_with_evaluation_block1(x_test, y_test, timep,\n",
    "                                                                                   filelist_test, x_ch,\n",
    "                                                                                   filelist_ch, model, pipe_param)\n",
    "    # challenge prediction\n",
    "    bbdc.challenge_prediction_block1(pp_pred_ch, timep, filelist_ch, pipe_param)\n",
    "    return scores_list, model_psds, pp_psds"
   ]
  },
  {
   "cell_type": "code",
   "execution_count": null,
   "metadata": {},
   "outputs": [
    {
     "name": "stdout",
     "output_type": "stream",
     "text": [
      "Pipeline parameter: {'data_folder': './../data/', 'wav_files_folder': 'final_pre_dataset', 'frame_size': 0.04, 'frame_stride': 0.02495, 'mel_filter': 32, 'nfft': 512, 'dev_csv': 'dev-labels.csv', 'eval_csv': 'challenge_filelist_dummy.csv', 'scaling': 'standard', 'test_split_range': (8000, -1), 'prediction_path': './', 'post_processing': 'fill', 'post_timethres': 0.8, 'post_noisethres': 0.3, 'post_base': 2, 'submission_file_path': './challenge_submission64mel.csv'}\n",
      "Model parameter: {'channels': [32, 64, 64], 'val_split_range': (6400, -1), 'loss': 'categorical_crossentropy', 'learning_rate': 0.001, 'batch_size': 256, 'epochs': 100, 'model_save_path': './', 'load_path': None}\n",
      "Mel filter version loading block.\n",
      "Csv from wav files already existend. Skipping calc_fft_mel.\n",
      "Scaled numpy files already existend. Skipping scaling and load_data function.\n",
      "Splitting test set at indices 8000 to -1 from dev set.\n",
      "Tensorflow version: 2.4.1\n",
      "Splitting val set at indices 6400 to -1 from train set.\n",
      "Epoch 1/100\n"
     ]
    }
   ],
   "source": [
    "pipe_param = {'data_folder': './../data/',\n",
    "                  'wav_files_folder': 'final_pre_dataset', # mel parameter\n",
    "                  'frame_size': 0.04, 'frame_stride': 0.02495,\n",
    "                  'mel_filter': 32, 'nfft': 512,\n",
    "                  'dev_csv': 'dev-labels.csv', # filelisten, falls man doch auf kleinerem probieren moechte\n",
    "                  'eval_csv': 'challenge_filelist_dummy.csv',\n",
    "                  'scaling': 'standard', # 'standard', 'minmax' oder 'no' wenn kein scaling sein soll\n",
    "                  'test_split_range': (8000, -1), # index anfang und ende aus dev set \n",
    "                  'prediction_path': './', # wo prediction csvs gespeichert werden sollen\n",
    "                  'post_processing': 'fill', # 'fill' is das von Jannes.\n",
    "                  'post_timethres': 0.8, # post processing parameter\n",
    "                  'post_noisethres': 0.3,\n",
    "                  'post_base': 2,\n",
    "                  'submission_file_path': './challenge_submission64mel.csv'}\n",
    "unet_param = {'channels': [32, 64, 64],\n",
    "              'val_split_range': (6400, -1), # 0.2\n",
    "              'loss': 'categorical_crossentropy', # bbdc.dice_loss moeglich\n",
    "              'learning_rate': 0.001,\n",
    "              'batch_size': 256,\n",
    "              'epochs': 100,\n",
    "              'model_save_path': './',\n",
    "              'load_path': None} # Wenn trainiert werden soll: None; Submission 1: 'model9561.h5'\n",
    "\n",
    "pipeline_u_net2d_1(pipe_param, unet_param)"
   ]
  },
  {
   "cell_type": "code",
   "execution_count": 4,
   "metadata": {},
   "outputs": [
    {
     "name": "stderr",
     "output_type": "stream",
     "text": [
      "3it [00:00, 23.83it/s]"
     ]
    },
    {
     "name": "stdout",
     "output_type": "stream",
     "text": [
      "Pipeline parameter: {'data_folder': './../data/', 'wav_files_folder': 'final_pre_dataset', 'frame_size': 0.04, 'frame_stride': 0.0998, 'mel_filter': 100, 'nfft': 512, 'dev_csv': 'dev-labels.csv', 'eval_csv': 'challenge_filelist_dummy.csv', 'scaling': 'standard', 'test_split_range': (8000, -1), 'prediction_path': './', 'post_processing': 'fill', 'post_timethres': 0.8, 'post_noisethres': 0.3, 'post_base': 2, 'submission_file_path': './challenge_submission_.csv'}\n",
      "Model parameter: {'channels': [32, 64, 90], 'val_split_range': (6400, -1), 'loss': 'categorical_crossentropy', 'learning_rate': 0.001, 'batch_size': 256, 'epochs': 3, 'model_save_path': './', 'load_path': None}\n",
      "Mel filter version loading block.\n",
      "Starting transformation from wav files to csv files (mel).\n",
      "Processing dev files:\n"
     ]
    },
    {
     "name": "stderr",
     "output_type": "stream",
     "text": [
      "10000it [08:24, 19.81it/s]\n",
      "3it [00:00, 26.88it/s]"
     ]
    },
    {
     "name": "stdout",
     "output_type": "stream",
     "text": [
      "Processing eval files:\n"
     ]
    },
    {
     "name": "stderr",
     "output_type": "stream",
     "text": [
      "3000it [02:28, 20.26it/s]\n",
      "0it [00:00, ?it/s]"
     ]
    },
    {
     "name": "stdout",
     "output_type": "stream",
     "text": [
      "Loading dev set:\n"
     ]
    },
    {
     "name": "stderr",
     "output_type": "stream",
     "text": [
      "30044it [02:06, 238.02it/s]\n"
     ]
    },
    {
     "name": "stdout",
     "output_type": "stream",
     "text": [
      "Loading eval set:\n"
     ]
    },
    {
     "name": "stderr",
     "output_type": "stream",
     "text": [
      "3000it [00:35, 83.72it/s]\n"
     ]
    },
    {
     "name": "stdout",
     "output_type": "stream",
     "text": [
      "Scaling files.\n",
      "Saving to numpy arrays.\n",
      "Splitting test set at indices 8000 to -1 from dev set.\n",
      "Existing model.h5 removed.\n",
      "Tensorflow version: 2.4.1\n",
      "(100, 100)\n",
      "Splitting val set at indices 6400 to -1 from train set.\n",
      "Epoch 1/3\n",
      " 7/40 [====>.........................] - ETA: 25:41 - loss: 6.1654 - mae: 0.1459 - accuracy: 0.0425"
     ]
    },
    {
     "ename": "KeyboardInterrupt",
     "evalue": "",
     "output_type": "error",
     "traceback": [
      "\u001b[0;31m---------------------------------------------------------------------------\u001b[0m",
      "\u001b[0;31mKeyboardInterrupt\u001b[0m                         Traceback (most recent call last)",
      "\u001b[0;32m<ipython-input-4-d7c8ead5b24a>\u001b[0m in \u001b[0;36m<module>\u001b[0;34m\u001b[0m\n\u001b[1;32m     23\u001b[0m               'load_path': None} # Wenn trainiert werden soll: None; Submission 1: 'model9561.h5'\n\u001b[1;32m     24\u001b[0m \u001b[0;34m\u001b[0m\u001b[0m\n\u001b[0;32m---> 25\u001b[0;31m \u001b[0mpipeline_u_net2d_1\u001b[0m\u001b[0;34m(\u001b[0m\u001b[0mpipe_param\u001b[0m\u001b[0;34m,\u001b[0m \u001b[0munet_param\u001b[0m\u001b[0;34m)\u001b[0m\u001b[0;34m\u001b[0m\u001b[0;34m\u001b[0m\u001b[0m\n\u001b[0m",
      "\u001b[0;32m<ipython-input-2-a20b0c41c8bf>\u001b[0m in \u001b[0;36mpipeline_u_net2d_1\u001b[0;34m(pipe_param, model_param)\u001b[0m\n\u001b[1;32m     11\u001b[0m     \u001b[0mx_tv\u001b[0m\u001b[0;34m,\u001b[0m \u001b[0mx_test\u001b[0m\u001b[0;34m,\u001b[0m \u001b[0my_tv\u001b[0m\u001b[0;34m,\u001b[0m \u001b[0my_test\u001b[0m\u001b[0;34m,\u001b[0m \u001b[0mfilelist_test\u001b[0m \u001b[0;34m=\u001b[0m \u001b[0mbbdc\u001b[0m\u001b[0;34m.\u001b[0m\u001b[0msplit_block1\u001b[0m\u001b[0;34m(\u001b[0m\u001b[0mx_dev\u001b[0m\u001b[0;34m,\u001b[0m \u001b[0my_dev\u001b[0m\u001b[0;34m,\u001b[0m \u001b[0mtimep\u001b[0m\u001b[0;34m,\u001b[0m \u001b[0mfilelist_dev\u001b[0m\u001b[0;34m,\u001b[0m \u001b[0mpipe_param\u001b[0m\u001b[0;34m)\u001b[0m\u001b[0;34m\u001b[0m\u001b[0;34m\u001b[0m\u001b[0m\n\u001b[1;32m     12\u001b[0m     \u001b[0;31m# model fit (or load)\u001b[0m\u001b[0;34m\u001b[0m\u001b[0;34m\u001b[0m\u001b[0;34m\u001b[0m\u001b[0m\n\u001b[0;32m---> 13\u001b[0;31m     \u001b[0mhistory\u001b[0m\u001b[0;34m,\u001b[0m \u001b[0mmodel\u001b[0m \u001b[0;34m=\u001b[0m \u001b[0mbbdc\u001b[0m\u001b[0;34m.\u001b[0m\u001b[0mmodel_block1_unet2d\u001b[0m\u001b[0;34m(\u001b[0m\u001b[0mx_tv\u001b[0m\u001b[0;34m,\u001b[0m \u001b[0my_tv\u001b[0m\u001b[0;34m,\u001b[0m \u001b[0mmodel_param\u001b[0m\u001b[0;34m)\u001b[0m\u001b[0;34m\u001b[0m\u001b[0;34m\u001b[0m\u001b[0m\n\u001b[0m\u001b[1;32m     14\u001b[0m     \u001b[0;31m# evaluate\u001b[0m\u001b[0;34m\u001b[0m\u001b[0;34m\u001b[0m\u001b[0;34m\u001b[0m\u001b[0m\n\u001b[1;32m     15\u001b[0m     \u001b[0mscores_list\u001b[0m\u001b[0;34m,\u001b[0m \u001b[0mmodel_psds\u001b[0m \u001b[0;34m=\u001b[0m \u001b[0mbbdc\u001b[0m\u001b[0;34m.\u001b[0m\u001b[0mevaluation_block1\u001b[0m\u001b[0;34m(\u001b[0m\u001b[0mx_test\u001b[0m\u001b[0;34m,\u001b[0m \u001b[0my_test\u001b[0m\u001b[0;34m,\u001b[0m \u001b[0mtimep\u001b[0m\u001b[0;34m,\u001b[0m \u001b[0mfilelist_test\u001b[0m\u001b[0;34m,\u001b[0m \u001b[0mmodel\u001b[0m\u001b[0;34m,\u001b[0m \u001b[0mpipe_param\u001b[0m\u001b[0;34m)\u001b[0m\u001b[0;34m\u001b[0m\u001b[0;34m\u001b[0m\u001b[0m\n",
      "\u001b[0;32m~/Uni/Master/Machine_Learning/bbdc2021/bbdc2021.py\u001b[0m in \u001b[0;36mmodel_block1_unet2d\u001b[0;34m(X_train_val, Y_train_val, unet_param)\u001b[0m\n\u001b[1;32m    646\u001b[0m     model.compile(optimizer=opt, loss=unet_param['loss'],\n\u001b[1;32m    647\u001b[0m                   metrics=['mae', 'accuracy'])\n\u001b[0;32m--> 648\u001b[0;31m     history = model.fit(X_train, Y_train, batch_size=unet_param['batch_size'],\n\u001b[0m\u001b[1;32m    649\u001b[0m                         \u001b[0mepochs\u001b[0m\u001b[0;34m=\u001b[0m\u001b[0munet_param\u001b[0m\u001b[0;34m[\u001b[0m\u001b[0;34m'epochs'\u001b[0m\u001b[0;34m]\u001b[0m\u001b[0;34m,\u001b[0m\u001b[0;34m\u001b[0m\u001b[0;34m\u001b[0m\u001b[0m\n\u001b[1;32m    650\u001b[0m                         \u001b[0mvalidation_data\u001b[0m\u001b[0;34m=\u001b[0m\u001b[0;34m(\u001b[0m\u001b[0mX_val\u001b[0m\u001b[0;34m,\u001b[0m \u001b[0mY_val\u001b[0m\u001b[0;34m)\u001b[0m\u001b[0;34m,\u001b[0m\u001b[0;34m\u001b[0m\u001b[0;34m\u001b[0m\u001b[0m\n",
      "\u001b[0;32m~/.local/lib/python3.8/site-packages/tensorflow/python/keras/engine/training.py\u001b[0m in \u001b[0;36mfit\u001b[0;34m(self, x, y, batch_size, epochs, verbose, callbacks, validation_split, validation_data, shuffle, class_weight, sample_weight, initial_epoch, steps_per_epoch, validation_steps, validation_batch_size, validation_freq, max_queue_size, workers, use_multiprocessing)\u001b[0m\n\u001b[1;32m   1098\u001b[0m                 _r=1):\n\u001b[1;32m   1099\u001b[0m               \u001b[0mcallbacks\u001b[0m\u001b[0;34m.\u001b[0m\u001b[0mon_train_batch_begin\u001b[0m\u001b[0;34m(\u001b[0m\u001b[0mstep\u001b[0m\u001b[0;34m)\u001b[0m\u001b[0;34m\u001b[0m\u001b[0;34m\u001b[0m\u001b[0m\n\u001b[0;32m-> 1100\u001b[0;31m               \u001b[0mtmp_logs\u001b[0m \u001b[0;34m=\u001b[0m \u001b[0mself\u001b[0m\u001b[0;34m.\u001b[0m\u001b[0mtrain_function\u001b[0m\u001b[0;34m(\u001b[0m\u001b[0miterator\u001b[0m\u001b[0;34m)\u001b[0m\u001b[0;34m\u001b[0m\u001b[0;34m\u001b[0m\u001b[0m\n\u001b[0m\u001b[1;32m   1101\u001b[0m               \u001b[0;32mif\u001b[0m \u001b[0mdata_handler\u001b[0m\u001b[0;34m.\u001b[0m\u001b[0mshould_sync\u001b[0m\u001b[0;34m:\u001b[0m\u001b[0;34m\u001b[0m\u001b[0;34m\u001b[0m\u001b[0m\n\u001b[1;32m   1102\u001b[0m                 \u001b[0mcontext\u001b[0m\u001b[0;34m.\u001b[0m\u001b[0masync_wait\u001b[0m\u001b[0;34m(\u001b[0m\u001b[0;34m)\u001b[0m\u001b[0;34m\u001b[0m\u001b[0;34m\u001b[0m\u001b[0m\n",
      "\u001b[0;32m~/.local/lib/python3.8/site-packages/tensorflow/python/eager/def_function.py\u001b[0m in \u001b[0;36m__call__\u001b[0;34m(self, *args, **kwds)\u001b[0m\n\u001b[1;32m    826\u001b[0m     \u001b[0mtracing_count\u001b[0m \u001b[0;34m=\u001b[0m \u001b[0mself\u001b[0m\u001b[0;34m.\u001b[0m\u001b[0mexperimental_get_tracing_count\u001b[0m\u001b[0;34m(\u001b[0m\u001b[0;34m)\u001b[0m\u001b[0;34m\u001b[0m\u001b[0;34m\u001b[0m\u001b[0m\n\u001b[1;32m    827\u001b[0m     \u001b[0;32mwith\u001b[0m \u001b[0mtrace\u001b[0m\u001b[0;34m.\u001b[0m\u001b[0mTrace\u001b[0m\u001b[0;34m(\u001b[0m\u001b[0mself\u001b[0m\u001b[0;34m.\u001b[0m\u001b[0m_name\u001b[0m\u001b[0;34m)\u001b[0m \u001b[0;32mas\u001b[0m \u001b[0mtm\u001b[0m\u001b[0;34m:\u001b[0m\u001b[0;34m\u001b[0m\u001b[0;34m\u001b[0m\u001b[0m\n\u001b[0;32m--> 828\u001b[0;31m       \u001b[0mresult\u001b[0m \u001b[0;34m=\u001b[0m \u001b[0mself\u001b[0m\u001b[0;34m.\u001b[0m\u001b[0m_call\u001b[0m\u001b[0;34m(\u001b[0m\u001b[0;34m*\u001b[0m\u001b[0margs\u001b[0m\u001b[0;34m,\u001b[0m \u001b[0;34m**\u001b[0m\u001b[0mkwds\u001b[0m\u001b[0;34m)\u001b[0m\u001b[0;34m\u001b[0m\u001b[0;34m\u001b[0m\u001b[0m\n\u001b[0m\u001b[1;32m    829\u001b[0m       \u001b[0mcompiler\u001b[0m \u001b[0;34m=\u001b[0m \u001b[0;34m\"xla\"\u001b[0m \u001b[0;32mif\u001b[0m \u001b[0mself\u001b[0m\u001b[0;34m.\u001b[0m\u001b[0m_experimental_compile\u001b[0m \u001b[0;32melse\u001b[0m \u001b[0;34m\"nonXla\"\u001b[0m\u001b[0;34m\u001b[0m\u001b[0;34m\u001b[0m\u001b[0m\n\u001b[1;32m    830\u001b[0m       \u001b[0mnew_tracing_count\u001b[0m \u001b[0;34m=\u001b[0m \u001b[0mself\u001b[0m\u001b[0;34m.\u001b[0m\u001b[0mexperimental_get_tracing_count\u001b[0m\u001b[0;34m(\u001b[0m\u001b[0;34m)\u001b[0m\u001b[0;34m\u001b[0m\u001b[0;34m\u001b[0m\u001b[0m\n",
      "\u001b[0;32m~/.local/lib/python3.8/site-packages/tensorflow/python/eager/def_function.py\u001b[0m in \u001b[0;36m_call\u001b[0;34m(self, *args, **kwds)\u001b[0m\n\u001b[1;32m    853\u001b[0m       \u001b[0;31m# In this case we have created variables on the first call, so we run the\u001b[0m\u001b[0;34m\u001b[0m\u001b[0;34m\u001b[0m\u001b[0;34m\u001b[0m\u001b[0m\n\u001b[1;32m    854\u001b[0m       \u001b[0;31m# defunned version which is guaranteed to never create variables.\u001b[0m\u001b[0;34m\u001b[0m\u001b[0;34m\u001b[0m\u001b[0;34m\u001b[0m\u001b[0m\n\u001b[0;32m--> 855\u001b[0;31m       \u001b[0;32mreturn\u001b[0m \u001b[0mself\u001b[0m\u001b[0;34m.\u001b[0m\u001b[0m_stateless_fn\u001b[0m\u001b[0;34m(\u001b[0m\u001b[0;34m*\u001b[0m\u001b[0margs\u001b[0m\u001b[0;34m,\u001b[0m \u001b[0;34m**\u001b[0m\u001b[0mkwds\u001b[0m\u001b[0;34m)\u001b[0m  \u001b[0;31m# pylint: disable=not-callable\u001b[0m\u001b[0;34m\u001b[0m\u001b[0;34m\u001b[0m\u001b[0m\n\u001b[0m\u001b[1;32m    856\u001b[0m     \u001b[0;32melif\u001b[0m \u001b[0mself\u001b[0m\u001b[0;34m.\u001b[0m\u001b[0m_stateful_fn\u001b[0m \u001b[0;32mis\u001b[0m \u001b[0;32mnot\u001b[0m \u001b[0;32mNone\u001b[0m\u001b[0;34m:\u001b[0m\u001b[0;34m\u001b[0m\u001b[0;34m\u001b[0m\u001b[0m\n\u001b[1;32m    857\u001b[0m       \u001b[0;31m# Release the lock early so that multiple threads can perform the call\u001b[0m\u001b[0;34m\u001b[0m\u001b[0;34m\u001b[0m\u001b[0;34m\u001b[0m\u001b[0m\n",
      "\u001b[0;32m~/.local/lib/python3.8/site-packages/tensorflow/python/eager/function.py\u001b[0m in \u001b[0;36m__call__\u001b[0;34m(self, *args, **kwargs)\u001b[0m\n\u001b[1;32m   2940\u001b[0m       (graph_function,\n\u001b[1;32m   2941\u001b[0m        filtered_flat_args) = self._maybe_define_function(args, kwargs)\n\u001b[0;32m-> 2942\u001b[0;31m     return graph_function._call_flat(\n\u001b[0m\u001b[1;32m   2943\u001b[0m         filtered_flat_args, captured_inputs=graph_function.captured_inputs)  # pylint: disable=protected-access\n\u001b[1;32m   2944\u001b[0m \u001b[0;34m\u001b[0m\u001b[0m\n",
      "\u001b[0;32m~/.local/lib/python3.8/site-packages/tensorflow/python/eager/function.py\u001b[0m in \u001b[0;36m_call_flat\u001b[0;34m(self, args, captured_inputs, cancellation_manager)\u001b[0m\n\u001b[1;32m   1916\u001b[0m         and executing_eagerly):\n\u001b[1;32m   1917\u001b[0m       \u001b[0;31m# No tape is watching; skip to running the function.\u001b[0m\u001b[0;34m\u001b[0m\u001b[0;34m\u001b[0m\u001b[0;34m\u001b[0m\u001b[0m\n\u001b[0;32m-> 1918\u001b[0;31m       return self._build_call_outputs(self._inference_function.call(\n\u001b[0m\u001b[1;32m   1919\u001b[0m           ctx, args, cancellation_manager=cancellation_manager))\n\u001b[1;32m   1920\u001b[0m     forward_backward = self._select_forward_and_backward_functions(\n",
      "\u001b[0;32m~/.local/lib/python3.8/site-packages/tensorflow/python/eager/function.py\u001b[0m in \u001b[0;36mcall\u001b[0;34m(self, ctx, args, cancellation_manager)\u001b[0m\n\u001b[1;32m    553\u001b[0m       \u001b[0;32mwith\u001b[0m \u001b[0m_InterpolateFunctionError\u001b[0m\u001b[0;34m(\u001b[0m\u001b[0mself\u001b[0m\u001b[0;34m)\u001b[0m\u001b[0;34m:\u001b[0m\u001b[0;34m\u001b[0m\u001b[0;34m\u001b[0m\u001b[0m\n\u001b[1;32m    554\u001b[0m         \u001b[0;32mif\u001b[0m \u001b[0mcancellation_manager\u001b[0m \u001b[0;32mis\u001b[0m \u001b[0;32mNone\u001b[0m\u001b[0;34m:\u001b[0m\u001b[0;34m\u001b[0m\u001b[0;34m\u001b[0m\u001b[0m\n\u001b[0;32m--> 555\u001b[0;31m           outputs = execute.execute(\n\u001b[0m\u001b[1;32m    556\u001b[0m               \u001b[0mstr\u001b[0m\u001b[0;34m(\u001b[0m\u001b[0mself\u001b[0m\u001b[0;34m.\u001b[0m\u001b[0msignature\u001b[0m\u001b[0;34m.\u001b[0m\u001b[0mname\u001b[0m\u001b[0;34m)\u001b[0m\u001b[0;34m,\u001b[0m\u001b[0;34m\u001b[0m\u001b[0;34m\u001b[0m\u001b[0m\n\u001b[1;32m    557\u001b[0m               \u001b[0mnum_outputs\u001b[0m\u001b[0;34m=\u001b[0m\u001b[0mself\u001b[0m\u001b[0;34m.\u001b[0m\u001b[0m_num_outputs\u001b[0m\u001b[0;34m,\u001b[0m\u001b[0;34m\u001b[0m\u001b[0;34m\u001b[0m\u001b[0m\n",
      "\u001b[0;32m~/.local/lib/python3.8/site-packages/tensorflow/python/eager/execute.py\u001b[0m in \u001b[0;36mquick_execute\u001b[0;34m(op_name, num_outputs, inputs, attrs, ctx, name)\u001b[0m\n\u001b[1;32m     57\u001b[0m   \u001b[0;32mtry\u001b[0m\u001b[0;34m:\u001b[0m\u001b[0;34m\u001b[0m\u001b[0;34m\u001b[0m\u001b[0m\n\u001b[1;32m     58\u001b[0m     \u001b[0mctx\u001b[0m\u001b[0;34m.\u001b[0m\u001b[0mensure_initialized\u001b[0m\u001b[0;34m(\u001b[0m\u001b[0;34m)\u001b[0m\u001b[0;34m\u001b[0m\u001b[0;34m\u001b[0m\u001b[0m\n\u001b[0;32m---> 59\u001b[0;31m     tensors = pywrap_tfe.TFE_Py_Execute(ctx._handle, device_name, op_name,\n\u001b[0m\u001b[1;32m     60\u001b[0m                                         inputs, attrs, num_outputs)\n\u001b[1;32m     61\u001b[0m   \u001b[0;32mexcept\u001b[0m \u001b[0mcore\u001b[0m\u001b[0;34m.\u001b[0m\u001b[0m_NotOkStatusException\u001b[0m \u001b[0;32mas\u001b[0m \u001b[0me\u001b[0m\u001b[0;34m:\u001b[0m\u001b[0;34m\u001b[0m\u001b[0;34m\u001b[0m\u001b[0m\n",
      "\u001b[0;31mKeyboardInterrupt\u001b[0m: "
     ]
    }
   ],
   "source": [
    "# smaller discretization\n",
    "pipe_param = {'data_folder': './../data/',\n",
    "                  'wav_files_folder': 'final_pre_dataset', # mel parameter\n",
    "                  'frame_size': 0.04, 'frame_stride': 0.0998,\n",
    "                  'mel_filter': 100, 'nfft': 512,\n",
    "                  'dev_csv': 'dev-labels.csv', # filelisten, falls man doch auf kleinerem probieren moechte\n",
    "                  'eval_csv': 'challenge_filelist_dummy.csv',\n",
    "                  'scaling': 'standard', # 'standard', 'minmax' oder 'no' wenn kein scaling sein soll\n",
    "                  'test_split_range': (8000, -1), # index anfang und ende aus dev set \n",
    "                  'prediction_path': './', # wo prediction csvs gespeichert werden sollen\n",
    "                  'post_processing': 'fill', # 'fill' is das von Jannes.\n",
    "                  'post_timethres': 0.8, # post processing parameter\n",
    "                  'post_noisethres': 0.3,\n",
    "                  'post_base': 2,\n",
    "                  'submission_file_path': './challenge_submission_.csv'}\n",
    "unet_param = {'channels': [32, 64, 90],\n",
    "              'val_split_range': (6400, -1), # 0.2\n",
    "              'loss': 'categorical_crossentropy', # bbdc.dice_loss moeglich\n",
    "              'learning_rate': 0.001,\n",
    "              'batch_size': 256,\n",
    "              'epochs': 3,\n",
    "              'model_save_path': './',\n",
    "              'load_path': None} # Wenn trainiert werden soll: None; Submission 1: 'model9561.h5'\n",
    "\n",
    "pipeline_u_net2d_1(pipe_param, unet_param)"
   ]
  },
  {
   "cell_type": "code",
   "execution_count": 3,
   "metadata": {},
   "outputs": [
    {
     "name": "stderr",
     "output_type": "stream",
     "text": [
      "\r",
      "0it [00:00, ?it/s]"
     ]
    },
    {
     "name": "stdout",
     "output_type": "stream",
     "text": [
      "Mel filter version loading block.\n",
      "Starting transformation from wav files to csv files (mel).\n",
      "Processing dev files:\n"
     ]
    },
    {
     "name": "stderr",
     "output_type": "stream",
     "text": [
      "10000it [11:20, 14.70it/s]\n",
      "3it [00:00, 23.53it/s]"
     ]
    },
    {
     "name": "stdout",
     "output_type": "stream",
     "text": [
      "Processing eval files:\n"
     ]
    },
    {
     "name": "stderr",
     "output_type": "stream",
     "text": [
      "3000it [03:20, 14.98it/s]\n",
      "22it [00:00, 214.35it/s]"
     ]
    },
    {
     "name": "stdout",
     "output_type": "stream",
     "text": [
      "Loading dev set:\n"
     ]
    },
    {
     "name": "stderr",
     "output_type": "stream",
     "text": [
      "30044it [02:15, 222.48it/s]\n",
      "9it [00:00, 82.73it/s]"
     ]
    },
    {
     "name": "stdout",
     "output_type": "stream",
     "text": [
      "Loading eval set:\n"
     ]
    },
    {
     "name": "stderr",
     "output_type": "stream",
     "text": [
      "3000it [00:38, 78.04it/s]\n"
     ]
    },
    {
     "name": "stdout",
     "output_type": "stream",
     "text": [
      "Scaling files.\n",
      "Saving to numpy arrays.\n"
     ]
    }
   ],
   "source": [
    "# frame size and not stride! smaller discretization, robust scaler\n",
    "pipe_param = {'data_folder': './../data/',\n",
    "                  'wav_files_folder': 'final_pre_dataset', # mel parameter\n",
    "                  'frame_size': 0.2, 'frame_stride': 0.098,\n",
    "                  'mel_filter': 100, 'nfft': 512,\n",
    "                  'dev_csv': 'dev-labels.csv', # filelisten, falls man doch auf kleinerem probieren moechte\n",
    "                  'eval_csv': 'challenge_filelist_dummy.csv',\n",
    "                  'scaling': 'robust', # 'standard', 'minmax' oder 'no' wenn kein scaling sein soll\n",
    "                  'test_split_range': (8000, -1), # index anfang und ende aus dev set \n",
    "                  'prediction_path': './', # wo prediction csvs gespeichert werden sollen\n",
    "                  'post_processing': 'fill', # 'fill' is das von Jannes.\n",
    "                  'post_timethres': 0.8, # post processing parameter\n",
    "                  'post_noisethres': 0.3,\n",
    "                  'post_base': 2,\n",
    "                  'submission_file_path': './challenge_submission_.csv'}\n",
    "unet_param = {'channels': [32, 64, 90],\n",
    "              'val_split_range': (6400, -1), # 0.2\n",
    "              'loss': 'categorical_crossentropy', # bbdc.dice_loss moeglich\n",
    "              'learning_rate': 0.001,\n",
    "              'batch_size': 256,\n",
    "              'epochs': 3,\n",
    "              'model_save_path': './',\n",
    "              'load_path': None} # Wenn trainiert werden soll: None; Submission 1: 'model9561.h5'\n",
    "\n",
    "x_dev, y_dev, timep, filelist_dev, x_ch, filelist_ch = bbdc.loading_block2(pipe_param)"
   ]
  },
  {
   "cell_type": "code",
   "execution_count": 2,
   "metadata": {},
   "outputs": [
    {
     "name": "stderr",
     "output_type": "stream",
     "text": [
      "113it [00:00, 1116.96it/s]"
     ]
    },
    {
     "name": "stdout",
     "output_type": "stream",
     "text": [
      "Mel filter version loading block.\n",
      "Csv from wav files already existend. Skipping calc_fft_mel.\n",
      "Loading dev set:\n"
     ]
    },
    {
     "name": "stderr",
     "output_type": "stream",
     "text": [
      "30044it [00:25, 1166.23it/s]\n",
      "43it [00:00, 424.29it/s]"
     ]
    },
    {
     "name": "stdout",
     "output_type": "stream",
     "text": [
      "Loading eval set:\n"
     ]
    },
    {
     "name": "stderr",
     "output_type": "stream",
     "text": [
      "3000it [00:06, 453.48it/s]\n"
     ]
    },
    {
     "name": "stdout",
     "output_type": "stream",
     "text": [
      "Scaling files.\n",
      "standard scaling chosen.\n",
      "Saving to numpy arrays.\n"
     ]
    }
   ],
   "source": [
    "# frame size and not stride! smaller discretization, \n",
    "pipe_param = {'data_folder': './../data/',\n",
    "                  'wav_files_folder': 'final_pre_dataset', # mel parameter\n",
    "                  'frame_size': 0.2, 'frame_stride': 0.098,\n",
    "                  'mel_filter': 16, 'nfft': 512,\n",
    "                  'dev_csv': 'dev-labels.csv', # filelisten, falls man doch auf kleinerem probieren moechte\n",
    "                  'eval_csv': 'challenge_filelist_dummy.csv',\n",
    "                  'scaling': 'standard', # 'standard', 'minmax' oder 'no' wenn kein scaling sein soll\n",
    "                  'test_split_range': (8000, -1), # index anfang und ende aus dev set \n",
    "                  'prediction_path': './', # wo prediction csvs gespeichert werden sollen\n",
    "                  'post_processing': 'fill', # 'fill' is das von Jannes.\n",
    "                  'post_timethres': 0.8, # post processing parameter\n",
    "                  'post_noisethres': 0.3,\n",
    "                  'post_base': 2,\n",
    "                  'submission_file_path': './challenge_submission_.csv'}\n",
    "\n",
    "x_dev, y_dev, timep, filelist_dev, x_ch, filelist_ch = bbdc.loading_block2(pipe_param)"
   ]
  },
  {
   "cell_type": "code",
   "execution_count": 3,
   "metadata": {},
   "outputs": [
    {
     "name": "stdout",
     "output_type": "stream",
     "text": [
      "Mel filter version loading block.\n",
      "Csv from wav files already existend. Skipping calc_fft_mel.\n",
      "Loading dev set:\n"
     ]
    },
    {
     "name": "stderr",
     "output_type": "stream",
     "text": [
      "30044it [00:25, 1180.25it/s]\n",
      "47it [00:00, 463.86it/s]"
     ]
    },
    {
     "name": "stdout",
     "output_type": "stream",
     "text": [
      "Loading eval set:\n"
     ]
    },
    {
     "name": "stderr",
     "output_type": "stream",
     "text": [
      "3000it [00:06, 455.18it/s]\n"
     ]
    },
    {
     "name": "stdout",
     "output_type": "stream",
     "text": [
      "Scaling files.\n",
      "minmax scaling chosen.\n",
      "Saving to numpy arrays.\n"
     ]
    }
   ],
   "source": [
    "# frame size and not stride! smaller discretization\n",
    "pipe_param = {'data_folder': './../data/',\n",
    "                  'wav_files_folder': 'final_pre_dataset', # mel parameter\n",
    "                  'frame_size': 0.2, 'frame_stride': 0.098,\n",
    "                  'mel_filter': 16, 'nfft': 512,\n",
    "                  'dev_csv': 'dev-labels.csv', # filelisten, falls man doch auf kleinerem probieren moechte\n",
    "                  'eval_csv': 'challenge_filelist_dummy.csv',\n",
    "                  'scaling': 'minmax', # 'standard', 'minmax' oder 'no' wenn kein scaling sein soll\n",
    "                  'test_split_range': (8000, -1), # index anfang und ende aus dev set \n",
    "                  'prediction_path': './', # wo prediction csvs gespeichert werden sollen\n",
    "                  'post_processing': 'fill', # 'fill' is das von Jannes.\n",
    "                  'post_timethres': 0.8, # post processing parameter\n",
    "                  'post_noisethres': 0.3,\n",
    "                  'post_base': 2,\n",
    "                  'submission_file_path': './challenge_submission_.csv'}\n",
    "\n",
    "x_dev, y_dev, timep, filelist_dev, x_ch, filelist_ch = bbdc.loading_block2(pipe_param)"
   ]
  },
  {
   "cell_type": "code",
   "execution_count": 4,
   "metadata": {},
   "outputs": [
    {
     "name": "stderr",
     "output_type": "stream",
     "text": [
      "105it [00:00, 1049.39it/s]"
     ]
    },
    {
     "name": "stdout",
     "output_type": "stream",
     "text": [
      "Mel filter version loading block.\n",
      "Csv from wav files already existend. Skipping calc_fft_mel.\n",
      "Loading dev set:\n"
     ]
    },
    {
     "name": "stderr",
     "output_type": "stream",
     "text": [
      "30044it [00:27, 1108.58it/s]\n",
      "39it [00:00, 383.87it/s]"
     ]
    },
    {
     "name": "stdout",
     "output_type": "stream",
     "text": [
      "Loading eval set:\n"
     ]
    },
    {
     "name": "stderr",
     "output_type": "stream",
     "text": [
      "3000it [00:06, 444.79it/s]\n"
     ]
    },
    {
     "name": "stdout",
     "output_type": "stream",
     "text": [
      "Scaling files.\n",
      "minmax097 scaling chosen.\n",
      "Saving to numpy arrays.\n"
     ]
    }
   ],
   "source": [
    "# frame size and not stride! smaller discretization\n",
    "pipe_param = {'data_folder': './../data/',\n",
    "                  'wav_files_folder': 'final_pre_dataset', # mel parameter\n",
    "                  'frame_size': 0.2, 'frame_stride': 0.098,\n",
    "                  'mel_filter': 16, 'nfft': 512,\n",
    "                  'dev_csv': 'dev-labels.csv', # filelisten, falls man doch auf kleinerem probieren moechte\n",
    "                  'eval_csv': 'challenge_filelist_dummy.csv',\n",
    "                  'scaling': 'minmax097', # 'standard', 'minmax' oder 'no' wenn kein scaling sein soll\n",
    "                  'test_split_range': (8000, -1), # index anfang und ende aus dev set \n",
    "                  'prediction_path': './', # wo prediction csvs gespeichert werden sollen\n",
    "                  'post_processing': 'fill', # 'fill' is das von Jannes.\n",
    "                  'post_timethres': 0.8, # post processing parameter\n",
    "                  'post_noisethres': 0.3,\n",
    "                  'post_base': 2,\n",
    "                  'submission_file_path': './challenge_submission_.csv'}\n",
    "\n",
    "x_dev, y_dev, timep, filelist_dev, x_ch, filelist_ch = bbdc.loading_block2(pipe_param)"
   ]
  },
  {
   "cell_type": "code",
   "execution_count": 5,
   "metadata": {},
   "outputs": [
    {
     "name": "stdout",
     "output_type": "stream",
     "text": [
      "Mel filter version loading block.\n",
      "Csv from wav files already existend. Skipping calc_fft_mel.\n",
      "Loading dev set:\n"
     ]
    },
    {
     "name": "stderr",
     "output_type": "stream",
     "text": [
      "30044it [00:25, 1168.57it/s]\n",
      "46it [00:00, 453.12it/s]"
     ]
    },
    {
     "name": "stdout",
     "output_type": "stream",
     "text": [
      "Loading eval set:\n"
     ]
    },
    {
     "name": "stderr",
     "output_type": "stream",
     "text": [
      "3000it [00:06, 448.67it/s]\n"
     ]
    },
    {
     "name": "stdout",
     "output_type": "stream",
     "text": [
      "Scaling files.\n",
      "robust scaling chosen.\n"
     ]
    },
    {
     "ename": "AttributeError",
     "evalue": "'RobustScaler' object has no attribute 'partial_fit'",
     "output_type": "error",
     "traceback": [
      "\u001b[0;31m---------------------------------------------------------------------------\u001b[0m",
      "\u001b[0;31mAttributeError\u001b[0m                            Traceback (most recent call last)",
      "\u001b[0;32m<ipython-input-5-2670c896ca53>\u001b[0m in \u001b[0;36m<module>\u001b[0;34m\u001b[0m\n\u001b[1;32m     15\u001b[0m                   'submission_file_path': './challenge_submission_.csv'}\n\u001b[1;32m     16\u001b[0m \u001b[0;34m\u001b[0m\u001b[0m\n\u001b[0;32m---> 17\u001b[0;31m \u001b[0mx_dev\u001b[0m\u001b[0;34m,\u001b[0m \u001b[0my_dev\u001b[0m\u001b[0;34m,\u001b[0m \u001b[0mtimep\u001b[0m\u001b[0;34m,\u001b[0m \u001b[0mfilelist_dev\u001b[0m\u001b[0;34m,\u001b[0m \u001b[0mx_ch\u001b[0m\u001b[0;34m,\u001b[0m \u001b[0mfilelist_ch\u001b[0m \u001b[0;34m=\u001b[0m \u001b[0mbbdc\u001b[0m\u001b[0;34m.\u001b[0m\u001b[0mloading_block2\u001b[0m\u001b[0;34m(\u001b[0m\u001b[0mpipe_param\u001b[0m\u001b[0;34m)\u001b[0m\u001b[0;34m\u001b[0m\u001b[0;34m\u001b[0m\u001b[0m\n\u001b[0m",
      "\u001b[0;32m~/Uni/Master/Machine_Learning/bbdc2021/bbdc2021.py\u001b[0m in \u001b[0;36mloading_block2\u001b[0;34m(param)\u001b[0m\n\u001b[1;32m    506\u001b[0m                                                           pathToDataDir=param['data_folder'])\n\u001b[1;32m    507\u001b[0m         \u001b[0mprint\u001b[0m\u001b[0;34m(\u001b[0m\u001b[0;34m'Scaling files.'\u001b[0m\u001b[0;34m)\u001b[0m\u001b[0;34m\u001b[0m\u001b[0;34m\u001b[0m\u001b[0m\n\u001b[0;32m--> 508\u001b[0;31m         \u001b[0mX_dev\u001b[0m\u001b[0;34m,\u001b[0m \u001b[0mX_challenge\u001b[0m \u001b[0;34m=\u001b[0m \u001b[0mscale\u001b[0m\u001b[0;34m(\u001b[0m\u001b[0mX_dev\u001b[0m\u001b[0;34m,\u001b[0m \u001b[0mX_challenge\u001b[0m\u001b[0;34m,\u001b[0m \u001b[0mscaling\u001b[0m\u001b[0;34m=\u001b[0m\u001b[0mparam\u001b[0m\u001b[0;34m[\u001b[0m\u001b[0;34m'scaling'\u001b[0m\u001b[0;34m]\u001b[0m\u001b[0;34m)\u001b[0m\u001b[0;34m\u001b[0m\u001b[0;34m\u001b[0m\u001b[0m\n\u001b[0m\u001b[1;32m    509\u001b[0m         \u001b[0mprint\u001b[0m\u001b[0;34m(\u001b[0m\u001b[0;34m'Saving to numpy arrays.'\u001b[0m\u001b[0;34m)\u001b[0m\u001b[0;34m\u001b[0m\u001b[0;34m\u001b[0m\u001b[0m\n\u001b[1;32m    510\u001b[0m         \u001b[0mos\u001b[0m\u001b[0;34m.\u001b[0m\u001b[0mmakedirs\u001b[0m\u001b[0;34m(\u001b[0m\u001b[0mnpy_folder\u001b[0m\u001b[0;34m)\u001b[0m\u001b[0;34m\u001b[0m\u001b[0;34m\u001b[0m\u001b[0m\n",
      "\u001b[0;32m~/Uni/Master/Machine_Learning/bbdc2021/bbdc2021.py\u001b[0m in \u001b[0;36mscale\u001b[0;34m(x_dev, x_challenge, scaling)\u001b[0m\n\u001b[1;32m    403\u001b[0m     \u001b[0;31m# fit\u001b[0m\u001b[0;34m\u001b[0m\u001b[0;34m\u001b[0m\u001b[0;34m\u001b[0m\u001b[0m\n\u001b[1;32m    404\u001b[0m     \u001b[0;32mfor\u001b[0m \u001b[0minstance\u001b[0m \u001b[0;32min\u001b[0m \u001b[0mx_dev\u001b[0m\u001b[0;34m:\u001b[0m\u001b[0;34m\u001b[0m\u001b[0;34m\u001b[0m\u001b[0m\n\u001b[0;32m--> 405\u001b[0;31m         \u001b[0mscaler\u001b[0m\u001b[0;34m.\u001b[0m\u001b[0mpartial_fit\u001b[0m\u001b[0;34m(\u001b[0m\u001b[0minstance\u001b[0m\u001b[0;34m)\u001b[0m\u001b[0;34m\u001b[0m\u001b[0;34m\u001b[0m\u001b[0m\n\u001b[0m\u001b[1;32m    406\u001b[0m     \u001b[0;32mfor\u001b[0m \u001b[0minstance\u001b[0m \u001b[0;32min\u001b[0m \u001b[0mx_challenge\u001b[0m\u001b[0;34m:\u001b[0m\u001b[0;34m\u001b[0m\u001b[0;34m\u001b[0m\u001b[0m\n\u001b[1;32m    407\u001b[0m         \u001b[0mscaler\u001b[0m\u001b[0;34m.\u001b[0m\u001b[0mpartial_fit\u001b[0m\u001b[0;34m(\u001b[0m\u001b[0minstance\u001b[0m\u001b[0;34m)\u001b[0m\u001b[0;34m\u001b[0m\u001b[0;34m\u001b[0m\u001b[0m\n",
      "\u001b[0;31mAttributeError\u001b[0m: 'RobustScaler' object has no attribute 'partial_fit'"
     ]
    }
   ],
   "source": [
    "# frame size and not stride! smaller discretization\n",
    "pipe_param = {'data_folder': './../data/',\n",
    "                  'wav_files_folder': 'final_pre_dataset', # mel parameter\n",
    "                  'frame_size': 0.2, 'frame_stride': 0.098,\n",
    "                  'mel_filter': 16, 'nfft': 512,\n",
    "                  'dev_csv': 'dev-labels.csv', # filelisten, falls man doch auf kleinerem probieren moechte\n",
    "                  'eval_csv': 'challenge_filelist_dummy.csv',\n",
    "                  'scaling': 'robust', # 'standard', 'minmax' oder 'no' wenn kein scaling sein soll\n",
    "                  'test_split_range': (8000, -1), # index anfang und ende aus dev set \n",
    "                  'prediction_path': './', # wo prediction csvs gespeichert werden sollen\n",
    "                  'post_processing': 'fill', # 'fill' is das von Jannes.\n",
    "                  'post_timethres': 0.8, # post processing parameter\n",
    "                  'post_noisethres': 0.3,\n",
    "                  'post_base': 2,\n",
    "                  'submission_file_path': './challenge_submission_.csv'}\n",
    "\n",
    "x_dev, y_dev, timep, filelist_dev, x_ch, filelist_ch = bbdc.loading_block2(pipe_param)"
   ]
  },
  {
   "cell_type": "code",
   "execution_count": 6,
   "metadata": {},
   "outputs": [
    {
     "name": "stderr",
     "output_type": "stream",
     "text": [
      "2it [00:00, 19.76it/s]"
     ]
    },
    {
     "name": "stdout",
     "output_type": "stream",
     "text": [
      "Mel filter version loading block.\n",
      "Starting transformation from wav files to csv files (mel).\n",
      "Processing dev files:\n"
     ]
    },
    {
     "name": "stderr",
     "output_type": "stream",
     "text": [
      "10000it [08:58, 18.56it/s]\n",
      "2it [00:00, 15.15it/s]"
     ]
    },
    {
     "name": "stdout",
     "output_type": "stream",
     "text": [
      "Processing eval files:\n"
     ]
    },
    {
     "name": "stderr",
     "output_type": "stream",
     "text": [
      "3000it [02:36, 19.11it/s]\n",
      "0it [00:00, ?it/s]"
     ]
    },
    {
     "name": "stdout",
     "output_type": "stream",
     "text": [
      "Loading dev set:\n"
     ]
    },
    {
     "name": "stderr",
     "output_type": "stream",
     "text": [
      "30044it [01:40, 300.34it/s]\n",
      "6it [00:00, 56.21it/s]"
     ]
    },
    {
     "name": "stdout",
     "output_type": "stream",
     "text": [
      "Loading eval set:\n"
     ]
    },
    {
     "name": "stderr",
     "output_type": "stream",
     "text": [
      "3000it [00:30, 99.09it/s] \n"
     ]
    },
    {
     "name": "stdout",
     "output_type": "stream",
     "text": [
      "Scaling files.\n",
      "standard scaling chosen.\n",
      "Saving to numpy arrays.\n"
     ]
    }
   ],
   "source": [
    "# frame size and not stride! smaller discretization\n",
    "pipe_param = {'data_folder': './../data/',\n",
    "                  'wav_files_folder': 'final_pre_dataset', # mel parameter\n",
    "                  'frame_size': 0.1, 'frame_stride': 0.0496,\n",
    "                  'mel_filter': 32, 'nfft': 512,\n",
    "                  'dev_csv': 'dev-labels.csv', # filelisten, falls man doch auf kleinerem probieren moechte\n",
    "                  'eval_csv': 'challenge_filelist_dummy.csv',\n",
    "                  'scaling': 'standard', # 'standard', 'minmax' oder 'no' wenn kein scaling sein soll\n",
    "                  'test_split_range': (8000, -1), # index anfang und ende aus dev set \n",
    "                  'prediction_path': './', # wo prediction csvs gespeichert werden sollen\n",
    "                  'post_processing': 'fill', # 'fill' is das von Jannes.\n",
    "                  'post_timethres': 0.8, # post processing parameter\n",
    "                  'post_noisethres': 0.3,\n",
    "                  'post_base': 2,\n",
    "                  'submission_file_path': './challenge_submission_.csv'}\n",
    "\n",
    "x_dev, y_dev, timep, filelist_dev, x_ch, filelist_ch = bbdc.loading_block2(pipe_param)"
   ]
  },
  {
   "cell_type": "code",
   "execution_count": null,
   "metadata": {},
   "outputs": [],
   "source": [
    "# see colab notebook unet for 2dunet calculations"
   ]
  }
 ],
 "metadata": {
  "kernelspec": {
   "display_name": "Python 3",
   "language": "python",
   "name": "python3"
  },
  "language_info": {
   "codemirror_mode": {
    "name": "ipython",
    "version": 3
   },
   "file_extension": ".py",
   "mimetype": "text/x-python",
   "name": "python",
   "nbconvert_exporter": "python",
   "pygments_lexer": "ipython3",
   "version": "3.8.5"
  }
 },
 "nbformat": 4,
 "nbformat_minor": 4
}
