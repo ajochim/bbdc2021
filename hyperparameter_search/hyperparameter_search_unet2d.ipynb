{
 "cells": [
  {
   "cell_type": "code",
   "execution_count": 1,
   "metadata": {},
   "outputs": [],
   "source": [
    "import os\n",
    "import sys\n",
    "sys.path.insert(0, './../')\n",
    "import bbdc2021 as bbdc"
   ]
  },
  {
   "cell_type": "code",
   "execution_count": 1,
   "metadata": {},
   "outputs": [],
   "source": [
    "pipe_param = {'data_folder': './../data/',\n",
    "                  'wav_files_folder': 'final_pre_dataset', # mel parameter\n",
    "                  'frame_size': 0.04, 'frame_stride': 0.02495,\n",
    "                  'mel_filter': 32, 'nfft': 512,\n",
    "                  'dev_csv': 'dev-labels.csv', # filelisten, falls man doch auf kleinerem probieren moechte\n",
    "                  'eval_csv': 'challenge_filelist_dummy.csv',\n",
    "                  'scaling': 'standard', # 'standard', 'minmax' oder 'no' wenn kein scaling sein soll\n",
    "                  'test_split_range': (8000, -1), # index anfang und ende aus dev set \n",
    "                  'prediction_path': './', # wo prediction csvs gespeichert werden sollen\n",
    "                  'post_processing': 'fill', # 'fill' is das von Jannes.\n",
    "                  'post_timethres': 0.5, # post processing parameter\n",
    "                  'post_noisethres': 0.3,\n",
    "                  'post_base': 2,\n",
    "                  'submission_file_path': './challenge_submission.csv'}\n",
    "unet_param = {'channels': [32, 64, 64],\n",
    "              'val_split_range': (6400, -1), # 0.2\n",
    "              'loss': 'categorical_crossentropy', # bbdc.dice_loss moeglich\n",
    "              'learning_rate': 0.001,\n",
    "              'batch_size': 20,\n",
    "              'epochs': 30,\n",
    "              'model_save_path': './',\n",
    "              'load_path': None} # Wenn trainiert werden soll: None; Submission 1: 'model9561.h5'"
   ]
  },
  {
   "cell_type": "code",
   "execution_count": 2,
   "metadata": {},
   "outputs": [],
   "source": [
    "def pipeline_u_net2d_1(pipe_param, model_param):\n",
    "    \"\"\"Current u_net2d pipeline from loading data to prediction.\n",
    "    Takes paramater dictionary as argument\"\"\"\n",
    "    print('Pipeline parameter:', pipe_param)\n",
    "    print('Model parameter:', model_param)\n",
    "    # load\n",
    "    x_dev, y_dev, timep, filelist_dev, x_ch, filelist_ch = bbdc.loading_block2(pipe_param)\n",
    "    # shuffle\n",
    "    x_dev, y_dev, filelist_dev = bbdc.shuffle_block1(x_dev, y_dev, filelist_dev)\n",
    "    # split (tv=train and val set)\n",
    "    x_tv, x_test, y_tv, y_test, filelist_test = bbdc.split_block1(x_dev, y_dev, timep, filelist_dev, pipe_param)\n",
    "    # model fit (or load)\n",
    "    history, model = bbdc.model_block1_unet2d(x_tv, y_tv, model_param)\n",
    "    # evaluate\n",
    "    scores_list, model_psds = bbdc.evaluation_block1(x_test, y_test, timep, filelist_test, model, pipe_param)\n",
    "    # post processing and its evaluation\n",
    "    pp_pred_test, pp_pred_ch, pp_psds = bbdc.postprocessing_with_evaluation_block1(x_test, y_test, timep,\n",
    "                                                                                   filelist_test, x_ch,\n",
    "                                                                                   filelist_ch, model, pipe_param)\n",
    "    # challenge prediction\n",
    "    bbdc.challenge_prediction_block1(pp_pred_ch, timep, filelist_ch, pipe_param)\n",
    "    return scores_list, model_psds, pp_psds"
   ]
  },
  {
   "cell_type": "code",
   "execution_count": 3,
   "metadata": {},
   "outputs": [
    {
     "name": "stdout",
     "output_type": "stream",
     "text": [
      "Pipeline parameter: {'data_folder': './../data/', 'wav_files_folder': 'final_pre_dataset', 'frame_size': 0.04, 'frame_stride': 0.02495, 'mel_filter': 32, 'nfft': 512, 'dev_csv': 'dev-labels.csv', 'eval_csv': 'challenge_filelist_dummy.csv', 'scaling': 'standard', 'test_split_range': (8000, -1), 'prediction_path': './', 'post_processing': 'fill', 'post_timethres': 0.5, 'post_noisethres': 0.3, 'post_base': 2, 'submission_file_path': './challenge_submission.csv'}\n",
      "Model parameter: {'channels': [32, 64, 64], 'val_split_range': (6400, -1), 'loss': 'categorical_crossentropy', 'learning_rate': 0.001, 'batch_size': 20, 'epochs': 30, 'model_save_path': './', 'load_path': None}\n"
     ]
    },
    {
     "ename": "NameError",
     "evalue": "name 'bbdc' is not defined",
     "output_type": "error",
     "traceback": [
      "\u001b[0;31m---------------------------------------------------------------------------\u001b[0m",
      "\u001b[0;31mNameError\u001b[0m                                 Traceback (most recent call last)",
      "\u001b[0;32m<ipython-input-3-33940e5bc7f2>\u001b[0m in \u001b[0;36m<module>\u001b[0;34m\u001b[0m\n\u001b[0;32m----> 1\u001b[0;31m \u001b[0mpipeline_u_net2d_1\u001b[0m\u001b[0;34m(\u001b[0m\u001b[0mpipe_param\u001b[0m\u001b[0;34m,\u001b[0m \u001b[0munet_param\u001b[0m\u001b[0;34m)\u001b[0m\u001b[0;34m\u001b[0m\u001b[0;34m\u001b[0m\u001b[0m\n\u001b[0m",
      "\u001b[0;32m<ipython-input-2-a20b0c41c8bf>\u001b[0m in \u001b[0;36mpipeline_u_net2d_1\u001b[0;34m(pipe_param, model_param)\u001b[0m\n\u001b[1;32m      5\u001b[0m     \u001b[0mprint\u001b[0m\u001b[0;34m(\u001b[0m\u001b[0;34m'Model parameter:'\u001b[0m\u001b[0;34m,\u001b[0m \u001b[0mmodel_param\u001b[0m\u001b[0;34m)\u001b[0m\u001b[0;34m\u001b[0m\u001b[0;34m\u001b[0m\u001b[0m\n\u001b[1;32m      6\u001b[0m     \u001b[0;31m# load\u001b[0m\u001b[0;34m\u001b[0m\u001b[0;34m\u001b[0m\u001b[0;34m\u001b[0m\u001b[0m\n\u001b[0;32m----> 7\u001b[0;31m     \u001b[0mx_dev\u001b[0m\u001b[0;34m,\u001b[0m \u001b[0my_dev\u001b[0m\u001b[0;34m,\u001b[0m \u001b[0mtimep\u001b[0m\u001b[0;34m,\u001b[0m \u001b[0mfilelist_dev\u001b[0m\u001b[0;34m,\u001b[0m \u001b[0mx_ch\u001b[0m\u001b[0;34m,\u001b[0m \u001b[0mfilelist_ch\u001b[0m \u001b[0;34m=\u001b[0m \u001b[0mbbdc\u001b[0m\u001b[0;34m.\u001b[0m\u001b[0mloading_block2\u001b[0m\u001b[0;34m(\u001b[0m\u001b[0mpipe_param\u001b[0m\u001b[0;34m)\u001b[0m\u001b[0;34m\u001b[0m\u001b[0;34m\u001b[0m\u001b[0m\n\u001b[0m\u001b[1;32m      8\u001b[0m     \u001b[0;31m# shuffle\u001b[0m\u001b[0;34m\u001b[0m\u001b[0;34m\u001b[0m\u001b[0;34m\u001b[0m\u001b[0m\n\u001b[1;32m      9\u001b[0m     \u001b[0mx_dev\u001b[0m\u001b[0;34m,\u001b[0m \u001b[0my_dev\u001b[0m\u001b[0;34m,\u001b[0m \u001b[0mfilelist_dev\u001b[0m \u001b[0;34m=\u001b[0m \u001b[0mbbdc\u001b[0m\u001b[0;34m.\u001b[0m\u001b[0mshuffle_block1\u001b[0m\u001b[0;34m(\u001b[0m\u001b[0mx_dev\u001b[0m\u001b[0;34m,\u001b[0m \u001b[0my_dev\u001b[0m\u001b[0;34m,\u001b[0m \u001b[0mfilelist_dev\u001b[0m\u001b[0;34m)\u001b[0m\u001b[0;34m\u001b[0m\u001b[0;34m\u001b[0m\u001b[0m\n",
      "\u001b[0;31mNameError\u001b[0m: name 'bbdc' is not defined"
     ]
    }
   ],
   "source": [
    "pipeline_u_net2d_1(pipe_param, unet_param)"
   ]
  },
  {
   "cell_type": "code",
   "execution_count": null,
   "metadata": {},
   "outputs": [],
   "source": [
    "# see colab notebook unet for 2dunet calculations"
   ]
  }
 ],
 "metadata": {
  "kernelspec": {
   "display_name": "Python 3",
   "language": "python",
   "name": "python3"
  },
  "language_info": {
   "codemirror_mode": {
    "name": "ipython",
    "version": 3
   },
   "file_extension": ".py",
   "mimetype": "text/x-python",
   "name": "python",
   "nbconvert_exporter": "python",
   "pygments_lexer": "ipython3",
   "version": "3.8.5"
  }
 },
 "nbformat": 4,
 "nbformat_minor": 4
}
