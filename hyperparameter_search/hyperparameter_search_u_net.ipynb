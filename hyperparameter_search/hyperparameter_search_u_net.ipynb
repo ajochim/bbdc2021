{
 "cells": [
  {
   "cell_type": "code",
   "execution_count": 1,
   "metadata": {},
   "outputs": [],
   "source": [
    "import sys\n",
    "sys.path.insert(0, './../')\n",
    "import bbdc2021 as bbdc"
   ]
  },
  {
   "cell_type": "code",
   "execution_count": 2,
   "metadata": {},
   "outputs": [],
   "source": [
    "pipe_param = {'data_folder': './../data/',\n",
    "                  'wav_files_folder': 'final_pre_dataset', # fft parameter\n",
    "                  'window_length': 1024, 'window_overlap': 523,\n",
    "                  'band_size': 4, 'sample_rate': 16000,\n",
    "                  'dev_csv': 'dev-labels.csv', # filelisten, falls man doch auf kleinerem probieren möchte\n",
    "                  'eval_csv': 'challenge_filelist_dummy.csv',\n",
    "                  'scaling': 'no', # 'standard', 'minmax' oder 'no' wenn kein scaling sein soll\n",
    "                  'test_split_fraction': 0.1,\n",
    "                  'prediction_path': './', # wo prediction csvs gespeichert werden sollen\n",
    "                  'post_processing': 'fill', # 'fill' is das von Jannes\n",
    "                  'submission_file_path': './challenge_submission.csv'}\n",
    "unet_param = {'channels': [32, 64, 90],\n",
    "              'lessParameter': True,\n",
    "              'val_split_fraction': 1/9, # 1/9 damit man 1000 von den 9000 abzweigt\n",
    "              'loss': 'categorical_crossentropy', # bbdc.dice_loss möglich\n",
    "              'learning_rate': 0.001,\n",
    "              'batch_size': 15,\n",
    "              'epochs': 100,\n",
    "              'load_path': 'model9561.h5'} # None, wenn trainiert werden soll"
   ]
  },
  {
   "cell_type": "code",
   "execution_count": 3,
   "metadata": {},
   "outputs": [
    {
     "name": "stdout",
     "output_type": "stream",
     "text": [
      "Csv from wav files already existend. Skipping calc_fft.\n",
      "Scaled numpy files already existend. Skipping scaling and load_data function.\n",
      "Splitting last 0.1 from dev set as test set.\n"
     ]
    }
   ],
   "source": [
    "#def pipeline_u_net_1(pipe_param, model_param):\n",
    "#    \"\"\"Current u_net pipeline from loading data to prediction.\n",
    "#    Takes paramater dictionary as argument\"\"\"\n",
    "\n",
    "# load\n",
    "x_dev, y_dev, timep, filelist_dev, x_ch, filelist_ch = bbdc.loading_block1(pipe_param)\n",
    "# split (tv=train and val set)\n",
    "x_tv, x_test, y_tv, y_test, filelist_test = bbdc.split_block1(x_dev, y_dev, timep, filelist_dev, pipe_param)"
   ]
  },
  {
   "cell_type": "code",
   "execution_count": 4,
   "metadata": {
    "scrolled": true
   },
   "outputs": [
    {
     "name": "stdout",
     "output_type": "stream",
     "text": [
      "Tensorflow version: 2.4.1\n",
      "Loading existing model from path: model9561.h5\n",
      "32/32 [==============================] - 2s 26ms/step - loss: 4.0955 - mae: 0.1101 - accuracy: 0.2969\n",
      "\n",
      "Evaluation:\n",
      "Loss, MAE, Accuracy [4.095458507537842, 0.11012133955955505, 0.29691874980926514]\n",
      "PSDS (0.0031293375250592325, 'Valid file')\n",
      "\n",
      "Filling post processing used.\n",
      "PSDS (0.08373749890813155, 'Valid file')\n"
     ]
    },
    {
     "name": "stderr",
     "output_type": "stream",
     "text": [
      "/home/alex/.local/lib/python3.8/site-packages/numpy/core/fromnumeric.py:3372: RuntimeWarning: Mean of empty slice.\n",
      "  return _methods._mean(a, axis=axis, dtype=dtype,\n",
      "/home/alex/.local/lib/python3.8/site-packages/numpy/core/_methods.py:170: RuntimeWarning: invalid value encountered in double_scalars\n",
      "  ret = ret.dtype.type(ret / rcount)\n"
     ]
    },
    {
     "name": "stdout",
     "output_type": "stream",
     "text": [
      "Submission file saved at ./challenge_submission.csv\n"
     ]
    }
   ],
   "source": [
    "# model fit (or load)\n",
    "history, model = bbdc.model_block1_unet(x_tv, y_tv, unet_param)\n",
    "# evaluate\n",
    "bbdc.evaluation_block1(x_test, y_test, timep, filelist_test, model, pipe_param)\n",
    "# post processing and its evaluation\n",
    "pp_pred_test, pp_pred_ch = bbdc.postprocessing_with_evaluation_block1(x_test, y_test, timep, filelist_test,\n",
    "                                                                      x_ch, filelist_ch, model, pipe_param)\n",
    "# challenge prediction\n",
    "bbdc.challenge_prediction_block1(pp_pred_ch, timep, filelist_ch, pipe_param)"
   ]
  },
  {
   "cell_type": "code",
   "execution_count": 5,
   "metadata": {},
   "outputs": [
    {
     "data": {
      "image/png": "[encoded data removed]",
      "text/plain": [
       "<Figure size 2160x1440 with 1 Axes>"
      ]
     },
     "metadata": {
      "needs_background": "light"
     },
     "output_type": "display_data"
    },
    {
     "data": {
      "image/png": "[encoded data removed]",
      "text/plain": [
       "<Figure size 2160x1440 with 1 Axes>"
      ]
     },
     "metadata": {
      "needs_background": "light"
     },
     "output_type": "display_data"
    }
   ],
   "source": [
    "# Compare model prediction and post processed model prediction to ground truth\n",
    "case = 0\n",
    "bbdc.plotPredictionAndGT(y_test, model.predict(x_test), case)\n",
    "bbdc.plotPredictionAndGT(y_test, pp_pred_test, case)"
   ]
  },
  {
   "cell_type": "code",
   "execution_count": null,
   "metadata": {},
   "outputs": [],
   "source": []
  }
 ],
 "metadata": {
  "kernelspec": {
   "display_name": "Python 3",
   "language": "python",
   "name": "python3"
  },
  "language_info": {
   "codemirror_mode": {
    "name": "ipython",
    "version": 3
   },
   "file_extension": ".py",
   "mimetype": "text/x-python",
   "name": "python",
   "nbconvert_exporter": "python",
   "pygments_lexer": "ipython3",
   "version": "3.8.5"
  }
 },
 "nbformat": 4,
 "nbformat_minor": 4
}
