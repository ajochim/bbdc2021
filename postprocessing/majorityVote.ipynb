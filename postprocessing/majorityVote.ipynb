{
 "cells": [
  {
   "cell_type": "code",
   "execution_count": 148,
   "id": "guided-terrorist",
   "metadata": {},
   "outputs": [],
   "source": [
    "import sys  \n",
    "sys.path.insert(0, './../')\n",
    "import pandas as pd\n",
    "import numpy as np\n",
    "from collections import Counter\n",
    "import itertools\n",
    "import evaluation.evaluate as evaluate"
   ]
  },
  {
   "cell_type": "markdown",
   "id": "composed-evidence",
   "metadata": {},
   "source": [
    "# Load Predictions and decide for label by majority vote"
   ]
  },
  {
   "cell_type": "code",
   "execution_count": 151,
   "id": "helpful-windows",
   "metadata": {},
   "outputs": [],
   "source": [
    "predictionFiles = ['../submissions/submission01/LP1d_PredictionChallenge.csv', '../submissions/submission03/2d_PredictionChallenge_mel.csv', '../predictions/jannes/secondPredictionChallengeWithSecondLikely.csv']\n",
    "mainPrediction = 2\n",
    "#predictionFiles = ['../predictions/jannes/LP1d_Prediction_mel_pp_test.csv', \"./../data/test.csv\"]\n",
    "#mainPrediciton = 0\n",
    "predictions = [pd.read_csv(predFile) for predFile in predictionFiles]"
   ]
  },
  {
   "cell_type": "code",
   "execution_count": 53,
   "id": "general-sheep",
   "metadata": {},
   "outputs": [
    {
     "data": {
      "text/html": [
       "<div>\n",
       "<style scoped>\n",
       "    .dataframe tbody tr th:only-of-type {\n",
       "        vertical-align: middle;\n",
       "    }\n",
       "\n",
       "    .dataframe tbody tr th {\n",
       "        vertical-align: top;\n",
       "    }\n",
       "\n",
       "    .dataframe thead th {\n",
       "        text-align: right;\n",
       "    }\n",
       "</style>\n",
       "<table border=\"1\" class=\"dataframe\">\n",
       "  <thead>\n",
       "    <tr style=\"text-align: right;\">\n",
       "      <th></th>\n",
       "      <th>filename</th>\n",
       "      <th>onset</th>\n",
       "      <th>offset</th>\n",
       "      <th>event_label</th>\n",
       "    </tr>\n",
       "  </thead>\n",
       "  <tbody>\n",
       "    <tr>\n",
       "      <th>0</th>\n",
       "      <td>10001_mix.wav</td>\n",
       "      <td>2.880750</td>\n",
       "      <td>3.851437</td>\n",
       "      <td>Cheering</td>\n",
       "    </tr>\n",
       "    <tr>\n",
       "      <th>1</th>\n",
       "      <td>10001_mix.wav</td>\n",
       "      <td>5.479687</td>\n",
       "      <td>6.450375</td>\n",
       "      <td>Fireworks</td>\n",
       "    </tr>\n",
       "    <tr>\n",
       "      <th>2</th>\n",
       "      <td>10002_mix.wav</td>\n",
       "      <td>0.438375</td>\n",
       "      <td>3.475687</td>\n",
       "      <td>Fireworks</td>\n",
       "    </tr>\n",
       "    <tr>\n",
       "      <th>3</th>\n",
       "      <td>10002_mix.wav</td>\n",
       "      <td>5.135250</td>\n",
       "      <td>6.074625</td>\n",
       "      <td>Bark</td>\n",
       "    </tr>\n",
       "    <tr>\n",
       "      <th>4</th>\n",
       "      <td>10002_mix.wav</td>\n",
       "      <td>7.608937</td>\n",
       "      <td>8.798813</td>\n",
       "      <td>Fireworks</td>\n",
       "    </tr>\n",
       "  </tbody>\n",
       "</table>\n",
       "</div>"
      ],
      "text/plain": [
       "        filename     onset    offset event_label\n",
       "0  10001_mix.wav  2.880750  3.851437    Cheering\n",
       "1  10001_mix.wav  5.479687  6.450375   Fireworks\n",
       "2  10002_mix.wav  0.438375  3.475687   Fireworks\n",
       "3  10002_mix.wav  5.135250  6.074625        Bark\n",
       "4  10002_mix.wav  7.608937  8.798813   Fireworks"
      ]
     },
     "execution_count": 53,
     "metadata": {},
     "output_type": "execute_result"
    }
   ],
   "source": [
    "predictions[0].head()"
   ]
  },
  {
   "cell_type": "code",
   "execution_count": 90,
   "id": "swedish-bankruptcy",
   "metadata": {},
   "outputs": [],
   "source": [
    "def findOverlap(otherRows, onset, offset):\n",
    "    overlappingSequences = []\n",
    "    for index, otherRow in otherRows.iterrows():\n",
    "        if otherRow.onset<=offset and otherRow.offset>=onset and offset-onset>0:\n",
    "            overlapOnset = otherRow.onset if otherRow.onset>onset else onset\n",
    "            overlapOffset = otherRow.offset if otherRow.offset<offset else offset\n",
    "            overlap = (overlapOffset-overlapOnset)/(offset-onset)\n",
    "            overlappingSequences.append([overlapOnset, overlapOffset, overlap, otherRow.event_label])\n",
    "    return overlappingSequences"
   ]
  },
  {
   "cell_type": "code",
   "execution_count": 152,
   "id": "linear-question",
   "metadata": {},
   "outputs": [],
   "source": [
    "newPrediction = []\n",
    "secondChoice = []\n",
    "for filename in predictions[mainPrediction].filename.unique():\n",
    "    fileRows = [df.loc[df['filename'] == filename] for df in predictions]\n",
    "    for index, sequence in fileRows[mainPrediction].iterrows():\n",
    "        overlapping = [findOverlap(other, sequence.onset, sequence.offset) for other in fileRows]\n",
    "        overlapping = list(itertools.chain(*overlapping))\n",
    "        labels = [overlappingSequence[-1] for overlappingSequence in overlapping]\n",
    "        occurenceCounter = Counter(labels).most_common(5)\n",
    "        sumOfLabels = sum([occ[1] for occ in occurenceCounter])\n",
    "        if len(occurenceCounter)>0:\n",
    "            if occurenceCounter[0][1]>1:\n",
    "                newPrediction.append([sequence.filename, sequence.onset, sequence.offset, occurenceCounter[0][0]])\n",
    "            else:\n",
    "                newPrediction.append([sequence.filename, sequence.onset, sequence.offset, sequence.event_label])\n",
    "        if len(occurenceCounter)>1:\n",
    "            occurenceCounter = [(occ[0], occ[1]/sumOfLabels) for occ in occurenceCounter]\n",
    "            secondChoice.append([sequence.filename, sequence.onset, sequence.offset, occurenceCounter[1:]])"
   ]
  },
  {
   "cell_type": "code",
   "execution_count": 153,
   "id": "lucky-smart",
   "metadata": {},
   "outputs": [],
   "source": [
    "majorityVoteDf = pd.DataFrame(data=connectedPrediction, columns=['filename', 'onset', 'offset', 'event_label'])"
   ]
  },
  {
   "cell_type": "markdown",
   "id": "bigger-supplier",
   "metadata": {},
   "source": [
    "# Connect short neighboring sequences with same label"
   ]
  },
  {
   "cell_type": "code",
   "execution_count": 154,
   "id": "occupied-earth",
   "metadata": {},
   "outputs": [],
   "source": [
    "connectedPrediction = []\n",
    "lastSequence = [\"\"]\n",
    "maxSequenceLength = 2.2\n",
    "for sequence in newPrediction:\n",
    "    if lastSequence[0]==sequence[0] and lastSequence[3]==sequence[3] and sequence[2]-lastSequence[1]<maxSequenceLength:\n",
    "        lastSequence = [sequence[0], lastSequence[1], sequence[2], sequence[3]]\n",
    "        continue\n",
    "    if len(lastSequence)==4:\n",
    "        connectedPrediction.append(lastSequence) \n",
    "    lastSequence = sequence"
   ]
  },
  {
   "cell_type": "code",
   "execution_count": 155,
   "id": "parallel-pennsylvania",
   "metadata": {},
   "outputs": [],
   "source": [
    "connectedDf = pd.DataFrame(data=connectedPrediction, columns=['filename', 'onset', 'offset', 'event_label'])"
   ]
  },
  {
   "cell_type": "code",
   "execution_count": 163,
   "id": "instant-crowd",
   "metadata": {},
   "outputs": [
    {
     "data": {
      "text/html": [
       "<div>\n",
       "<style scoped>\n",
       "    .dataframe tbody tr th:only-of-type {\n",
       "        vertical-align: middle;\n",
       "    }\n",
       "\n",
       "    .dataframe tbody tr th {\n",
       "        vertical-align: top;\n",
       "    }\n",
       "\n",
       "    .dataframe thead th {\n",
       "        text-align: right;\n",
       "    }\n",
       "</style>\n",
       "<table border=\"1\" class=\"dataframe\">\n",
       "  <thead>\n",
       "    <tr style=\"text-align: right;\">\n",
       "      <th></th>\n",
       "      <th>filename</th>\n",
       "      <th>onset</th>\n",
       "      <th>offset</th>\n",
       "      <th>event_label</th>\n",
       "    </tr>\n",
       "  </thead>\n",
       "  <tbody>\n",
       "    <tr>\n",
       "      <th>3918</th>\n",
       "      <td>11202_mix.wav</td>\n",
       "      <td>2.506266</td>\n",
       "      <td>4.511278</td>\n",
       "      <td>Shatter</td>\n",
       "    </tr>\n",
       "    <tr>\n",
       "      <th>3919</th>\n",
       "      <td>11202_mix.wav</td>\n",
       "      <td>5.388471</td>\n",
       "      <td>5.789474</td>\n",
       "      <td>Bark</td>\n",
       "    </tr>\n",
       "    <tr>\n",
       "      <th>3920</th>\n",
       "      <td>11202_mix.wav</td>\n",
       "      <td>6.491228</td>\n",
       "      <td>7.593985</td>\n",
       "      <td>Bark</td>\n",
       "    </tr>\n",
       "  </tbody>\n",
       "</table>\n",
       "</div>"
      ],
      "text/plain": [
       "           filename     onset    offset event_label\n",
       "3918  11202_mix.wav  2.506266  4.511278     Shatter\n",
       "3919  11202_mix.wav  5.388471  5.789474        Bark\n",
       "3920  11202_mix.wav  6.491228  7.593985        Bark"
      ]
     },
     "execution_count": 163,
     "metadata": {},
     "output_type": "execute_result"
    }
   ],
   "source": [
    "connectedDf.loc[connectedDf['filename'] == \"11202_mix.wav\"]"
   ]
  },
  {
   "cell_type": "markdown",
   "id": "rental-engineering",
   "metadata": {},
   "source": [
    "# Add multiple labels for each event"
   ]
  },
  {
   "cell_type": "code",
   "execution_count": null,
   "id": "extraordinary-cause",
   "metadata": {},
   "outputs": [],
   "source": [
    "multipleEvents = connectedPrediction.copy()\n",
    "secondChoiceDf = pd.DataFrame(data=secondChoice, columns=['filename', 'onset', 'offset', 'event_label'])\n",
    "for filename in predictions[mainPrediction].filename.unique():\n",
    "    predictedLabels = connectedDf.loc[connectedDf['filename'] == filename].event_label.values\n",
    "    secondChoiceRows = secondChoiceDf.loc[secondChoiceDf['filename'] == filename]\n",
    "    for index, row in secondChoiceRows.iterrows():\n",
    "        for label in row.event_label:\n",
    "            if label[0] not in predictedLabels:\n",
    "                multipleEvents.append([row.filename, row.onset, row.offset, label[0]])\n",
    "multipleEventsDf = pd.DataFrame(data=multipleEvents, columns=['filename', 'onset', 'offset', 'event_label'])"
   ]
  },
  {
   "cell_type": "code",
   "execution_count": 161,
   "id": "magnetic-lecture",
   "metadata": {},
   "outputs": [
    {
     "data": {
      "text/plain": [
       "array(['12999_mix.wav', 4.5363408521303255, 5.889724310776942, 'Meow'],\n",
       "      dtype=object)"
      ]
     },
     "execution_count": 161,
     "metadata": {},
     "output_type": "execute_result"
    }
   ],
   "source": [
    "multipleEventsDf.values[-2]"
   ]
  },
  {
   "cell_type": "code",
   "execution_count": 159,
   "id": "considerable-malta",
   "metadata": {},
   "outputs": [],
   "source": [
    "multipleEventsDf.to_csv(\"../predictions/jannes/majorityVoteChallengeMultiple.csv\", index=False)"
   ]
  },
  {
   "cell_type": "markdown",
   "id": "postal-decision",
   "metadata": {},
   "source": [
    "# Test-Daten"
   ]
  },
  {
   "cell_type": "code",
   "execution_count": 149,
   "id": "sunrise-security",
   "metadata": {},
   "outputs": [
    {
     "name": "stdout",
     "output_type": "stream",
     "text": [
      "Score was: \n",
      "(0.831134109757114, 'Valid file')\n",
      "Score now is: \n",
      "(0.9709034523809524, 'Valid file')\n"
     ]
    }
   ],
   "source": [
    "multipleEventsDf.to_csv(\"../predictions/jannes/majorityVoteTestMultiple.csv\", index=False)\n",
    "print(\"Score was: \")\n",
    "print(evaluate.evaluate(predictionFiles[0], \"./../data/test.csv\"))\n",
    "print(\"Score now is: \")\n",
    "print(evaluate.evaluate(\"../predictions/jannes/majorityVoteTestMultiple.csv\", \"./../data/test.csv\"))"
   ]
  }
 ],
 "metadata": {
  "kernelspec": {
   "display_name": "Python 3",
   "language": "python",
   "name": "python3"
  },
  "language_info": {
   "codemirror_mode": {
    "name": "ipython",
    "version": 3
   },
   "file_extension": ".py",
   "mimetype": "text/x-python",
   "name": "python",
   "nbconvert_exporter": "python",
   "pygments_lexer": "ipython3",
   "version": "3.8.8"
  }
 },
 "nbformat": 4,
 "nbformat_minor": 5
}
