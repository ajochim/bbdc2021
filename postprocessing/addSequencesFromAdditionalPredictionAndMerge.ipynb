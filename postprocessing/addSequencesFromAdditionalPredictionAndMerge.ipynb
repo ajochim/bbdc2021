{
 "cells": [
  {
   "cell_type": "code",
   "execution_count": 65,
   "id": "external-oriental",
   "metadata": {},
   "outputs": [
    {
     "data": {
      "text/plain": [
       "<module 'bbdc2021' from './../bbdc2021.py'>"
      ]
     },
     "execution_count": 65,
     "metadata": {},
     "output_type": "execute_result"
    }
   ],
   "source": [
    "import pandas as pd\n",
    "import sys  \n",
    "sys.path.insert(0, './../')\n",
    "from importlib import reload\n",
    "import bbdc2021 as bbdc\n",
    "reload(bbdc)"
   ]
  },
  {
   "cell_type": "code",
   "execution_count": 44,
   "id": "latest-poultry",
   "metadata": {},
   "outputs": [],
   "source": [
    "mainPrediction = pd.read_csv(\"../submissions/submission07/challenge_submission_t08n03b2.csv\")\n",
    "secondPrediction = pd.read_csv(\"../submissions/submission03/2d_PredictionChallenge_mel.csv\")"
   ]
  },
  {
   "cell_type": "code",
   "execution_count": 47,
   "id": "prepared-spain",
   "metadata": {},
   "outputs": [
    {
     "name": "stdout",
     "output_type": "stream",
     "text": [
      "Added 695 sequences\n"
     ]
    }
   ],
   "source": [
    "def addMissingSequences(mainPredDf, secondPredDf, minLength=0):\n",
    "    predictionsToAdd = [] \n",
    "    secondPredDf['duration'] = secondPredDf.offset - secondPredDf.onset\n",
    "    for filename in secondPredDf.filename.unique():\n",
    "        mainFileRows = mainPredDf.loc[mainPredDf['filename'] == filename]\n",
    "        secondFileRows = secondPredDf.loc[(secondPredDf['filename'] == filename) & (secondPredDf['duration']>=minLength)]\n",
    "        for index, sequence in secondFileRows.iterrows():\n",
    "            overlappingSequences = mainFileRows.loc[(mainFileRows['onset']<=sequence.offset) & (mainFileRows['offset']>=sequence.onset)]\n",
    "            if len(overlappingSequences)==0:\n",
    "                predictionsToAdd.append([sequence.filename, sequence.onset, sequence.offset, sequence.event_label])\n",
    "    additionalPredictions = pd.DataFrame(data=predictionsToAdd, columns=['filename', 'onset', 'offset', 'event_label'])\n",
    "    print(\"Added \"+str(len(predictionsToAdd)) + \" sequences\")\n",
    "    return mainPredDf.append(additionalPredictions)\n",
    "    \n",
    "predictionWithAddedSequences = bbdc.addMissingSequences(mainPrediction, secondPrediction)"
   ]
  },
  {
   "cell_type": "code",
   "execution_count": 25,
   "id": "burning-sharing",
   "metadata": {},
   "outputs": [],
   "source": [
    "predictionWithAddedSequences.to_csv(\"../predictions/jannes/predictionAlexWithAddedSequences.csv\", index=False)"
   ]
  },
  {
   "cell_type": "code",
   "execution_count": 70,
   "id": "civic-ceiling",
   "metadata": {},
   "outputs": [
    {
     "name": "stdout",
     "output_type": "stream",
     "text": [
      "Merged 57 sequences\n"
     ]
    }
   ],
   "source": [
    "mergedPrediction = bbdc.mergeNeighboringSequences(predictionWithAddedSequences, maxSequenceLength = 2)\n",
    "mergedPrediction.to_csv(\"../predictions/jannes/predictionAlexWithAddedSequences_merged.csv\", index=False)"
   ]
  }
 ],
 "metadata": {
  "kernelspec": {
   "display_name": "Python 3",
   "language": "python",
   "name": "python3"
  },
  "language_info": {
   "codemirror_mode": {
    "name": "ipython",
    "version": 3
   },
   "file_extension": ".py",
   "mimetype": "text/x-python",
   "name": "python",
   "nbconvert_exporter": "python",
   "pygments_lexer": "ipython3",
   "version": "3.8.8"
  }
 },
 "nbformat": 4,
 "nbformat_minor": 5
}
