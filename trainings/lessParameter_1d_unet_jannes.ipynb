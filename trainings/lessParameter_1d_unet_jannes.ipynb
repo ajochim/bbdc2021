{
 "cells": [
  {
   "cell_type": "code",
   "execution_count": 39,
   "id": "frozen-auckland",
   "metadata": {},
   "outputs": [],
   "source": [
    "import sys  \n",
    "sys.path.insert(0, './../')\n",
    "import numpy as np\n",
    "import bbdc2021 as bbdc\n",
    "import pandas as pd\n",
    "from importlib import reload\n",
    "reload(bbdc)\n",
    "import tensorflow as tf\n",
    "from keras import layers\n",
    "import keras\n",
    "from keras import backend as K\n",
    "from itertools import groupby\n",
    "import matplotlib.pyplot as plt\n",
    "from matplotlib import colors \n",
    "import models.cnn.u_net_1d as unet\n",
    "reload(unet)\n",
    "import models.cnn.lessParameter_u_net_1d as lpUnet\n",
    "reload(lpUnet)\n",
    "import evaluation.evaluate as evaluate"
   ]
  },
  {
   "cell_type": "code",
   "execution_count": 8,
   "id": "alien-guatemala",
   "metadata": {},
   "outputs": [],
   "source": [
    "np.random.seed(1)\n",
    "tf.random.set_seed(1)"
   ]
  },
  {
   "cell_type": "code",
   "execution_count": 9,
   "id": "academic-hotel",
   "metadata": {},
   "outputs": [],
   "source": [
    "pathToDataset = \"dataset_fft_l1024_o523_b4/\"\n",
    "X_train, Y_train, timepoints, trainFileList = bbdc.load_data(\"train.csv\", pathToDataset)\n",
    "X_validation, Y_validation, timepoints, validationFileList = bbdc.load_data(\"validation.csv\", pathToDataset)  \n",
    "X_test, Y_test, timepoints, testFileList = bbdc.load_data(\"test.csv\", pathToDataset)\n",
    "\n",
    "inputShape = X_train[0].shape"
   ]
  },
  {
   "cell_type": "code",
   "execution_count": 1,
   "id": "willing-blank",
   "metadata": {},
   "outputs": [
    {
     "name": "stdout",
     "output_type": "stream",
     "text": [
      "2.4.1\n"
     ]
    }
   ],
   "source": [
    "print(tf.__version__)"
   ]
  },
  {
   "cell_type": "code",
   "execution_count": 18,
   "id": "marked-armenia",
   "metadata": {},
   "outputs": [
    {
     "name": "stdout",
     "output_type": "stream",
     "text": [
      "Model: \"model_1\"\n",
      "__________________________________________________________________________________________________\n",
      "Layer (type)                    Output Shape         Param #     Connected to                     \n",
      "==================================================================================================\n",
      "input_2 (InputLayer)            [(None, 320, 129)]   0                                            \n",
      "__________________________________________________________________________________________________\n",
      "conv1d_11 (Conv1D)              (None, 320, 32)      4160        input_2[0][0]                    \n",
      "__________________________________________________________________________________________________\n",
      "batch_normalization_10 (BatchNo (None, 320, 32)      128         conv1d_11[0][0]                  \n",
      "__________________________________________________________________________________________________\n",
      "re_lu_10 (ReLU)                 (None, 320, 32)      0           batch_normalization_10[0][0]     \n",
      "__________________________________________________________________________________________________\n",
      "separable_conv1d_10 (SeparableC (None, 320, 32)      1152        re_lu_10[0][0]                   \n",
      "__________________________________________________________________________________________________\n",
      "conv1d_12 (Conv1D)              (None, 320, 32)      1056        separable_conv1d_10[0][0]        \n",
      "__________________________________________________________________________________________________\n",
      "batch_normalization_11 (BatchNo (None, 320, 32)      128         conv1d_12[0][0]                  \n",
      "__________________________________________________________________________________________________\n",
      "re_lu_11 (ReLU)                 (None, 320, 32)      0           batch_normalization_11[0][0]     \n",
      "__________________________________________________________________________________________________\n",
      "separable_conv1d_11 (SeparableC (None, 320, 32)      1152        re_lu_11[0][0]                   \n",
      "__________________________________________________________________________________________________\n",
      "max_pooling1d_2 (MaxPooling1D)  (None, 160, 32)      0           separable_conv1d_11[0][0]        \n",
      "__________________________________________________________________________________________________\n",
      "conv1d_13 (Conv1D)              (None, 160, 64)      2112        max_pooling1d_2[0][0]            \n",
      "__________________________________________________________________________________________________\n",
      "batch_normalization_12 (BatchNo (None, 160, 64)      256         conv1d_13[0][0]                  \n",
      "__________________________________________________________________________________________________\n",
      "re_lu_12 (ReLU)                 (None, 160, 64)      0           batch_normalization_12[0][0]     \n",
      "__________________________________________________________________________________________________\n",
      "separable_conv1d_12 (SeparableC (None, 160, 64)      4352        re_lu_12[0][0]                   \n",
      "__________________________________________________________________________________________________\n",
      "conv1d_14 (Conv1D)              (None, 160, 64)      4160        separable_conv1d_12[0][0]        \n",
      "__________________________________________________________________________________________________\n",
      "batch_normalization_13 (BatchNo (None, 160, 64)      256         conv1d_14[0][0]                  \n",
      "__________________________________________________________________________________________________\n",
      "re_lu_13 (ReLU)                 (None, 160, 64)      0           batch_normalization_13[0][0]     \n",
      "__________________________________________________________________________________________________\n",
      "separable_conv1d_13 (SeparableC (None, 160, 64)      4352        re_lu_13[0][0]                   \n",
      "__________________________________________________________________________________________________\n",
      "max_pooling1d_3 (MaxPooling1D)  (None, 80, 64)       0           separable_conv1d_13[0][0]        \n",
      "__________________________________________________________________________________________________\n",
      "conv1d_15 (Conv1D)              (None, 80, 64)       4160        max_pooling1d_3[0][0]            \n",
      "__________________________________________________________________________________________________\n",
      "batch_normalization_14 (BatchNo (None, 80, 64)       256         conv1d_15[0][0]                  \n",
      "__________________________________________________________________________________________________\n",
      "re_lu_14 (ReLU)                 (None, 80, 64)       0           batch_normalization_14[0][0]     \n",
      "__________________________________________________________________________________________________\n",
      "separable_conv1d_14 (SeparableC (None, 80, 64)       4352        re_lu_14[0][0]                   \n",
      "__________________________________________________________________________________________________\n",
      "conv1d_16 (Conv1D)              (None, 80, 64)       4160        separable_conv1d_14[0][0]        \n",
      "__________________________________________________________________________________________________\n",
      "batch_normalization_15 (BatchNo (None, 80, 64)       256         conv1d_16[0][0]                  \n",
      "__________________________________________________________________________________________________\n",
      "re_lu_15 (ReLU)                 (None, 80, 64)       0           batch_normalization_15[0][0]     \n",
      "__________________________________________________________________________________________________\n",
      "separable_conv1d_15 (SeparableC (None, 80, 64)       4352        re_lu_15[0][0]                   \n",
      "__________________________________________________________________________________________________\n",
      "up_sampling1d_2 (UpSampling1D)  (None, 160, 64)      0           separable_conv1d_15[0][0]        \n",
      "__________________________________________________________________________________________________\n",
      "concatenate_2 (Concatenate)     (None, 160, 128)     0           up_sampling1d_2[0][0]            \n",
      "                                                                 separable_conv1d_13[0][0]        \n",
      "__________________________________________________________________________________________________\n",
      "conv1d_17 (Conv1D)              (None, 160, 64)      8256        concatenate_2[0][0]              \n",
      "__________________________________________________________________________________________________\n",
      "batch_normalization_16 (BatchNo (None, 160, 64)      256         conv1d_17[0][0]                  \n",
      "__________________________________________________________________________________________________\n",
      "re_lu_16 (ReLU)                 (None, 160, 64)      0           batch_normalization_16[0][0]     \n",
      "__________________________________________________________________________________________________\n",
      "separable_conv1d_16 (SeparableC (None, 160, 64)      4352        re_lu_16[0][0]                   \n",
      "__________________________________________________________________________________________________\n",
      "conv1d_18 (Conv1D)              (None, 160, 64)      4160        separable_conv1d_16[0][0]        \n",
      "__________________________________________________________________________________________________\n",
      "batch_normalization_17 (BatchNo (None, 160, 64)      256         conv1d_18[0][0]                  \n",
      "__________________________________________________________________________________________________\n",
      "re_lu_17 (ReLU)                 (None, 160, 64)      0           batch_normalization_17[0][0]     \n",
      "__________________________________________________________________________________________________\n",
      "separable_conv1d_17 (SeparableC (None, 160, 64)      4352        re_lu_17[0][0]                   \n",
      "__________________________________________________________________________________________________\n",
      "up_sampling1d_3 (UpSampling1D)  (None, 320, 64)      0           separable_conv1d_17[0][0]        \n",
      "__________________________________________________________________________________________________\n",
      "concatenate_3 (Concatenate)     (None, 320, 96)      0           up_sampling1d_3[0][0]            \n",
      "                                                                 separable_conv1d_11[0][0]        \n",
      "__________________________________________________________________________________________________\n",
      "conv1d_19 (Conv1D)              (None, 320, 32)      3104        concatenate_3[0][0]              \n",
      "__________________________________________________________________________________________________\n",
      "batch_normalization_18 (BatchNo (None, 320, 32)      128         conv1d_19[0][0]                  \n",
      "__________________________________________________________________________________________________\n",
      "re_lu_18 (ReLU)                 (None, 320, 32)      0           batch_normalization_18[0][0]     \n",
      "__________________________________________________________________________________________________\n",
      "separable_conv1d_18 (SeparableC (None, 320, 32)      1152        re_lu_18[0][0]                   \n",
      "__________________________________________________________________________________________________\n",
      "conv1d_20 (Conv1D)              (None, 320, 32)      1056        separable_conv1d_18[0][0]        \n",
      "__________________________________________________________________________________________________\n",
      "batch_normalization_19 (BatchNo (None, 320, 32)      128         conv1d_20[0][0]                  \n",
      "__________________________________________________________________________________________________\n",
      "re_lu_19 (ReLU)                 (None, 320, 32)      0           batch_normalization_19[0][0]     \n",
      "__________________________________________________________________________________________________\n",
      "separable_conv1d_19 (SeparableC (None, 320, 32)      1152        re_lu_19[0][0]                   \n",
      "__________________________________________________________________________________________________\n",
      "conv1d_21 (Conv1D)              (None, 320, 13)      429         separable_conv1d_19[0][0]        \n",
      "==================================================================================================\n",
      "Total params: 69,581\n",
      "Trainable params: 68,557\n",
      "Non-trainable params: 1,024\n",
      "__________________________________________________________________________________________________\n"
     ]
    }
   ],
   "source": [
    "channels = [32, 64, 90]\n",
    "model = lpUnet.lessParameter_u_net(inputShape, channels)\n",
    "model.summary()"
   ]
  },
  {
   "cell_type": "code",
   "execution_count": null,
   "id": "canadian-circumstances",
   "metadata": {},
   "outputs": [],
   "source": [
    "#Mit crossentropy\n",
    "model.compile(optimizer='adam', loss='categorical_crossentropy', metrics=['mae', 'accuracy'])\n",
    "history = model.fit(X_train,Y_train, batch_size=15, epochs=7, validation_data=(X_validation, Y_validation))"
   ]
  },
  {
   "cell_type": "code",
   "execution_count": 8,
   "id": "cardiovascular-attachment",
   "metadata": {},
   "outputs": [
    {
     "name": "stdout",
     "output_type": "stream",
     "text": [
      "Epoch 1/25\n",
      "534/534 [==============================] - 9s 18ms/step - loss: 0.0824 - mae: 0.0270 - accuracy: 0.8597 - val_loss: 0.1570 - val_mae: 0.0491 - val_accuracy: 0.7272\n",
      "Epoch 2/25\n",
      "534/534 [==============================] - 9s 18ms/step - loss: 0.0783 - mae: 0.0256 - accuracy: 0.8666 - val_loss: 0.2714 - val_mae: 0.0779 - val_accuracy: 0.5334\n",
      "Epoch 3/25\n",
      "534/534 [==============================] - 10s 18ms/step - loss: 0.0740 - mae: 0.0242 - accuracy: 0.8741 - val_loss: 0.4289 - val_mae: 0.1102 - val_accuracy: 0.2892\n",
      "Epoch 4/25\n",
      "534/534 [==============================] - 10s 18ms/step - loss: 0.0715 - mae: 0.0233 - accuracy: 0.8783 - val_loss: 0.1611 - val_mae: 0.0462 - val_accuracy: 0.7256\n",
      "Epoch 5/25\n",
      "534/534 [==============================] - 10s 19ms/step - loss: 0.0682 - mae: 0.0222 - accuracy: 0.8843 - val_loss: 0.2628 - val_mae: 0.0730 - val_accuracy: 0.5525\n",
      "Epoch 6/25\n",
      "534/534 [==============================] - 10s 18ms/step - loss: 0.0660 - mae: 0.0215 - accuracy: 0.8877 - val_loss: 0.4859 - val_mae: 0.1203 - val_accuracy: 0.2199\n",
      "Epoch 7/25\n",
      "534/534 [==============================] - 10s 18ms/step - loss: 0.0640 - mae: 0.0209 - accuracy: 0.8910 - val_loss: 0.4958 - val_mae: 0.1214 - val_accuracy: 0.2108\n",
      "Epoch 8/25\n",
      "534/534 [==============================] - 10s 18ms/step - loss: 0.0625 - mae: 0.0204 - accuracy: 0.8934 - val_loss: 0.4353 - val_mae: 0.1106 - val_accuracy: 0.2943\n",
      "Epoch 9/25\n",
      "534/534 [==============================] - 10s 18ms/step - loss: 0.0599 - mae: 0.0197 - accuracy: 0.8978 - val_loss: 0.2815 - val_mae: 0.0792 - val_accuracy: 0.5097\n",
      "Epoch 10/25\n",
      "534/534 [==============================] - 10s 18ms/step - loss: 0.0578 - mae: 0.0189 - accuracy: 0.9017 - val_loss: 0.3044 - val_mae: 0.0823 - val_accuracy: 0.4848\n",
      "Epoch 11/25\n",
      "534/534 [==============================] - 10s 18ms/step - loss: 0.0570 - mae: 0.0186 - accuracy: 0.9029 - val_loss: 0.4554 - val_mae: 0.1113 - val_accuracy: 0.2852\n",
      "Epoch 12/25\n",
      "534/534 [==============================] - 10s 19ms/step - loss: 0.0557 - mae: 0.0182 - accuracy: 0.9049 - val_loss: 0.1276 - val_mae: 0.0383 - val_accuracy: 0.7821\n",
      "Epoch 13/25\n",
      "534/534 [==============================] - 10s 19ms/step - loss: 0.0545 - mae: 0.0179 - accuracy: 0.9072 - val_loss: 0.3796 - val_mae: 0.1003 - val_accuracy: 0.3610\n",
      "Epoch 14/25\n",
      "534/534 [==============================] - 10s 18ms/step - loss: 0.0526 - mae: 0.0172 - accuracy: 0.9104 - val_loss: 0.0956 - val_mae: 0.0288 - val_accuracy: 0.8360\n",
      "Epoch 15/25\n",
      "534/534 [==============================] - 10s 18ms/step - loss: 0.0513 - mae: 0.0169 - accuracy: 0.9126 - val_loss: 0.2275 - val_mae: 0.0664 - val_accuracy: 0.6019\n",
      "Epoch 16/25\n",
      "534/534 [==============================] - 11s 20ms/step - loss: 0.0505 - mae: 0.0165 - accuracy: 0.9139 - val_loss: 0.4745 - val_mae: 0.1156 - val_accuracy: 0.2534\n",
      "Epoch 17/25\n",
      "534/534 [==============================] - 10s 19ms/step - loss: 0.0497 - mae: 0.0162 - accuracy: 0.9154 - val_loss: 0.3653 - val_mae: 0.0971 - val_accuracy: 0.3797\n",
      "Epoch 18/25\n",
      "534/534 [==============================] - 10s 18ms/step - loss: 0.0483 - mae: 0.0158 - accuracy: 0.9177 - val_loss: 0.2135 - val_mae: 0.0632 - val_accuracy: 0.6234\n",
      "Epoch 19/25\n",
      "534/534 [==============================] - 9s 18ms/step - loss: 0.0470 - mae: 0.0154 - accuracy: 0.9201 - val_loss: 0.4326 - val_mae: 0.1076 - val_accuracy: 0.3055\n",
      "Epoch 20/25\n",
      "534/534 [==============================] - 10s 18ms/step - loss: 0.0472 - mae: 0.0154 - accuracy: 0.9196 - val_loss: 0.3648 - val_mae: 0.0942 - val_accuracy: 0.3990\n",
      "Epoch 21/25\n",
      "534/534 [==============================] - 10s 19ms/step - loss: 0.0464 - mae: 0.0151 - accuracy: 0.9211 - val_loss: 0.1930 - val_mae: 0.0568 - val_accuracy: 0.6647\n",
      "Epoch 22/25\n",
      "534/534 [==============================] - 10s 19ms/step - loss: 0.0451 - mae: 0.0148 - accuracy: 0.9232 - val_loss: 0.2044 - val_mae: 0.0588 - val_accuracy: 0.6460\n",
      "Epoch 23/25\n",
      "534/534 [==============================] - 10s 19ms/step - loss: 0.0447 - mae: 0.0146 - accuracy: 0.9239 - val_loss: 0.1006 - val_mae: 0.0292 - val_accuracy: 0.8298\n",
      "Epoch 24/25\n",
      "534/534 [==============================] - 10s 18ms/step - loss: 0.0447 - mae: 0.0146 - accuracy: 0.9239 - val_loss: 0.3084 - val_mae: 0.0848 - val_accuracy: 0.4696\n",
      "Epoch 25/25\n",
      "534/534 [==============================] - 10s 18ms/step - loss: 0.0430 - mae: 0.0141 - accuracy: 0.9267 - val_loss: 0.0862 - val_mae: 0.0258 - val_accuracy: 0.8529\n"
     ]
    }
   ],
   "source": [
    "#Mit Dice\n",
    "opt = keras.optimizers.Adam(learning_rate=0.001)\n",
    "model.compile(optimizer=opt, loss=bbdc.dice_loss, metrics=['mae', 'accuracy'])\n",
    "history = model.fit(X_train,Y_train, batch_size=15, epochs=30, validation_data=(np.array(X_validation), np.array(Y_validation)))"
   ]
  },
  {
   "cell_type": "code",
   "execution_count": 12,
   "id": "broadband-marina",
   "metadata": {},
   "outputs": [
    {
     "data": {
      "image/png": "[encoded data removed]",
      "text/plain": [
       "<Figure size 432x288 with 1 Axes>"
      ]
     },
     "metadata": {
      "needs_background": "light"
     },
     "output_type": "display_data"
    }
   ],
   "source": [
    "# summarize history for mae\n",
    "plt.plot(history.history['mae'])\n",
    "plt.plot(history.history['val_mae'])\n",
    "plt.title('model mae')\n",
    "plt.ylabel('mae')\n",
    "plt.xlabel('epoch')\n",
    "plt.legend(['train', 'test'], loc='upper left')\n",
    "plt.show()"
   ]
  },
  {
   "cell_type": "code",
   "execution_count": 13,
   "id": "isolated-delivery",
   "metadata": {},
   "outputs": [
    {
     "data": {
      "image/png": "[encoded data removed]",
      "text/plain": [
       "<Figure size 432x288 with 1 Axes>"
      ]
     },
     "metadata": {
      "needs_background": "light"
     },
     "output_type": "display_data"
    }
   ],
   "source": [
    "plt.plot(history.history['loss'])\n",
    "plt.plot(history.history['val_loss'])\n",
    "plt.title('model loss')\n",
    "plt.ylabel('loss')\n",
    "plt.xlabel('epoch')\n",
    "plt.legend(['train', 'test'], loc='upper left')\n",
    "plt.show()"
   ]
  },
  {
   "cell_type": "code",
   "execution_count": 29,
   "id": "retained-pursuit",
   "metadata": {},
   "outputs": [],
   "source": [
    "prediction = model.predict(X_test)\n",
    "discretePrediction = (prediction == prediction.max(axis=1)[:,None]).astype(int)"
   ]
  },
  {
   "cell_type": "code",
   "execution_count": 50,
   "id": "analyzed-brave",
   "metadata": {},
   "outputs": [
    {
     "data": {
      "image/png": "[encoded data removed]",
      "text/plain": [
       "<Figure size 2160x1440 with 1 Axes>"
      ]
     },
     "metadata": {
      "needs_background": "light"
     },
     "output_type": "display_data"
    }
   ],
   "source": [
    "bbdc.plotPredictionAndGT(Y_test, prediction, 0)"
   ]
  },
  {
   "cell_type": "code",
   "execution_count": 35,
   "id": "southwest-blanket",
   "metadata": {},
   "outputs": [
    {
     "name": "stdout",
     "output_type": "stream",
     "text": [
      "32/32 [==============================] - 0s 10ms/step - loss: 0.1478 - mae: 0.0437 - accuracy: 0.7411\n"
     ]
    }
   ],
   "source": [
    "scores = model.evaluate(X_test, Y_test)\n"
   ]
  },
  {
   "cell_type": "code",
   "execution_count": 42,
   "id": "level-serbia",
   "metadata": {},
   "outputs": [
    {
     "data": {
      "text/plain": [
       "(0.047200148913397556, 'Valid file')"
      ]
     },
     "execution_count": 42,
     "metadata": {},
     "output_type": "execute_result"
    }
   ],
   "source": [
    "df = bbdc.getPredictionAsSequenceDF(prediction, timepoints, testFileList)\n",
    "df.to_csv(\"LP1d_Prediction.csv\", index=False)\n",
    "df.head()\n",
    "evaluate.evaluate(\"LP1d_Prediction.csv\", \"./../data/test.csv\")"
   ]
  }
 ],
 "metadata": {
  "kernelspec": {
   "display_name": "Python 3",
   "language": "python",
   "name": "python3"
  },
  "language_info": {
   "codemirror_mode": {
    "name": "ipython",
    "version": 3
   },
   "file_extension": ".py",
   "mimetype": "text/x-python",
   "name": "python",
   "nbconvert_exporter": "python",
   "pygments_lexer": "ipython3",
   "version": "3.8.8"
  }
 },
 "nbformat": 4,
 "nbformat_minor": 5
}
