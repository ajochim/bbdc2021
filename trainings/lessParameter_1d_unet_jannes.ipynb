{
 "cells": [
  {
   "cell_type": "code",
   "execution_count": 2,
   "id": "herbal-writing",
   "metadata": {},
   "outputs": [],
   "source": [
    "import sys  \n",
    "sys.path.insert(0, './../')\n",
    "import numpy as np\n",
    "import bbdc2021 as bbdc\n",
    "import pandas as pd\n",
    "from importlib import reload\n",
    "reload(bbdc)\n",
    "import tensorflow as tf\n",
    "from keras import layers\n",
    "import keras\n",
    "from keras import backend as K\n",
    "from itertools import groupby\n",
    "import matplotlib.pyplot as plt\n",
    "from matplotlib import colors \n",
    "import models.cnn.u_net_1d as unet\n",
    "reload(unet)\n",
    "import evaluation.evaluate as evaluate"
   ]
  },
  {
   "cell_type": "code",
   "execution_count": 4,
   "id": "mediterranean-dublin",
   "metadata": {},
   "outputs": [],
   "source": [
    "np.random.seed(1)\n",
    "tf.random.set_seed(1)\n",
    "pathToDataset = \"dataset_fft_l1024_o523_b4/\""
   ]
  },
  {
   "cell_type": "code",
   "execution_count": 3,
   "id": "voluntary-binary",
   "metadata": {},
   "outputs": [],
   "source": [
    "X_train, Y_train, timepoints, trainFileList = bbdc.load_data(\"train.csv\", pathToDataset+\"dev/\")\n",
    "X_validation, Y_validation, timepoints, validationFileList = bbdc.load_data(\"validation.csv\", pathToDataset+\"dev/\")  \n",
    "X_test, Y_test, timepoints, testFileList = bbdc.load_data(\"test.csv\", pathToDataset+\"dev/\")\n",
    "\n",
    "inputShape = X_train[0].shape"
   ]
  },
  {
   "cell_type": "code",
   "execution_count": 5,
   "id": "respected-junior",
   "metadata": {},
   "outputs": [],
   "source": [
    "X_challenge, timepoints, challengeFileList = bbdc.load_challenge_data(\"challenge_filelist_dummy.csv\", pathToDataset+\"eval/\")\n",
    "inputShape = X_challenge[0].shape"
   ]
  },
  {
   "cell_type": "code",
   "execution_count": 9,
   "id": "adapted-second",
   "metadata": {},
   "outputs": [
    {
     "name": "stdout",
     "output_type": "stream",
     "text": [
      "2.4.1\n",
      "(8000, 320, 128)\n"
     ]
    }
   ],
   "source": [
    "print(tf.__version__)\n",
    "print(X_train.shape)"
   ]
  },
  {
   "cell_type": "code",
   "execution_count": 6,
   "id": "periodic-chapter",
   "metadata": {},
   "outputs": [
    {
     "name": "stdout",
     "output_type": "stream",
     "text": [
      "Model: \"model\"\n",
      "__________________________________________________________________________________________________\n",
      "Layer (type)                    Output Shape         Param #     Connected to                     \n",
      "==================================================================================================\n",
      "input_1 (InputLayer)            [(None, 320, 128)]   0                                            \n",
      "__________________________________________________________________________________________________\n",
      "conv1d (Conv1D)                 (None, 320, 32)      4128        input_1[0][0]                    \n",
      "__________________________________________________________________________________________________\n",
      "batch_normalization (BatchNorma (None, 320, 32)      128         conv1d[0][0]                     \n",
      "__________________________________________________________________________________________________\n",
      "re_lu (ReLU)                    (None, 320, 32)      0           batch_normalization[0][0]        \n",
      "__________________________________________________________________________________________________\n",
      "separable_conv1d (SeparableConv (None, 320, 32)      1152        re_lu[0][0]                      \n",
      "__________________________________________________________________________________________________\n",
      "conv1d_1 (Conv1D)               (None, 320, 32)      1056        separable_conv1d[0][0]           \n",
      "__________________________________________________________________________________________________\n",
      "batch_normalization_1 (BatchNor (None, 320, 32)      128         conv1d_1[0][0]                   \n",
      "__________________________________________________________________________________________________\n",
      "re_lu_1 (ReLU)                  (None, 320, 32)      0           batch_normalization_1[0][0]      \n",
      "__________________________________________________________________________________________________\n",
      "separable_conv1d_1 (SeparableCo (None, 320, 32)      1152        re_lu_1[0][0]                    \n",
      "__________________________________________________________________________________________________\n",
      "max_pooling1d (MaxPooling1D)    (None, 160, 32)      0           separable_conv1d_1[0][0]         \n",
      "__________________________________________________________________________________________________\n",
      "conv1d_2 (Conv1D)               (None, 160, 64)      2112        max_pooling1d[0][0]              \n",
      "__________________________________________________________________________________________________\n",
      "batch_normalization_2 (BatchNor (None, 160, 64)      256         conv1d_2[0][0]                   \n",
      "__________________________________________________________________________________________________\n",
      "re_lu_2 (ReLU)                  (None, 160, 64)      0           batch_normalization_2[0][0]      \n",
      "__________________________________________________________________________________________________\n",
      "separable_conv1d_2 (SeparableCo (None, 160, 64)      4352        re_lu_2[0][0]                    \n",
      "__________________________________________________________________________________________________\n",
      "conv1d_3 (Conv1D)               (None, 160, 64)      4160        separable_conv1d_2[0][0]         \n",
      "__________________________________________________________________________________________________\n",
      "batch_normalization_3 (BatchNor (None, 160, 64)      256         conv1d_3[0][0]                   \n",
      "__________________________________________________________________________________________________\n",
      "re_lu_3 (ReLU)                  (None, 160, 64)      0           batch_normalization_3[0][0]      \n",
      "__________________________________________________________________________________________________\n",
      "separable_conv1d_3 (SeparableCo (None, 160, 64)      4352        re_lu_3[0][0]                    \n",
      "__________________________________________________________________________________________________\n",
      "max_pooling1d_1 (MaxPooling1D)  (None, 80, 64)       0           separable_conv1d_3[0][0]         \n",
      "__________________________________________________________________________________________________\n",
      "conv1d_4 (Conv1D)               (None, 80, 64)       4160        max_pooling1d_1[0][0]            \n",
      "__________________________________________________________________________________________________\n",
      "batch_normalization_4 (BatchNor (None, 80, 64)       256         conv1d_4[0][0]                   \n",
      "__________________________________________________________________________________________________\n",
      "re_lu_4 (ReLU)                  (None, 80, 64)       0           batch_normalization_4[0][0]      \n",
      "__________________________________________________________________________________________________\n",
      "separable_conv1d_4 (SeparableCo (None, 80, 64)       4352        re_lu_4[0][0]                    \n",
      "__________________________________________________________________________________________________\n",
      "conv1d_5 (Conv1D)               (None, 80, 64)       4160        separable_conv1d_4[0][0]         \n",
      "__________________________________________________________________________________________________\n",
      "batch_normalization_5 (BatchNor (None, 80, 64)       256         conv1d_5[0][0]                   \n",
      "__________________________________________________________________________________________________\n",
      "re_lu_5 (ReLU)                  (None, 80, 64)       0           batch_normalization_5[0][0]      \n",
      "__________________________________________________________________________________________________\n",
      "separable_conv1d_5 (SeparableCo (None, 80, 64)       4352        re_lu_5[0][0]                    \n",
      "__________________________________________________________________________________________________\n",
      "up_sampling1d (UpSampling1D)    (None, 160, 64)      0           separable_conv1d_5[0][0]         \n",
      "__________________________________________________________________________________________________\n",
      "concatenate (Concatenate)       (None, 160, 128)     0           up_sampling1d[0][0]              \n",
      "                                                                 separable_conv1d_3[0][0]         \n",
      "__________________________________________________________________________________________________\n",
      "conv1d_6 (Conv1D)               (None, 160, 64)      8256        concatenate[0][0]                \n",
      "__________________________________________________________________________________________________\n",
      "batch_normalization_6 (BatchNor (None, 160, 64)      256         conv1d_6[0][0]                   \n",
      "__________________________________________________________________________________________________\n",
      "re_lu_6 (ReLU)                  (None, 160, 64)      0           batch_normalization_6[0][0]      \n",
      "__________________________________________________________________________________________________\n",
      "separable_conv1d_6 (SeparableCo (None, 160, 64)      4352        re_lu_6[0][0]                    \n",
      "__________________________________________________________________________________________________\n",
      "conv1d_7 (Conv1D)               (None, 160, 64)      4160        separable_conv1d_6[0][0]         \n",
      "__________________________________________________________________________________________________\n",
      "batch_normalization_7 (BatchNor (None, 160, 64)      256         conv1d_7[0][0]                   \n",
      "__________________________________________________________________________________________________\n",
      "re_lu_7 (ReLU)                  (None, 160, 64)      0           batch_normalization_7[0][0]      \n",
      "__________________________________________________________________________________________________\n",
      "separable_conv1d_7 (SeparableCo (None, 160, 64)      4352        re_lu_7[0][0]                    \n",
      "__________________________________________________________________________________________________\n",
      "up_sampling1d_1 (UpSampling1D)  (None, 320, 64)      0           separable_conv1d_7[0][0]         \n",
      "__________________________________________________________________________________________________\n",
      "concatenate_1 (Concatenate)     (None, 320, 96)      0           up_sampling1d_1[0][0]            \n",
      "                                                                 separable_conv1d_1[0][0]         \n",
      "__________________________________________________________________________________________________\n",
      "conv1d_8 (Conv1D)               (None, 320, 32)      3104        concatenate_1[0][0]              \n",
      "__________________________________________________________________________________________________\n",
      "batch_normalization_8 (BatchNor (None, 320, 32)      128         conv1d_8[0][0]                   \n",
      "__________________________________________________________________________________________________\n",
      "re_lu_8 (ReLU)                  (None, 320, 32)      0           batch_normalization_8[0][0]      \n",
      "__________________________________________________________________________________________________\n",
      "separable_conv1d_8 (SeparableCo (None, 320, 32)      1152        re_lu_8[0][0]                    \n",
      "__________________________________________________________________________________________________\n",
      "conv1d_9 (Conv1D)               (None, 320, 32)      1056        separable_conv1d_8[0][0]         \n",
      "__________________________________________________________________________________________________\n",
      "batch_normalization_9 (BatchNor (None, 320, 32)      128         conv1d_9[0][0]                   \n",
      "__________________________________________________________________________________________________\n",
      "re_lu_9 (ReLU)                  (None, 320, 32)      0           batch_normalization_9[0][0]      \n",
      "__________________________________________________________________________________________________\n",
      "separable_conv1d_9 (SeparableCo (None, 320, 32)      1152        re_lu_9[0][0]                    \n",
      "__________________________________________________________________________________________________\n",
      "conv1d_10 (Conv1D)              (None, 320, 13)      429         separable_conv1d_9[0][0]         \n",
      "==================================================================================================\n",
      "Total params: 69,549\n",
      "Trainable params: 68,525\n",
      "Non-trainable params: 1,024\n",
      "__________________________________________________________________________________________________\n"
     ]
    }
   ],
   "source": [
    "channels = [32, 64, 64]\n",
    "model = unet.u_net(inputShape, channels, lessParameter = True)\n",
    "model.summary()"
   ]
  },
  {
   "cell_type": "code",
   "execution_count": 19,
   "id": "dying-imperial",
   "metadata": {},
   "outputs": [
    {
     "name": "stdout",
     "output_type": "stream",
     "text": [
      "Epoch 1/100\n",
      "534/534 [==============================] - 31s 51ms/step - loss: 0.0986 - mae: 0.0075 - accuracy: 0.9679 - val_loss: 0.1539 - val_mae: 0.0090 - val_accuracy: 0.9550\n",
      "\n",
      "Epoch 00001: val_loss improved from inf to 0.15395, saving model to model.h5\n",
      "Epoch 2/100\n",
      "534/534 [==============================] - 26s 49ms/step - loss: 0.0890 - mae: 0.0067 - accuracy: 0.9713 - val_loss: 0.1693 - val_mae: 0.0093 - val_accuracy: 0.9525\n",
      "\n",
      "Epoch 00002: val_loss did not improve from 0.15395\n",
      "Epoch 3/100\n",
      "534/534 [==============================] - 26s 50ms/step - loss: 0.0866 - mae: 0.0066 - accuracy: 0.9718 - val_loss: 0.1533 - val_mae: 0.0089 - val_accuracy: 0.9553\n",
      "\n",
      "Epoch 00003: val_loss improved from 0.15395 to 0.15335, saving model to model.h5\n",
      "Epoch 4/100\n",
      "534/534 [==============================] - 30s 56ms/step - loss: 0.0858 - mae: 0.0066 - accuracy: 0.9718 - val_loss: 0.1612 - val_mae: 0.0091 - val_accuracy: 0.9543\n",
      "\n",
      "Epoch 00004: val_loss did not improve from 0.15335\n",
      "Epoch 5/100\n",
      "534/534 [==============================] - 33s 62ms/step - loss: 0.0870 - mae: 0.0066 - accuracy: 0.9716 - val_loss: 0.1682 - val_mae: 0.0092 - val_accuracy: 0.9527\n",
      "\n",
      "Epoch 00005: val_loss did not improve from 0.15335\n",
      "Epoch 6/100\n",
      "534/534 [==============================] - 33s 62ms/step - loss: 0.0861 - mae: 0.0066 - accuracy: 0.9718 - val_loss: 0.1596 - val_mae: 0.0090 - val_accuracy: 0.9547\n",
      "\n",
      "Epoch 00006: val_loss did not improve from 0.15335\n",
      "Epoch 7/100\n",
      "534/534 [==============================] - 32s 60ms/step - loss: 0.0846 - mae: 0.0064 - accuracy: 0.9727 - val_loss: 0.1532 - val_mae: 0.0088 - val_accuracy: 0.9561\n",
      "\n",
      "Epoch 00007: val_loss improved from 0.15335 to 0.15323, saving model to model.h5\n",
      "Epoch 8/100\n",
      "534/534 [==============================] - 33s 61ms/step - loss: 0.0835 - mae: 0.0064 - accuracy: 0.9729 - val_loss: 0.1736 - val_mae: 0.0097 - val_accuracy: 0.9506\n",
      "\n",
      "Epoch 00008: val_loss did not improve from 0.15323\n",
      "Epoch 9/100\n",
      "534/534 [==============================] - 30s 56ms/step - loss: 0.0834 - mae: 0.0064 - accuracy: 0.9726 - val_loss: 0.1753 - val_mae: 0.0090 - val_accuracy: 0.9524\n",
      "\n",
      "Epoch 00009: val_loss did not improve from 0.15323\n",
      "Epoch 10/100\n",
      "534/534 [==============================] - 24s 45ms/step - loss: 0.0820 - mae: 0.0062 - accuracy: 0.9734 - val_loss: 0.1777 - val_mae: 0.0101 - val_accuracy: 0.9490\n",
      "\n",
      "Epoch 00010: val_loss did not improve from 0.15323\n",
      "Epoch 11/100\n",
      "534/534 [==============================] - 24s 44ms/step - loss: 0.0825 - mae: 0.0063 - accuracy: 0.9730 - val_loss: 0.1727 - val_mae: 0.0107 - val_accuracy: 0.9496\n",
      "\n",
      "Epoch 00011: val_loss did not improve from 0.15323\n",
      "Epoch 12/100\n",
      "534/534 [==============================] - 24s 45ms/step - loss: 0.0814 - mae: 0.0062 - accuracy: 0.9734 - val_loss: 0.1676 - val_mae: 0.0090 - val_accuracy: 0.9536\n",
      "\n",
      "Epoch 00012: val_loss did not improve from 0.15323\n",
      "Epoch 13/100\n",
      "534/534 [==============================] - 24s 45ms/step - loss: 0.0832 - mae: 0.0064 - accuracy: 0.9726 - val_loss: 0.1847 - val_mae: 0.0092 - val_accuracy: 0.9506\n",
      "\n",
      "Epoch 00013: val_loss did not improve from 0.15323\n",
      "Epoch 14/100\n",
      "534/534 [==============================] - 24s 45ms/step - loss: 0.0822 - mae: 0.0063 - accuracy: 0.9729 - val_loss: 0.1650 - val_mae: 0.0088 - val_accuracy: 0.9543\n",
      "\n",
      "Epoch 00014: val_loss did not improve from 0.15323\n",
      "Epoch 15/100\n",
      "534/534 [==============================] - 24s 45ms/step - loss: 0.0814 - mae: 0.0062 - accuracy: 0.9734 - val_loss: 0.1854 - val_mae: 0.0103 - val_accuracy: 0.9477\n",
      "\n",
      "Epoch 00015: val_loss did not improve from 0.15323\n",
      "Epoch 16/100\n",
      "534/534 [==============================] - 24s 44ms/step - loss: 0.0805 - mae: 0.0061 - accuracy: 0.9736 - val_loss: 0.1821 - val_mae: 0.0096 - val_accuracy: 0.9498\n",
      "\n",
      "Epoch 00016: val_loss did not improve from 0.15323\n",
      "Epoch 17/100\n",
      "534/534 [==============================] - 24s 45ms/step - loss: 0.0811 - mae: 0.0062 - accuracy: 0.9734 - val_loss: 0.1598 - val_mae: 0.0091 - val_accuracy: 0.9537\n",
      "\n",
      "Epoch 00017: val_loss did not improve from 0.15323\n",
      "Epoch 18/100\n",
      "534/534 [==============================] - 24s 45ms/step - loss: 0.0812 - mae: 0.0062 - accuracy: 0.9735 - val_loss: 0.1722 - val_mae: 0.0089 - val_accuracy: 0.9533\n",
      "\n",
      "Epoch 00018: val_loss did not improve from 0.15323\n",
      "Epoch 19/100\n",
      "534/534 [==============================] - 24s 45ms/step - loss: 0.0814 - mae: 0.0062 - accuracy: 0.9733 - val_loss: 0.1558 - val_mae: 0.0086 - val_accuracy: 0.9560\n",
      "\n",
      "Epoch 00019: val_loss did not improve from 0.15323\n",
      "Epoch 20/100\n",
      "534/534 [==============================] - 24s 45ms/step - loss: 0.0790 - mae: 0.0061 - accuracy: 0.9740 - val_loss: 0.1673 - val_mae: 0.0086 - val_accuracy: 0.9548\n",
      "\n",
      "Epoch 00020: val_loss did not improve from 0.15323\n",
      "Epoch 21/100\n",
      "534/534 [==============================] - 25s 46ms/step - loss: 0.0804 - mae: 0.0061 - accuracy: 0.9735 - val_loss: 0.1631 - val_mae: 0.0092 - val_accuracy: 0.9537\n",
      "\n",
      "Epoch 00021: val_loss did not improve from 0.15323\n",
      "Epoch 22/100\n",
      "534/534 [==============================] - 24s 45ms/step - loss: 0.0752 - mae: 0.0058 - accuracy: 0.9751 - val_loss: 0.1654 - val_mae: 0.0090 - val_accuracy: 0.9535\n",
      "\n",
      "Epoch 00022: val_loss did not improve from 0.15323\n",
      "Epoch 23/100\n",
      "534/534 [==============================] - 24s 45ms/step - loss: 0.0802 - mae: 0.0061 - accuracy: 0.9736 - val_loss: 0.1697 - val_mae: 0.0093 - val_accuracy: 0.9523\n",
      "\n",
      "Epoch 00023: val_loss did not improve from 0.15323\n",
      "Epoch 24/100\n",
      "534/534 [==============================] - 24s 45ms/step - loss: 0.0777 - mae: 0.0060 - accuracy: 0.9745 - val_loss: 0.1586 - val_mae: 0.0088 - val_accuracy: 0.9551\n",
      "\n",
      "Epoch 00024: val_loss did not improve from 0.15323\n",
      "Epoch 25/100\n",
      "534/534 [==============================] - 24s 45ms/step - loss: 0.0782 - mae: 0.0061 - accuracy: 0.9739 - val_loss: 0.1876 - val_mae: 0.0104 - val_accuracy: 0.9472\n",
      "\n",
      "Epoch 00025: val_loss did not improve from 0.15323\n",
      "Epoch 26/100\n",
      "534/534 [==============================] - 24s 45ms/step - loss: 0.0786 - mae: 0.0060 - accuracy: 0.9742 - val_loss: 0.2544 - val_mae: 0.0147 - val_accuracy: 0.9242\n",
      "\n",
      "Epoch 00026: val_loss did not improve from 0.15323\n",
      "Epoch 27/100\n",
      "534/534 [==============================] - 24s 44ms/step - loss: 0.0775 - mae: 0.0060 - accuracy: 0.9743 - val_loss: 0.1838 - val_mae: 0.0096 - val_accuracy: 0.9501\n",
      "\n",
      "Epoch 00027: val_loss did not improve from 0.15323\n",
      "Epoch 28/100\n",
      "534/534 [==============================] - 24s 45ms/step - loss: 0.0775 - mae: 0.0060 - accuracy: 0.9739 - val_loss: 0.1755 - val_mae: 0.0096 - val_accuracy: 0.9515\n",
      "\n",
      "Epoch 00028: val_loss did not improve from 0.15323\n",
      "Epoch 29/100\n",
      "534/534 [==============================] - 24s 44ms/step - loss: 0.0784 - mae: 0.0060 - accuracy: 0.9741 - val_loss: 0.1776 - val_mae: 0.0094 - val_accuracy: 0.9509\n",
      "\n",
      "Epoch 00029: val_loss did not improve from 0.15323\n",
      "Epoch 30/100\n",
      "534/534 [==============================] - 24s 45ms/step - loss: 0.0792 - mae: 0.0061 - accuracy: 0.9740 - val_loss: 0.1594 - val_mae: 0.0088 - val_accuracy: 0.9549\n",
      "\n",
      "Epoch 00030: val_loss did not improve from 0.15323\n",
      "Epoch 31/100\n",
      "534/534 [==============================] - 24s 45ms/step - loss: 0.0787 - mae: 0.0060 - accuracy: 0.9739 - val_loss: 0.1663 - val_mae: 0.0086 - val_accuracy: 0.9545\n",
      "\n",
      "Epoch 00031: val_loss did not improve from 0.15323\n",
      "Epoch 32/100\n",
      "534/534 [==============================] - 24s 44ms/step - loss: 0.0762 - mae: 0.0059 - accuracy: 0.9749 - val_loss: 0.1683 - val_mae: 0.0091 - val_accuracy: 0.9532\n",
      "\n",
      "Epoch 00032: val_loss did not improve from 0.15323\n",
      "Epoch 33/100\n",
      "534/534 [==============================] - 24s 45ms/step - loss: 0.0762 - mae: 0.0059 - accuracy: 0.9747 - val_loss: 0.1618 - val_mae: 0.0087 - val_accuracy: 0.9546\n",
      "\n",
      "Epoch 00033: val_loss did not improve from 0.15323\n",
      "Epoch 34/100\n",
      "534/534 [==============================] - 24s 45ms/step - loss: 0.0761 - mae: 0.0059 - accuracy: 0.9750 - val_loss: 0.1698 - val_mae: 0.0092 - val_accuracy: 0.9530\n",
      "\n",
      "Epoch 00034: val_loss did not improve from 0.15323\n",
      "Epoch 35/100\n",
      "534/534 [==============================] - 24s 45ms/step - loss: 0.0780 - mae: 0.0059 - accuracy: 0.9744 - val_loss: 0.1817 - val_mae: 0.0095 - val_accuracy: 0.9504\n",
      "\n",
      "Epoch 00035: val_loss did not improve from 0.15323\n",
      "Epoch 36/100\n",
      "534/534 [==============================] - 24s 44ms/step - loss: 0.0780 - mae: 0.0061 - accuracy: 0.9743 - val_loss: 0.2231 - val_mae: 0.0115 - val_accuracy: 0.9395\n",
      "\n",
      "Epoch 00036: val_loss did not improve from 0.15323\n",
      "Epoch 37/100\n",
      "534/534 [==============================] - 24s 45ms/step - loss: 0.0760 - mae: 0.0059 - accuracy: 0.9748 - val_loss: 0.1661 - val_mae: 0.0087 - val_accuracy: 0.9546\n",
      "\n",
      "Epoch 00037: val_loss did not improve from 0.15323\n",
      "Epoch 38/100\n",
      "534/534 [==============================] - 24s 45ms/step - loss: 0.0757 - mae: 0.0058 - accuracy: 0.9749 - val_loss: 0.1609 - val_mae: 0.0086 - val_accuracy: 0.9554\n",
      "\n",
      "Epoch 00038: val_loss did not improve from 0.15323\n",
      "Epoch 39/100\n",
      "534/534 [==============================] - 24s 45ms/step - loss: 0.0741 - mae: 0.0058 - accuracy: 0.9754 - val_loss: 0.1726 - val_mae: 0.0090 - val_accuracy: 0.9533\n",
      "\n",
      "Epoch 00039: val_loss did not improve from 0.15323\n",
      "Epoch 40/100\n",
      "534/534 [==============================] - 24s 45ms/step - loss: 0.0736 - mae: 0.0057 - accuracy: 0.9755 - val_loss: 0.1672 - val_mae: 0.0091 - val_accuracy: 0.9536\n",
      "\n",
      "Epoch 00040: val_loss did not improve from 0.15323\n",
      "Epoch 41/100\n",
      "534/534 [==============================] - 24s 45ms/step - loss: 0.0755 - mae: 0.0058 - accuracy: 0.9750 - val_loss: 0.1731 - val_mae: 0.0093 - val_accuracy: 0.9517\n",
      "\n",
      "Epoch 00041: val_loss did not improve from 0.15323\n",
      "Epoch 42/100\n",
      "534/534 [==============================] - 24s 45ms/step - loss: 0.0782 - mae: 0.0060 - accuracy: 0.9743 - val_loss: 0.1672 - val_mae: 0.0089 - val_accuracy: 0.9541\n",
      "\n",
      "Epoch 00042: val_loss did not improve from 0.15323\n",
      "Epoch 43/100\n",
      "534/534 [==============================] - 24s 45ms/step - loss: 0.0762 - mae: 0.0059 - accuracy: 0.9748 - val_loss: 0.1633 - val_mae: 0.0084 - val_accuracy: 0.9555\n",
      "\n",
      "Epoch 00043: val_loss did not improve from 0.15323\n",
      "Epoch 44/100\n",
      "534/534 [==============================] - 24s 45ms/step - loss: 0.0772 - mae: 0.0059 - accuracy: 0.9742 - val_loss: 0.1720 - val_mae: 0.0089 - val_accuracy: 0.9534\n",
      "\n",
      "Epoch 00044: val_loss did not improve from 0.15323\n",
      "Epoch 45/100\n",
      "534/534 [==============================] - 24s 45ms/step - loss: 0.0756 - mae: 0.0058 - accuracy: 0.9750 - val_loss: 0.1631 - val_mae: 0.0086 - val_accuracy: 0.9552\n",
      "\n",
      "Epoch 00045: val_loss did not improve from 0.15323\n",
      "Epoch 46/100\n",
      "534/534 [==============================] - 24s 45ms/step - loss: 0.0756 - mae: 0.0058 - accuracy: 0.9750 - val_loss: 0.1820 - val_mae: 0.0089 - val_accuracy: 0.9515\n",
      "\n",
      "Epoch 00046: val_loss did not improve from 0.15323\n",
      "Epoch 47/100\n",
      "534/534 [==============================] - 24s 45ms/step - loss: 0.0747 - mae: 0.0057 - accuracy: 0.9752 - val_loss: 0.1751 - val_mae: 0.0089 - val_accuracy: 0.9528\n",
      "\n",
      "Epoch 00047: val_loss did not improve from 0.15323\n",
      "Epoch 48/100\n",
      "534/534 [==============================] - 26s 49ms/step - loss: 0.0754 - mae: 0.0058 - accuracy: 0.9749 - val_loss: 0.1839 - val_mae: 0.0105 - val_accuracy: 0.9475\n",
      "\n",
      "Epoch 00048: val_loss did not improve from 0.15323\n",
      "Epoch 49/100\n",
      "534/534 [==============================] - 30s 56ms/step - loss: 0.0734 - mae: 0.0057 - accuracy: 0.9756 - val_loss: 0.2065 - val_mae: 0.0111 - val_accuracy: 0.9427\n",
      "\n",
      "Epoch 00049: val_loss did not improve from 0.15323\n",
      "Epoch 50/100\n",
      "534/534 [==============================] - 33s 61ms/step - loss: 0.0749 - mae: 0.0058 - accuracy: 0.9753 - val_loss: 0.1692 - val_mae: 0.0095 - val_accuracy: 0.9522\n",
      "\n",
      "Epoch 00050: val_loss did not improve from 0.15323\n",
      "Epoch 51/100\n",
      "534/534 [==============================] - 30s 57ms/step - loss: 0.0750 - mae: 0.0058 - accuracy: 0.9753 - val_loss: 0.1870 - val_mae: 0.0094 - val_accuracy: 0.9500\n",
      "\n",
      "Epoch 00051: val_loss did not improve from 0.15323\n",
      "Epoch 52/100\n",
      "534/534 [==============================] - 24s 45ms/step - loss: 0.0757 - mae: 0.0058 - accuracy: 0.9749 - val_loss: 0.2029 - val_mae: 0.0104 - val_accuracy: 0.9455\n",
      "\n",
      "Epoch 00052: val_loss did not improve from 0.15323\n",
      "Epoch 53/100\n",
      "534/534 [==============================] - 30s 56ms/step - loss: 0.0764 - mae: 0.0059 - accuracy: 0.9745 - val_loss: 0.1903 - val_mae: 0.0100 - val_accuracy: 0.9481\n",
      "\n",
      "Epoch 00053: val_loss did not improve from 0.15323\n",
      "Epoch 54/100\n",
      "534/534 [==============================] - 33s 62ms/step - loss: 0.0732 - mae: 0.0056 - accuracy: 0.9759 - val_loss: 0.2066 - val_mae: 0.0097 - val_accuracy: 0.9479\n",
      "\n",
      "Epoch 00054: val_loss did not improve from 0.15323\n",
      "Epoch 55/100\n",
      "534/534 [==============================] - 33s 62ms/step - loss: 0.0759 - mae: 0.0058 - accuracy: 0.9749 - val_loss: 0.1759 - val_mae: 0.0086 - val_accuracy: 0.9538\n",
      "\n",
      "Epoch 00055: val_loss did not improve from 0.15323\n",
      "Epoch 56/100\n",
      "534/534 [==============================] - 33s 63ms/step - loss: 0.0739 - mae: 0.0057 - accuracy: 0.9753 - val_loss: 0.1725 - val_mae: 0.0088 - val_accuracy: 0.9533\n",
      "\n",
      "Epoch 00056: val_loss did not improve from 0.15323\n",
      "Epoch 57/100\n",
      "534/534 [==============================] - 33s 63ms/step - loss: 0.0745 - mae: 0.0058 - accuracy: 0.9750 - val_loss: 0.1683 - val_mae: 0.0087 - val_accuracy: 0.9545\n",
      "\n",
      "Epoch 00057: val_loss did not improve from 0.15323\n",
      "Epoch 58/100\n",
      "534/534 [==============================] - 33s 62ms/step - loss: 0.0743 - mae: 0.0057 - accuracy: 0.9754 - val_loss: 0.1769 - val_mae: 0.0093 - val_accuracy: 0.9520\n",
      "\n",
      "Epoch 00058: val_loss did not improve from 0.15323\n",
      "Epoch 59/100\n",
      "534/534 [==============================] - 33s 63ms/step - loss: 0.0720 - mae: 0.0057 - accuracy: 0.9758 - val_loss: 0.1759 - val_mae: 0.0092 - val_accuracy: 0.9523\n",
      "\n",
      "Epoch 00059: val_loss did not improve from 0.15323\n",
      "Epoch 60/100\n",
      "534/534 [==============================] - 33s 62ms/step - loss: 0.0742 - mae: 0.0057 - accuracy: 0.9753 - val_loss: 0.1720 - val_mae: 0.0090 - val_accuracy: 0.9532\n",
      "\n",
      "Epoch 00060: val_loss did not improve from 0.15323\n",
      "Epoch 61/100\n",
      "534/534 [==============================] - 33s 62ms/step - loss: 0.0726 - mae: 0.0057 - accuracy: 0.9756 - val_loss: 0.1784 - val_mae: 0.0096 - val_accuracy: 0.9515\n",
      "\n",
      "Epoch 00061: val_loss did not improve from 0.15323\n",
      "Epoch 62/100\n",
      "534/534 [==============================] - 33s 62ms/step - loss: 0.0740 - mae: 0.0058 - accuracy: 0.9752 - val_loss: 0.1871 - val_mae: 0.0093 - val_accuracy: 0.9507\n",
      "\n",
      "Epoch 00062: val_loss did not improve from 0.15323\n",
      "Epoch 63/100\n",
      "534/534 [==============================] - 34s 63ms/step - loss: 0.0721 - mae: 0.0056 - accuracy: 0.9757 - val_loss: 0.1795 - val_mae: 0.0089 - val_accuracy: 0.9527\n",
      "\n",
      "Epoch 00063: val_loss did not improve from 0.15323\n",
      "Epoch 64/100\n",
      "534/534 [==============================] - 34s 63ms/step - loss: 0.0744 - mae: 0.0057 - accuracy: 0.9752 - val_loss: 0.2447 - val_mae: 0.0125 - val_accuracy: 0.9336\n",
      "\n",
      "Epoch 00064: val_loss did not improve from 0.15323\n",
      "Epoch 65/100\n",
      "534/534 [==============================] - 34s 64ms/step - loss: 0.0730 - mae: 0.0057 - accuracy: 0.9755 - val_loss: 0.1761 - val_mae: 0.0094 - val_accuracy: 0.9519\n",
      "\n",
      "Epoch 00065: val_loss did not improve from 0.15323\n",
      "Epoch 66/100\n",
      "534/534 [==============================] - 34s 65ms/step - loss: 0.0727 - mae: 0.0056 - accuracy: 0.9760 - val_loss: 0.1834 - val_mae: 0.0096 - val_accuracy: 0.9500\n",
      "\n",
      "Epoch 00066: val_loss did not improve from 0.15323\n",
      "Epoch 67/100\n",
      "534/534 [==============================] - 34s 64ms/step - loss: 0.0725 - mae: 0.0056 - accuracy: 0.9758 - val_loss: 0.1682 - val_mae: 0.0090 - val_accuracy: 0.9540\n",
      "\n",
      "Epoch 00067: val_loss did not improve from 0.15323\n",
      "Epoch 68/100\n",
      "534/534 [==============================] - 34s 64ms/step - loss: 0.0741 - mae: 0.0057 - accuracy: 0.9753 - val_loss: 0.1716 - val_mae: 0.0087 - val_accuracy: 0.9540\n",
      "\n",
      "Epoch 00068: val_loss did not improve from 0.15323\n",
      "Epoch 69/100\n",
      "534/534 [==============================] - 34s 64ms/step - loss: 0.0736 - mae: 0.0057 - accuracy: 0.9754 - val_loss: 0.1844 - val_mae: 0.0092 - val_accuracy: 0.9510\n",
      "\n",
      "Epoch 00069: val_loss did not improve from 0.15323\n",
      "Epoch 70/100\n",
      "534/534 [==============================] - 34s 64ms/step - loss: 0.0721 - mae: 0.0056 - accuracy: 0.9759 - val_loss: 0.1807 - val_mae: 0.0086 - val_accuracy: 0.9533\n",
      "\n",
      "Epoch 00070: val_loss did not improve from 0.15323\n",
      "Epoch 71/100\n",
      "534/534 [==============================] - 35s 65ms/step - loss: 0.0732 - mae: 0.0057 - accuracy: 0.9754 - val_loss: 0.2055 - val_mae: 0.0102 - val_accuracy: 0.9464\n",
      "\n",
      "Epoch 00071: val_loss did not improve from 0.15323\n",
      "Epoch 72/100\n",
      "534/534 [==============================] - 34s 64ms/step - loss: 0.0738 - mae: 0.0057 - accuracy: 0.9753 - val_loss: 0.1883 - val_mae: 0.0090 - val_accuracy: 0.9513\n",
      "\n",
      "Epoch 00072: val_loss did not improve from 0.15323\n",
      "Epoch 73/100\n",
      "534/534 [==============================] - 34s 64ms/step - loss: 0.0736 - mae: 0.0057 - accuracy: 0.9755 - val_loss: 0.2395 - val_mae: 0.0115 - val_accuracy: 0.9388\n",
      "\n",
      "Epoch 00073: val_loss did not improve from 0.15323\n",
      "Epoch 74/100\n",
      "534/534 [==============================] - 33s 61ms/step - loss: 0.0728 - mae: 0.0056 - accuracy: 0.9760 - val_loss: 0.1709 - val_mae: 0.0090 - val_accuracy: 0.9536\n",
      "\n",
      "Epoch 00074: val_loss did not improve from 0.15323\n",
      "Epoch 75/100\n",
      "534/534 [==============================] - 28s 53ms/step - loss: 0.0752 - mae: 0.0058 - accuracy: 0.9750 - val_loss: 0.1729 - val_mae: 0.0088 - val_accuracy: 0.9540\n",
      "\n",
      "Epoch 00075: val_loss did not improve from 0.15323\n",
      "Epoch 76/100\n",
      "534/534 [==============================] - 28s 52ms/step - loss: 0.0721 - mae: 0.0056 - accuracy: 0.9758 - val_loss: 0.1863 - val_mae: 0.0096 - val_accuracy: 0.9502\n",
      "\n",
      "Epoch 00076: val_loss did not improve from 0.15323\n",
      "Epoch 77/100\n",
      "534/534 [==============================] - 28s 53ms/step - loss: 0.0751 - mae: 0.0058 - accuracy: 0.9751 - val_loss: 0.1825 - val_mae: 0.0089 - val_accuracy: 0.9525\n",
      "\n",
      "Epoch 00077: val_loss did not improve from 0.15323\n",
      "Epoch 78/100\n",
      "534/534 [==============================] - 28s 52ms/step - loss: 0.0718 - mae: 0.0056 - accuracy: 0.9759 - val_loss: 0.1823 - val_mae: 0.0093 - val_accuracy: 0.9513\n",
      "\n",
      "Epoch 00078: val_loss did not improve from 0.15323\n",
      "Epoch 79/100\n",
      "534/534 [==============================] - 28s 52ms/step - loss: 0.0716 - mae: 0.0056 - accuracy: 0.9760 - val_loss: 0.1899 - val_mae: 0.0098 - val_accuracy: 0.9492\n",
      "\n",
      "Epoch 00079: val_loss did not improve from 0.15323\n",
      "Epoch 80/100\n",
      "534/534 [==============================] - 29s 55ms/step - loss: 0.0733 - mae: 0.0057 - accuracy: 0.9756 - val_loss: 0.2808 - val_mae: 0.0143 - val_accuracy: 0.9238\n",
      "\n",
      "Epoch 00080: val_loss did not improve from 0.15323\n",
      "Epoch 81/100\n",
      "534/534 [==============================] - 30s 56ms/step - loss: 0.0723 - mae: 0.0056 - accuracy: 0.9757 - val_loss: 0.1834 - val_mae: 0.0092 - val_accuracy: 0.9512\n",
      "\n",
      "Epoch 00081: val_loss did not improve from 0.15323\n",
      "Epoch 82/100\n",
      "534/534 [==============================] - 29s 54ms/step - loss: 0.0739 - mae: 0.0057 - accuracy: 0.9755 - val_loss: 0.1934 - val_mae: 0.0097 - val_accuracy: 0.9492\n",
      "\n",
      "Epoch 00082: val_loss did not improve from 0.15323\n",
      "Epoch 83/100\n",
      "534/534 [==============================] - 27s 51ms/step - loss: 0.0725 - mae: 0.0056 - accuracy: 0.9758 - val_loss: 0.1735 - val_mae: 0.0090 - val_accuracy: 0.9530\n",
      "\n",
      "Epoch 00083: val_loss did not improve from 0.15323\n",
      "Epoch 84/100\n",
      "534/534 [==============================] - 25s 47ms/step - loss: 0.0717 - mae: 0.0056 - accuracy: 0.9762 - val_loss: 0.1788 - val_mae: 0.0092 - val_accuracy: 0.9520\n",
      "\n",
      "Epoch 00084: val_loss did not improve from 0.15323\n",
      "Epoch 85/100\n",
      "534/534 [==============================] - 24s 46ms/step - loss: 0.0701 - mae: 0.0055 - accuracy: 0.9766 - val_loss: 0.1750 - val_mae: 0.0093 - val_accuracy: 0.9522\n",
      "\n",
      "Epoch 00085: val_loss did not improve from 0.15323\n",
      "Epoch 86/100\n",
      "534/534 [==============================] - 24s 46ms/step - loss: 0.0735 - mae: 0.0057 - accuracy: 0.9755 - val_loss: 0.1805 - val_mae: 0.0092 - val_accuracy: 0.9514\n",
      "\n",
      "Epoch 00086: val_loss did not improve from 0.15323\n",
      "Epoch 87/100\n",
      "534/534 [==============================] - 24s 46ms/step - loss: 0.0732 - mae: 0.0057 - accuracy: 0.9754 - val_loss: 0.1932 - val_mae: 0.0101 - val_accuracy: 0.9476\n",
      "\n",
      "Epoch 00087: val_loss did not improve from 0.15323\n",
      "Epoch 88/100\n",
      "534/534 [==============================] - 28s 52ms/step - loss: 0.0704 - mae: 0.0055 - accuracy: 0.9763 - val_loss: 0.1965 - val_mae: 0.0098 - val_accuracy: 0.9482\n",
      "\n",
      "Epoch 00088: val_loss did not improve from 0.15323\n",
      "Epoch 89/100\n",
      "534/534 [==============================] - 26s 49ms/step - loss: 0.0726 - mae: 0.0056 - accuracy: 0.9758 - val_loss: 0.2189 - val_mae: 0.0102 - val_accuracy: 0.9447\n",
      "\n",
      "Epoch 00089: val_loss did not improve from 0.15323\n",
      "Epoch 90/100\n",
      "534/534 [==============================] - 27s 51ms/step - loss: 0.0714 - mae: 0.0055 - accuracy: 0.9761 - val_loss: 0.1735 - val_mae: 0.0087 - val_accuracy: 0.9539\n",
      "\n",
      "Epoch 00090: val_loss did not improve from 0.15323\n",
      "Epoch 91/100\n",
      "534/534 [==============================] - 27s 51ms/step - loss: 0.0718 - mae: 0.0056 - accuracy: 0.9758 - val_loss: 0.1928 - val_mae: 0.0106 - val_accuracy: 0.9458\n",
      "\n",
      "Epoch 00091: val_loss did not improve from 0.15323\n",
      "Epoch 92/100\n",
      "534/534 [==============================] - 27s 51ms/step - loss: 0.0707 - mae: 0.0055 - accuracy: 0.9760 - val_loss: 0.1847 - val_mae: 0.0090 - val_accuracy: 0.9524\n",
      "\n",
      "Epoch 00092: val_loss did not improve from 0.15323\n",
      "Epoch 93/100\n",
      "534/534 [==============================] - 27s 51ms/step - loss: 0.0703 - mae: 0.0055 - accuracy: 0.9764 - val_loss: 0.1743 - val_mae: 0.0087 - val_accuracy: 0.9536\n",
      "\n",
      "Epoch 00093: val_loss did not improve from 0.15323\n",
      "Epoch 94/100\n",
      "534/534 [==============================] - 28s 53ms/step - loss: 0.0708 - mae: 0.0055 - accuracy: 0.9761 - val_loss: 0.2041 - val_mae: 0.0113 - val_accuracy: 0.9430\n",
      "\n",
      "Epoch 00094: val_loss did not improve from 0.15323\n",
      "Epoch 95/100\n",
      "534/534 [==============================] - 27s 51ms/step - loss: 0.0726 - mae: 0.0056 - accuracy: 0.9759 - val_loss: 0.1769 - val_mae: 0.0089 - val_accuracy: 0.9532\n",
      "\n",
      "Epoch 00095: val_loss did not improve from 0.15323\n",
      "Epoch 96/100\n",
      "534/534 [==============================] - 27s 50ms/step - loss: 0.0725 - mae: 0.0056 - accuracy: 0.9757 - val_loss: 0.2134 - val_mae: 0.0108 - val_accuracy: 0.9428\n",
      "\n",
      "Epoch 00096: val_loss did not improve from 0.15323\n",
      "Epoch 97/100\n",
      "534/534 [==============================] - 27s 50ms/step - loss: 0.0729 - mae: 0.0056 - accuracy: 0.9755 - val_loss: 0.1759 - val_mae: 0.0092 - val_accuracy: 0.9514\n",
      "\n",
      "Epoch 00097: val_loss did not improve from 0.15323\n",
      "Epoch 98/100\n",
      "534/534 [==============================] - 27s 50ms/step - loss: 0.0713 - mae: 0.0056 - accuracy: 0.9762 - val_loss: 0.1985 - val_mae: 0.0102 - val_accuracy: 0.9467\n",
      "\n",
      "Epoch 00098: val_loss did not improve from 0.15323\n",
      "Epoch 99/100\n",
      "534/534 [==============================] - 27s 51ms/step - loss: 0.0727 - mae: 0.0057 - accuracy: 0.9756 - val_loss: 0.1775 - val_mae: 0.0094 - val_accuracy: 0.9514\n",
      "\n",
      "Epoch 00099: val_loss did not improve from 0.15323\n",
      "Epoch 100/100\n",
      "534/534 [==============================] - 27s 51ms/step - loss: 0.0713 - mae: 0.0056 - accuracy: 0.9761 - val_loss: 0.1750 - val_mae: 0.0087 - val_accuracy: 0.9541\n",
      "\n",
      "Epoch 00100: val_loss did not improve from 0.15323\n"
     ]
    }
   ],
   "source": [
    "#Mit crossentropy\n",
    "#checkpoint = ModelCheckpoint('model-{epoch:03d}-{acc:03f}-{val_acc:03f}.h5', verbose=1, monitor='val_loss',save_best_only=True, mode='auto')\n",
    "checkpoint = keras.callbacks.ModelCheckpoint('model.h5', verbose=1, monitor='val_loss',save_best_only=True, mode='auto')\n",
    "opt = keras.optimizers.Adam(learning_rate=0.001)\n",
    "model = keras.models.load_model(\"model.h5\")\n",
    "model.compile(optimizer=opt, loss='categorical_crossentropy', metrics=['mae', 'accuracy'])\n",
    "history = model.fit(X_train,Y_train, batch_size=15, epochs=100, validation_data=(X_validation, Y_validation), shuffle=True, callbacks=[checkpoint])"
   ]
  },
  {
   "cell_type": "code",
   "execution_count": 8,
   "id": "threaded-chest",
   "metadata": {},
   "outputs": [
    {
     "name": "stdout",
     "output_type": "stream",
     "text": [
      "Epoch 1/25\n",
      "534/534 [==============================] - 9s 18ms/step - loss: 0.0824 - mae: 0.0270 - accuracy: 0.8597 - val_loss: 0.1570 - val_mae: 0.0491 - val_accuracy: 0.7272\n",
      "Epoch 2/25\n",
      "534/534 [==============================] - 9s 18ms/step - loss: 0.0783 - mae: 0.0256 - accuracy: 0.8666 - val_loss: 0.2714 - val_mae: 0.0779 - val_accuracy: 0.5334\n",
      "Epoch 3/25\n",
      "534/534 [==============================] - 10s 18ms/step - loss: 0.0740 - mae: 0.0242 - accuracy: 0.8741 - val_loss: 0.4289 - val_mae: 0.1102 - val_accuracy: 0.2892\n",
      "Epoch 4/25\n",
      "534/534 [==============================] - 10s 18ms/step - loss: 0.0715 - mae: 0.0233 - accuracy: 0.8783 - val_loss: 0.1611 - val_mae: 0.0462 - val_accuracy: 0.7256\n",
      "Epoch 5/25\n",
      "534/534 [==============================] - 10s 19ms/step - loss: 0.0682 - mae: 0.0222 - accuracy: 0.8843 - val_loss: 0.2628 - val_mae: 0.0730 - val_accuracy: 0.5525\n",
      "Epoch 6/25\n",
      "534/534 [==============================] - 10s 18ms/step - loss: 0.0660 - mae: 0.0215 - accuracy: 0.8877 - val_loss: 0.4859 - val_mae: 0.1203 - val_accuracy: 0.2199\n",
      "Epoch 7/25\n",
      "534/534 [==============================] - 10s 18ms/step - loss: 0.0640 - mae: 0.0209 - accuracy: 0.8910 - val_loss: 0.4958 - val_mae: 0.1214 - val_accuracy: 0.2108\n",
      "Epoch 8/25\n",
      "534/534 [==============================] - 10s 18ms/step - loss: 0.0625 - mae: 0.0204 - accuracy: 0.8934 - val_loss: 0.4353 - val_mae: 0.1106 - val_accuracy: 0.2943\n",
      "Epoch 9/25\n",
      "534/534 [==============================] - 10s 18ms/step - loss: 0.0599 - mae: 0.0197 - accuracy: 0.8978 - val_loss: 0.2815 - val_mae: 0.0792 - val_accuracy: 0.5097\n",
      "Epoch 10/25\n",
      "534/534 [==============================] - 10s 18ms/step - loss: 0.0578 - mae: 0.0189 - accuracy: 0.9017 - val_loss: 0.3044 - val_mae: 0.0823 - val_accuracy: 0.4848\n",
      "Epoch 11/25\n",
      "534/534 [==============================] - 10s 18ms/step - loss: 0.0570 - mae: 0.0186 - accuracy: 0.9029 - val_loss: 0.4554 - val_mae: 0.1113 - val_accuracy: 0.2852\n",
      "Epoch 12/25\n",
      "534/534 [==============================] - 10s 19ms/step - loss: 0.0557 - mae: 0.0182 - accuracy: 0.9049 - val_loss: 0.1276 - val_mae: 0.0383 - val_accuracy: 0.7821\n",
      "Epoch 13/25\n",
      "534/534 [==============================] - 10s 19ms/step - loss: 0.0545 - mae: 0.0179 - accuracy: 0.9072 - val_loss: 0.3796 - val_mae: 0.1003 - val_accuracy: 0.3610\n",
      "Epoch 14/25\n",
      "534/534 [==============================] - 10s 18ms/step - loss: 0.0526 - mae: 0.0172 - accuracy: 0.9104 - val_loss: 0.0956 - val_mae: 0.0288 - val_accuracy: 0.8360\n",
      "Epoch 15/25\n",
      "534/534 [==============================] - 10s 18ms/step - loss: 0.0513 - mae: 0.0169 - accuracy: 0.9126 - val_loss: 0.2275 - val_mae: 0.0664 - val_accuracy: 0.6019\n",
      "Epoch 16/25\n",
      "534/534 [==============================] - 11s 20ms/step - loss: 0.0505 - mae: 0.0165 - accuracy: 0.9139 - val_loss: 0.4745 - val_mae: 0.1156 - val_accuracy: 0.2534\n",
      "Epoch 17/25\n",
      "534/534 [==============================] - 10s 19ms/step - loss: 0.0497 - mae: 0.0162 - accuracy: 0.9154 - val_loss: 0.3653 - val_mae: 0.0971 - val_accuracy: 0.3797\n",
      "Epoch 18/25\n",
      "534/534 [==============================] - 10s 18ms/step - loss: 0.0483 - mae: 0.0158 - accuracy: 0.9177 - val_loss: 0.2135 - val_mae: 0.0632 - val_accuracy: 0.6234\n",
      "Epoch 19/25\n",
      "534/534 [==============================] - 9s 18ms/step - loss: 0.0470 - mae: 0.0154 - accuracy: 0.9201 - val_loss: 0.4326 - val_mae: 0.1076 - val_accuracy: 0.3055\n",
      "Epoch 20/25\n",
      "534/534 [==============================] - 10s 18ms/step - loss: 0.0472 - mae: 0.0154 - accuracy: 0.9196 - val_loss: 0.3648 - val_mae: 0.0942 - val_accuracy: 0.3990\n",
      "Epoch 21/25\n",
      "534/534 [==============================] - 10s 19ms/step - loss: 0.0464 - mae: 0.0151 - accuracy: 0.9211 - val_loss: 0.1930 - val_mae: 0.0568 - val_accuracy: 0.6647\n",
      "Epoch 22/25\n",
      "534/534 [==============================] - 10s 19ms/step - loss: 0.0451 - mae: 0.0148 - accuracy: 0.9232 - val_loss: 0.2044 - val_mae: 0.0588 - val_accuracy: 0.6460\n",
      "Epoch 23/25\n",
      "534/534 [==============================] - 10s 19ms/step - loss: 0.0447 - mae: 0.0146 - accuracy: 0.9239 - val_loss: 0.1006 - val_mae: 0.0292 - val_accuracy: 0.8298\n",
      "Epoch 24/25\n",
      "534/534 [==============================] - 10s 18ms/step - loss: 0.0447 - mae: 0.0146 - accuracy: 0.9239 - val_loss: 0.3084 - val_mae: 0.0848 - val_accuracy: 0.4696\n",
      "Epoch 25/25\n",
      "534/534 [==============================] - 10s 18ms/step - loss: 0.0430 - mae: 0.0141 - accuracy: 0.9267 - val_loss: 0.0862 - val_mae: 0.0258 - val_accuracy: 0.8529\n"
     ]
    }
   ],
   "source": [
    "#Mit Dice\n",
    "opt = keras.optimizers.Adam(learning_rate=0.001)\n",
    "model.compile(optimizer=opt, loss=bbdc.dice_loss, metrics=['mae', 'accuracy'])\n",
    "history = model.fit(X_train,Y_train, batch_size=15, epochs=30, validation_data=(np.array(X_validation), np.array(Y_validation)))"
   ]
  },
  {
   "cell_type": "code",
   "execution_count": 20,
   "id": "sought-teddy",
   "metadata": {},
   "outputs": [
    {
     "data": {
      "image/png": "[encoded data removed]",
      "text/plain": [
       "<Figure size 432x288 with 1 Axes>"
      ]
     },
     "metadata": {
      "needs_background": "light"
     },
     "output_type": "display_data"
    }
   ],
   "source": [
    "# summarize history for mae\n",
    "plt.plot(history.history['mae'])\n",
    "plt.plot(history.history['val_mae'])\n",
    "plt.title('model mae')\n",
    "plt.ylabel('mae')\n",
    "plt.xlabel('epoch')\n",
    "plt.legend(['train', 'validation'], loc='upper left')\n",
    "plt.show()"
   ]
  },
  {
   "cell_type": "code",
   "execution_count": 21,
   "id": "engaging-lunch",
   "metadata": {},
   "outputs": [
    {
     "data": {
      "image/png": "[encoded data removed]",
      "text/plain": [
       "<Figure size 432x288 with 1 Axes>"
      ]
     },
     "metadata": {
      "needs_background": "light"
     },
     "output_type": "display_data"
    }
   ],
   "source": [
    "plt.plot(history.history['loss'])\n",
    "plt.plot(history.history['val_loss'])\n",
    "plt.title('model loss')\n",
    "plt.ylabel('loss')\n",
    "plt.xlabel('epoch')\n",
    "plt.legend(['train', 'validation'], loc='upper left')\n",
    "plt.show()"
   ]
  },
  {
   "cell_type": "code",
   "execution_count": 22,
   "id": "engaged-warner",
   "metadata": {},
   "outputs": [
    {
     "data": {
      "image/png": "[encoded data removed]",
      "text/plain": [
       "<Figure size 432x288 with 1 Axes>"
      ]
     },
     "metadata": {
      "needs_background": "light"
     },
     "output_type": "display_data"
    }
   ],
   "source": [
    "plt.plot(history.history['accuracy'])\n",
    "plt.plot(history.history['val_accuracy'])\n",
    "plt.title('model accuracy')\n",
    "plt.ylabel('accuracy')\n",
    "plt.xlabel('epoch')\n",
    "plt.legend(['train', 'validation'], loc='upper left')\n",
    "plt.show()"
   ]
  },
  {
   "cell_type": "code",
   "execution_count": 5,
   "id": "convertible-donna",
   "metadata": {},
   "outputs": [],
   "source": [
    "model = keras.models.load_model(\"Modelle_Jannes/model9561.h5\")\n",
    "prediction = model.predict(X_test)\n",
    "discretePrediction = (prediction == prediction.max(axis=1)[:,None]).astype(int)"
   ]
  },
  {
   "cell_type": "code",
   "execution_count": 6,
   "id": "local-safety",
   "metadata": {},
   "outputs": [
    {
     "data": {
      "image/png": "[encoded data removed]",
      "text/plain": [
       "<Figure size 2160x1440 with 1 Axes>"
      ]
     },
     "metadata": {
      "needs_background": "light"
     },
     "output_type": "display_data"
    }
   ],
   "source": [
    "bbdc.plotPredictionAndGT(Y_test, prediction, 1)"
   ]
  },
  {
   "cell_type": "code",
   "execution_count": 7,
   "id": "divided-plaintiff",
   "metadata": {},
   "outputs": [
    {
     "name": "stdout",
     "output_type": "stream",
     "text": [
      "32/32 [==============================] - 1s 12ms/step - loss: 0.1451 - mae: 0.0086 - accuracy: 0.9578\n"
     ]
    }
   ],
   "source": [
    "scores = model.evaluate(X_test, Y_test)\n"
   ]
  },
  {
   "cell_type": "code",
   "execution_count": 8,
   "id": "exotic-munich",
   "metadata": {},
   "outputs": [
    {
     "data": {
      "text/plain": [
       "(0.5573403322374246, 'Valid file')"
      ]
     },
     "execution_count": 8,
     "metadata": {},
     "output_type": "execute_result"
    }
   ],
   "source": [
    "df = bbdc.getPredictionAsSequenceDF(prediction, timepoints, testFileList)\n",
    "df.to_csv(\"../predictions/jannes/LP1d_Prediction_test.csv\", index=False)\n",
    "df.head()\n",
    "evaluate.evaluate(\"../predictions/jannes/LP1d_Prediction_test.csv\", \"./../data/test.csv\")"
   ]
  },
  {
   "cell_type": "code",
   "execution_count": 61,
   "id": "professional-morning",
   "metadata": {},
   "outputs": [
    {
     "name": "stderr",
     "output_type": "stream",
     "text": [
      "/home/jannes/Programme/miniconda3/envs/gpuclone/lib/python3.8/site-packages/numpy/core/fromnumeric.py:3372: RuntimeWarning: Mean of empty slice.\n",
      "  return _methods._mean(a, axis=axis, dtype=dtype,\n",
      "/home/jannes/Programme/miniconda3/envs/gpuclone/lib/python3.8/site-packages/numpy/core/_methods.py:170: RuntimeWarning: invalid value encountered in double_scalars\n",
      "  ret = ret.dtype.type(ret / rcount)\n"
     ]
    }
   ],
   "source": [
    "postProcessedPrediction = np.array([bbdc.postProcess(pred, timepoints) for pred in prediction])\n",
    "df = bbdc.getPredictionAsSequenceDF(postProcessedPrediction, timepoints, testFileList)\n",
    "df.to_csv(\"../predictions/jannes/LP1d_Prediction_pp_test.csv\", index=False)\n",
    "print(evaluate.evaluate(\"../predictions/jannes/LP1d_Prediction_pp_test.csv\", \"./../data/test.csv\"))"
   ]
  },
  {
   "cell_type": "code",
   "execution_count": 11,
   "id": "powered-mandate",
   "metadata": {},
   "outputs": [
    {
     "data": {
      "image/png": "[encoded data removed]",
      "text/plain": [
       "<Figure size 2160x1440 with 1 Axes>"
      ]
     },
     "metadata": {
      "needs_background": "light"
     },
     "output_type": "display_data"
    },
    {
     "data": {
      "image/png": "[encoded data removed]",
      "text/plain": [
       "<Figure size 2160x1440 with 1 Axes>"
      ]
     },
     "metadata": {
      "needs_background": "light"
     },
     "output_type": "display_data"
    }
   ],
   "source": [
    "index = 0\n",
    "bbdc.plotPredictionAndGT(Y_test, prediction, index) #TODO Problem mit falscher Farbdarstellung lösen\n",
    "bbdc.plotPredictionAndGT(Y_test, postProcessedPrediction, index)"
   ]
  },
  {
   "cell_type": "markdown",
   "id": "logical-struggle",
   "metadata": {},
   "source": [
    "# Evaluation mit Validationset"
   ]
  },
  {
   "cell_type": "code",
   "execution_count": 12,
   "id": "stylish-custody",
   "metadata": {},
   "outputs": [
    {
     "name": "stdout",
     "output_type": "stream",
     "text": [
      "32/32 [==============================] - 0s 10ms/step - loss: 0.1532 - mae: 0.0088 - accuracy: 0.9561\n",
      "(0.5651359536722724, 'Valid file')\n",
      "(0.9481987504924273, 'Valid file')\n"
     ]
    }
   ],
   "source": [
    "prediction = model.predict(X_validation)\n",
    "discretePrediction = (prediction == prediction.max(axis=1)[:,None]).astype(int)\n",
    "model.evaluate(X_validation, Y_validation)\n",
    "df = bbdc.getPredictionAsSequenceDF(prediction, timepoints, validationFileList)\n",
    "df.to_csv(\"../predictions/jannes/LP1d_Prediction_val.csv\", index=False)\n",
    "print(evaluate.evaluate(\"../predictions/jannes/LP1d_Prediction_val.csv\", \"./../data/validation.csv\"))\n",
    "\n",
    "postProcessedPrediction = np.array([bbdc.postProcess(pred, timepoints) for pred in prediction])\n",
    "df = bbdc.getPredictionAsSequenceDF(postProcessedPrediction, timepoints, validationFileList)\n",
    "df.to_csv(\"../predictions/jannes/LP1d_Prediction_pp_val.csv\", index=False)\n",
    "print(evaluate.evaluate(\"../predictions/jannes/LP1d_Prediction_pp_val.csv\", \"./../data/validation.csv\"))"
   ]
  },
  {
   "cell_type": "markdown",
   "id": "residential-camcorder",
   "metadata": {},
   "source": [
    "# Prediction der Challenge"
   ]
  },
  {
   "cell_type": "code",
   "execution_count": 8,
   "id": "monthly-services",
   "metadata": {},
   "outputs": [
    {
     "name": "stderr",
     "output_type": "stream",
     "text": [
      "/home/jannes/Programme/miniconda3/envs/gpuclone/lib/python3.8/site-packages/numpy/core/fromnumeric.py:3372: RuntimeWarning: Mean of empty slice.\n",
      "  return _methods._mean(a, axis=axis, dtype=dtype,\n",
      "/home/jannes/Programme/miniconda3/envs/gpuclone/lib/python3.8/site-packages/numpy/core/_methods.py:170: RuntimeWarning: invalid value encountered in double_scalars\n",
      "  ret = ret.dtype.type(ret / rcount)\n"
     ]
    }
   ],
   "source": [
    "model = keras.models.load_model(\"Modelle_Jannes/model9561.h5\")\n",
    "prediction = model.predict(X_challenge)\n",
    "postProcessedPredictionChallenge = np.array([bbdc.postProcess(pred, timepoints) for pred in prediction])\n",
    "df = bbdc.getPredictionAsSequenceDF(postProcessedPredictionChallenge, timepoints, challengeFileList, calculateProbs=True)\n",
    "df.to_csv(\"../predictions/jannes/LP1d_PredictionChallenge_probs.csv\", index=False)"
   ]
  },
  {
   "cell_type": "code",
   "execution_count": 5,
   "id": "moving-testing",
   "metadata": {},
   "outputs": [],
   "source": [
    "\n",
    "\n"
   ]
  }
 ],
 "metadata": {
  "kernelspec": {
   "display_name": "Python 3",
   "language": "python",
   "name": "python3"
  },
  "language_info": {
   "codemirror_mode": {
    "name": "ipython",
    "version": 3
   },
   "file_extension": ".py",
   "mimetype": "text/x-python",
   "name": "python",
   "nbconvert_exporter": "python",
   "pygments_lexer": "ipython3",
   "version": "3.8.8"
  }
 },
 "nbformat": 4,
 "nbformat_minor": 5
}
