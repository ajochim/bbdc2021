{
 "cells": [
  {
   "cell_type": "code",
   "execution_count": 25,
   "id": "trying-advancement",
   "metadata": {},
   "outputs": [],
   "source": [
    "import sys  \n",
    "sys.path.insert(0, './../')\n",
    "import numpy as np\n",
    "import bbdc2021 as bbdc\n",
    "import pandas as pd\n",
    "from importlib import reload\n",
    "reload(bbdc)\n",
    "import tensorflow as tf\n",
    "from keras import layers\n",
    "import keras\n",
    "from keras import backend as K\n",
    "import matplotlib.pyplot as plt\n",
    "from matplotlib import colors \n",
    "import evaluation.evaluate as evaluate"
   ]
  },
  {
   "cell_type": "code",
   "execution_count": 26,
   "id": "periodic-fitting",
   "metadata": {},
   "outputs": [],
   "source": [
    "np.random.seed(1)\n",
    "tf.random.set_seed(1)"
   ]
  },
  {
   "cell_type": "code",
   "execution_count": 27,
   "id": "better-january",
   "metadata": {},
   "outputs": [
    {
     "name": "stderr",
     "output_type": "stream",
     "text": [
      "16186it [08:29, 31.77it/s]\n",
      "573it [00:18, 31.05it/s]\n",
      "585it [00:18, 31.54it/s]\n"
     ]
    }
   ],
   "source": [
    "X_train, Y_train, trainFileList = bbdc.load_audioset(\"long_unbalanced_train_segments.csv\", \"unbalanced_fft_mel_l04_o02495_f32/\", pathToDataDir=\"./../google_audioset/googleData/fft/\")\n",
    "X_validation, Y_validation, validationFileList = bbdc.load_audioset(\"long_balanced_train_segments.csv\", \"balanced_fft_mel_l04_o02495_f32/\", pathToDataDir=\"./../google_audioset/googleData/fft/\")\n",
    "X_test, Y_test, testFileList = bbdc.load_audioset(\"long_eval_segments.csv\", \"eval_fft_mel_l04_o02495_f32/\", pathToDataDir=\"./../google_audioset/googleData/fft/\")"
   ]
  },
  {
   "cell_type": "code",
   "execution_count": 28,
   "id": "religious-sleeve",
   "metadata": {},
   "outputs": [],
   "source": [
    "Y_train[:,0]=0\n",
    "Y_validation[:,0]=0\n",
    "Y_test[:,0]=0"
   ]
  },
  {
   "cell_type": "code",
   "execution_count": 29,
   "id": "level-warrior",
   "metadata": {},
   "outputs": [],
   "source": [
    "X_train_new = np.append(X_train, X_validation, axis=0)\n",
    "X_train_new = np.append(X_train_new, X_test, axis=0)\n",
    "Y_train_new = np.append(Y_train, Y_validation, axis=0)\n",
    "Y_train_new = np.append(Y_train_new, Y_test, axis=0)"
   ]
  },
  {
   "cell_type": "code",
   "execution_count": 30,
   "id": "federal-russian",
   "metadata": {},
   "outputs": [],
   "source": [
    "shuffledIndices = np.random.permutation(X_train_new.shape[0])\n",
    "X_train_new = X_train_new[shuffledIndices]\n",
    "Y_train_new = Y_train_new[shuffledIndices]\n",
    "length = len(shuffledIndices)\n",
    "X_validation_new = X_train_new[int(0.8*length):int(0.9*length)]\n",
    "Y_validation_new = Y_train_new[int(0.8*length):int(0.9*length)]\n",
    "X_test_new = X_train_new[int(0.9*length):]\n",
    "Y_test_new = Y_train_new[int(0.9*length):]\n",
    "X_train_new = X_train_new[:int(0.8*length)]\n",
    "Y_train_new = Y_train_new[:int(0.8*length)]"
   ]
  },
  {
   "cell_type": "code",
   "execution_count": 42,
   "id": "surgical-landing",
   "metadata": {},
   "outputs": [
    {
     "name": "stdout",
     "output_type": "stream",
     "text": [
      "Model: \"model_1\"\n",
      "_________________________________________________________________\n",
      "Layer (type)                 Output Shape              Param #   \n",
      "=================================================================\n",
      "input_2 (InputLayer)         [(None, None, 32)]        0         \n",
      "_________________________________________________________________\n",
      "conv1d_8 (Conv1D)            (None, None, 50)          4850      \n",
      "_________________________________________________________________\n",
      "conv1d_9 (Conv1D)            (None, None, 50)          7550      \n",
      "_________________________________________________________________\n",
      "batch_normalization_3 (Batch (None, None, 50)          200       \n",
      "_________________________________________________________________\n",
      "max_pooling1d_2 (MaxPooling1 (None, None, 50)          0         \n",
      "_________________________________________________________________\n",
      "conv1d_10 (Conv1D)           (None, None, 60)          9060      \n",
      "_________________________________________________________________\n",
      "conv1d_11 (Conv1D)           (None, None, 60)          10860     \n",
      "_________________________________________________________________\n",
      "conv1d_12 (Conv1D)           (None, None, 60)          10860     \n",
      "_________________________________________________________________\n",
      "batch_normalization_4 (Batch (None, None, 60)          240       \n",
      "_________________________________________________________________\n",
      "max_pooling1d_3 (MaxPooling1 (None, None, 60)          0         \n",
      "_________________________________________________________________\n",
      "conv1d_13 (Conv1D)           (None, None, 50)          9050      \n",
      "_________________________________________________________________\n",
      "conv1d_14 (Conv1D)           (None, None, 50)          7550      \n",
      "_________________________________________________________________\n",
      "batch_normalization_5 (Batch (None, None, 50)          200       \n",
      "_________________________________________________________________\n",
      "conv1d_15 (Conv1D)           (None, None, 13)          663       \n",
      "_________________________________________________________________\n",
      "global_max_pooling1d_1 (Glob (None, 13)                0         \n",
      "_________________________________________________________________\n",
      "activation_1 (Activation)    (None, 13)                0         \n",
      "=================================================================\n",
      "Total params: 61,083\n",
      "Trainable params: 60,763\n",
      "Non-trainable params: 320\n",
      "_________________________________________________________________\n"
     ]
    }
   ],
   "source": [
    "channels = [50, 60]\n",
    "numClasses=13\n",
    "\n",
    "input_layer = layers.Input(shape=(None, 32))\n",
    "x = input_layer\n",
    "x = layers.Conv1D(channels[0], kernel_size=3, padding='valid', activation='relu')(x)\n",
    "x = layers.Conv1D(channels[0], kernel_size=3, padding='valid', activation='relu')(x)\n",
    "x = layers.BatchNormalization()(x)\n",
    "x = layers.MaxPooling1D()(x)\n",
    "\n",
    "x = layers.Conv1D(channels[1], kernel_size=3, padding='valid', activation='relu')(x)\n",
    "x = layers.Conv1D(channels[1], kernel_size=3, padding='valid', activation='relu')(x)\n",
    "x = layers.Conv1D(channels[1], kernel_size=3, padding='valid', activation='relu')(x)\n",
    "x = layers.BatchNormalization()(x)\n",
    "x = layers.MaxPooling1D()(x)\n",
    "\n",
    "x = layers.Conv1D(channels[0], kernel_size=3, padding='valid', activation='relu')(x)\n",
    "x = layers.Conv1D(channels[0], kernel_size=3, padding='valid', activation='relu')(x)\n",
    "x = layers.BatchNormalization()(x)\n",
    "x = layers.Conv1D(numClasses, kernel_size=1, activation='relu')(x)\n",
    "x = layers.GlobalMaxPooling1D()(x)\n",
    "x = layers.Activation(keras.activations.softmax)(x)\n",
    "\n",
    "model = keras.models.Model(inputs=input_layer, outputs=x)\n",
    "model.summary()"
   ]
  },
  {
   "cell_type": "code",
   "execution_count": 43,
   "id": "ordered-basement",
   "metadata": {},
   "outputs": [
    {
     "name": "stdout",
     "output_type": "stream",
     "text": [
      "Epoch 1/8\n",
      "1388/1388 [==============================] - 30s 21ms/step - loss: 2.0330 - mae: 0.1167 - accuracy: 0.3712 - val_loss: 1.7336 - val_mae: 0.1078 - val_accuracy: 0.4533\n",
      "Epoch 2/8\n",
      "1388/1388 [==============================] - 27s 20ms/step - loss: 1.5533 - mae: 0.0998 - accuracy: 0.5098 - val_loss: 1.6549 - val_mae: 0.0973 - val_accuracy: 0.4867\n",
      "Epoch 3/8\n",
      "1388/1388 [==============================] - 27s 20ms/step - loss: 1.3665 - mae: 0.0889 - accuracy: 0.5739 - val_loss: 1.4158 - val_mae: 0.0864 - val_accuracy: 0.5761\n",
      "Epoch 4/8\n",
      "1388/1388 [==============================] - 27s 19ms/step - loss: 1.2770 - mae: 0.0841 - accuracy: 0.5972 - val_loss: 1.2646 - val_mae: 0.0769 - val_accuracy: 0.6142\n",
      "Epoch 5/8\n",
      "1388/1388 [==============================] - 27s 20ms/step - loss: 1.2267 - mae: 0.0813 - accuracy: 0.6131 - val_loss: 1.3405 - val_mae: 0.0787 - val_accuracy: 0.5975\n",
      "Epoch 6/8\n",
      "1388/1388 [==============================] - 28s 20ms/step - loss: 1.1784 - mae: 0.0788 - accuracy: 0.6195 - val_loss: 1.2841 - val_mae: 0.0767 - val_accuracy: 0.6073\n",
      "Epoch 7/8\n",
      "1388/1388 [==============================] - 27s 20ms/step - loss: 1.1296 - mae: 0.0761 - accuracy: 0.6385 - val_loss: 1.1695 - val_mae: 0.0752 - val_accuracy: 0.6436\n",
      "Epoch 8/8\n",
      "1388/1388 [==============================] - 27s 20ms/step - loss: 1.1187 - mae: 0.0754 - accuracy: 0.6411 - val_loss: 1.1486 - val_mae: 0.0729 - val_accuracy: 0.6465\n"
     ]
    }
   ],
   "source": [
    "opt = keras.optimizers.Adam(learning_rate=0.001)\n",
    "model.compile(optimizer=opt, loss='categorical_crossentropy', metrics=['mae', 'accuracy'])\n",
    "history = model.fit(X_train_new, Y_train_new, batch_size=10, epochs=8, shuffle=True, validation_data=(X_validation_new, Y_validation_new))"
   ]
  },
  {
   "cell_type": "code",
   "execution_count": 44,
   "id": "productive-loading",
   "metadata": {},
   "outputs": [
    {
     "data": {
      "image/png": "[encoded data removed]",
      "text/plain": [
       "<Figure size 432x288 with 1 Axes>"
      ]
     },
     "metadata": {
      "needs_background": "light"
     },
     "output_type": "display_data"
    }
   ],
   "source": [
    "plt.plot(history.history['loss'])\n",
    "plt.plot(history.history['val_loss'])\n",
    "plt.title('model loss')\n",
    "plt.ylabel('loss')\n",
    "plt.xlabel('epoch')\n",
    "plt.legend(['train', 'validation'], loc='upper left')\n",
    "plt.show()"
   ]
  },
  {
   "cell_type": "code",
   "execution_count": 45,
   "id": "international-facing",
   "metadata": {},
   "outputs": [
    {
     "data": {
      "image/png": "[encoded data removed]",
      "text/plain": [
       "<Figure size 432x288 with 1 Axes>"
      ]
     },
     "metadata": {
      "needs_background": "light"
     },
     "output_type": "display_data"
    }
   ],
   "source": [
    "# summarize history for mae\n",
    "plt.plot(history.history['mae'])\n",
    "plt.plot(history.history['val_mae'])\n",
    "plt.title('model mae')\n",
    "plt.ylabel('mae')\n",
    "plt.xlabel('epoch')\n",
    "plt.legend(['train', 'validation'], loc='upper left')\n",
    "plt.show()"
   ]
  },
  {
   "cell_type": "code",
   "execution_count": 46,
   "id": "breeding-cannon",
   "metadata": {},
   "outputs": [
    {
     "data": {
      "image/png": "[encoded data removed]",
      "text/plain": [
       "<Figure size 432x288 with 1 Axes>"
      ]
     },
     "metadata": {
      "needs_background": "light"
     },
     "output_type": "display_data"
    }
   ],
   "source": [
    "plt.plot(history.history['accuracy'])\n",
    "plt.plot(history.history['val_accuracy'])\n",
    "plt.title('model accuracy')\n",
    "plt.ylabel('accuracy')\n",
    "plt.xlabel('epoch')\n",
    "plt.legend(['train', 'validation'], loc='upper left')\n",
    "plt.show()"
   ]
  },
  {
   "cell_type": "code",
   "execution_count": 47,
   "id": "tough-mentor",
   "metadata": {},
   "outputs": [
    {
     "name": "stdout",
     "output_type": "stream",
     "text": [
      "55/55 [==============================] - 1s 10ms/step - loss: 1.1904 - mae: 0.0744 - accuracy: 0.6277\n"
     ]
    }
   ],
   "source": [
    "prediction = model.predict(X_test_new)\n",
    "scores = model.evaluate(X_test_new, Y_test_new)"
   ]
  },
  {
   "cell_type": "code",
   "execution_count": 48,
   "id": "promotional-protein",
   "metadata": {},
   "outputs": [
    {
     "name": "stdout",
     "output_type": "stream",
     "text": [
      "Cheering\n",
      "Fireworks\n"
     ]
    }
   ],
   "source": [
    "index = 23\n",
    "print(bbdc.invLabelMap[np.argmax(prediction[index])])\n",
    "print(bbdc.invLabelMap[np.argmax(Y_test_new[index])])"
   ]
  },
  {
   "cell_type": "markdown",
   "id": "colored-roberts",
   "metadata": {},
   "source": [
    "# Prediction der Test-Daten"
   ]
  },
  {
   "cell_type": "code",
   "execution_count": 89,
   "id": "vietnamese-outside",
   "metadata": {},
   "outputs": [
    {
     "data": {
      "text/html": [
       "<div>\n",
       "<style scoped>\n",
       "    .dataframe tbody tr th:only-of-type {\n",
       "        vertical-align: middle;\n",
       "    }\n",
       "\n",
       "    .dataframe tbody tr th {\n",
       "        vertical-align: top;\n",
       "    }\n",
       "\n",
       "    .dataframe thead th {\n",
       "        text-align: right;\n",
       "    }\n",
       "</style>\n",
       "<table border=\"1\" class=\"dataframe\">\n",
       "  <thead>\n",
       "    <tr style=\"text-align: right;\">\n",
       "      <th></th>\n",
       "      <th>filename</th>\n",
       "      <th>onset</th>\n",
       "      <th>offset</th>\n",
       "      <th>event_label</th>\n",
       "      <th>MeanProb</th>\n",
       "      <th>MedianProb</th>\n",
       "    </tr>\n",
       "  </thead>\n",
       "  <tbody>\n",
       "    <tr>\n",
       "      <th>0</th>\n",
       "      <td>10001_mix.wav</td>\n",
       "      <td>2.857143</td>\n",
       "      <td>3.834586</td>\n",
       "      <td>Cheering</td>\n",
       "      <td>0.921573</td>\n",
       "      <td>0.971862</td>\n",
       "    </tr>\n",
       "    <tr>\n",
       "      <th>1</th>\n",
       "      <td>10001_mix.wav</td>\n",
       "      <td>5.513784</td>\n",
       "      <td>6.466165</td>\n",
       "      <td>Church_bell</td>\n",
       "      <td>0.436819</td>\n",
       "      <td>0.443509</td>\n",
       "    </tr>\n",
       "    <tr>\n",
       "      <th>2</th>\n",
       "      <td>10002_mix.wav</td>\n",
       "      <td>0.476190</td>\n",
       "      <td>2.030075</td>\n",
       "      <td>Shout</td>\n",
       "      <td>0.641397</td>\n",
       "      <td>0.685553</td>\n",
       "    </tr>\n",
       "    <tr>\n",
       "      <th>3</th>\n",
       "      <td>10002_mix.wav</td>\n",
       "      <td>2.055138</td>\n",
       "      <td>3.483709</td>\n",
       "      <td>Fireworks</td>\n",
       "      <td>0.388373</td>\n",
       "      <td>0.359040</td>\n",
       "    </tr>\n",
       "    <tr>\n",
       "      <th>4</th>\n",
       "      <td>10002_mix.wav</td>\n",
       "      <td>5.137845</td>\n",
       "      <td>6.090226</td>\n",
       "      <td>Fireworks</td>\n",
       "      <td>0.874577</td>\n",
       "      <td>0.881943</td>\n",
       "    </tr>\n",
       "  </tbody>\n",
       "</table>\n",
       "</div>"
      ],
      "text/plain": [
       "        filename     onset    offset  event_label  MeanProb  MedianProb\n",
       "0  10001_mix.wav  2.857143  3.834586     Cheering  0.921573    0.971862\n",
       "1  10001_mix.wav  5.513784  6.466165  Church_bell  0.436819    0.443509\n",
       "2  10002_mix.wav  0.476190  2.030075        Shout  0.641397    0.685553\n",
       "3  10002_mix.wav  2.055138  3.483709    Fireworks  0.388373    0.359040\n",
       "4  10002_mix.wav  5.137845  6.090226    Fireworks  0.874577    0.881943"
      ]
     },
     "execution_count": 89,
     "metadata": {},
     "output_type": "execute_result"
    }
   ],
   "source": [
    "madePrediction = pd.read_csv(\"../predictions/jannes/LP1d_PredictionChallenge_mel_probs3.csv\")\n",
    "pathToDataDir = \"../data/\"\n",
    "pathToDataset = \"dataset_fft_mel_l04_o02495_f32/\"\n",
    "madePrediction.head()"
   ]
  },
  {
   "cell_type": "code",
   "execution_count": 91,
   "id": "interested-blair",
   "metadata": {},
   "outputs": [],
   "source": [
    "currentFile = \"\"\n",
    "X = []\n",
    "Y = []\n",
    "for index, row in madePrediction.iterrows():\n",
    "    if currentFile!=row[\"filename\"]:\n",
    "        currentFile = row[\"filename\"]\n",
    "        features = np.genfromtxt(pathToDataDir + pathToDataset +\"/eval/\" + row[\"filename\"].replace(\".wav\", \".csv\"), delimiter=',')\n",
    "    indices = np.logical_and(features[:,0]>=row[\"onset\"], features[:,0]<=row[\"offset\"])\n",
    "    X.append(features[indices, 1:])\n",
    "    Y.append(bbdc.LABEL_DICT[row[\"event_label\"]])"
   ]
  },
  {
   "cell_type": "code",
   "execution_count": 92,
   "id": "asian-mouth",
   "metadata": {},
   "outputs": [],
   "source": [
    "secondPrediction = []\n",
    "for i in range(len(X)):\n",
    "    if X[i].shape[0]>=44:\n",
    "        pred = np.argmax(model.predict(np.array([X[i]])))\n",
    "        if pred==0:\n",
    "            secondPrediction.append(Y[i])\n",
    "        else:\n",
    "            secondPrediction.append(pred)\n",
    "    else:\n",
    "        secondPrediction.append(Y[i])"
   ]
  },
  {
   "cell_type": "code",
   "execution_count": 93,
   "id": "overall-patio",
   "metadata": {},
   "outputs": [],
   "source": [
    "secondLabel = [bbdc.invLabelMap[pred] for pred in secondPrediction]"
   ]
  },
  {
   "cell_type": "code",
   "execution_count": 94,
   "id": "dental-privilege",
   "metadata": {},
   "outputs": [],
   "source": [
    "secondPredictionDf = madePrediction.copy()\n",
    "secondPredictionDf[\"event_label\"]=secondLabel\n",
    "secondPredictionDf.to_csv(\"../predictions/jannes/secondPrediction.csv\", index=False)"
   ]
  },
  {
   "cell_type": "code",
   "execution_count": 87,
   "id": "smart-worry",
   "metadata": {},
   "outputs": [
    {
     "data": {
      "text/plain": [
       "(0.3599793820073489, 'Valid file')"
      ]
     },
     "execution_count": 87,
     "metadata": {},
     "output_type": "execute_result"
    }
   ],
   "source": [
    "evaluate.evaluate(\"../predictions/jannes/secondPrediction.csv\", \"./../data/test.csv\")"
   ]
  }
 ],
 "metadata": {
  "kernelspec": {
   "display_name": "Python 3",
   "language": "python",
   "name": "python3"
  },
  "language_info": {
   "codemirror_mode": {
    "name": "ipython",
    "version": 3
   },
   "file_extension": ".py",
   "mimetype": "text/x-python",
   "name": "python",
   "nbconvert_exporter": "python",
   "pygments_lexer": "ipython3",
   "version": "3.8.8"
  }
 },
 "nbformat": 4,
 "nbformat_minor": 5
}
