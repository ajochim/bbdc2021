{
 "cells": [
  {
   "cell_type": "code",
   "execution_count": 11,
   "id": "posted-scene",
   "metadata": {},
   "outputs": [],
   "source": [
    "import sys  \n",
    "sys.path.insert(0, './../')\n",
    "import numpy as np\n",
    "import bbdc2021 as bbdc\n",
    "import pandas as pd\n",
    "from importlib import reload\n",
    "reload(bbdc)\n",
    "import tensorflow as tf\n",
    "from keras import layers\n",
    "import keras\n",
    "from keras import backend as K\n",
    "import matplotlib.pyplot as plt\n",
    "from matplotlib import colors \n",
    "import evaluation.evaluate as evaluate"
   ]
  },
  {
   "cell_type": "code",
   "execution_count": 3,
   "id": "ceramic-ivory",
   "metadata": {},
   "outputs": [],
   "source": [
    "np.random.seed(1)\n",
    "tf.random.set_seed(1)"
   ]
  },
  {
   "cell_type": "code",
   "execution_count": null,
   "id": "satisfied-membrane",
   "metadata": {},
   "outputs": [
    {
     "name": "stderr",
     "output_type": "stream",
     "text": [
      "1235it [00:40, 29.93it/s]"
     ]
    }
   ],
   "source": [
    "X_train, Y_train, trainFileList = bbdc.load_audioset(\"long_unbalanced_train_segments.csv\", \"unbalanced_fft_mel_l04_o02495_f32/\", pathToDataDir=\"./../google_audioset/googleData/fft/\")\n",
    "X_validation, Y_validation, validationFileList = bbdc.load_audioset(\"long_balanced_train_segments.csv\", \"balanced_fft_mel_l04_o02495_f32/\", pathToDataDir=\"./../google_audioset/googleData/fft/\")\n",
    "X_test, Y_test, testFileList = bbdc.load_audioset(\"long_eval_segments.csv\", \"eval_fft_mel_l04_o02495_f32/\", pathToDataDir=\"./../google_audioset/googleData/fft/\")"
   ]
  },
  {
   "cell_type": "code",
   "execution_count": 9,
   "id": "novel-mathematics",
   "metadata": {},
   "outputs": [
    {
     "data": {
      "text/plain": [
       "list"
      ]
     },
     "execution_count": 9,
     "metadata": {},
     "output_type": "execute_result"
    }
   ],
   "source": [
    "type(X_test)"
   ]
  },
  {
   "cell_type": "code",
   "execution_count": 7,
   "id": "common-spine",
   "metadata": {},
   "outputs": [
    {
     "name": "stdout",
     "output_type": "stream",
     "text": [
      "Model: \"model_1\"\n",
      "_________________________________________________________________\n",
      "Layer (type)                 Output Shape              Param #   \n",
      "=================================================================\n",
      "input_2 (InputLayer)         [(None, None, 32)]        0         \n",
      "_________________________________________________________________\n",
      "conv1d_8 (Conv1D)            (None, None, 40)          3880      \n",
      "_________________________________________________________________\n",
      "conv1d_9 (Conv1D)            (None, None, 40)          4840      \n",
      "_________________________________________________________________\n",
      "batch_normalization_3 (Batch (None, None, 40)          160       \n",
      "_________________________________________________________________\n",
      "max_pooling1d_2 (MaxPooling1 (None, None, 40)          0         \n",
      "_________________________________________________________________\n",
      "conv1d_10 (Conv1D)           (None, None, 50)          6050      \n",
      "_________________________________________________________________\n",
      "conv1d_11 (Conv1D)           (None, None, 50)          7550      \n",
      "_________________________________________________________________\n",
      "conv1d_12 (Conv1D)           (None, None, 50)          7550      \n",
      "_________________________________________________________________\n",
      "batch_normalization_4 (Batch (None, None, 50)          200       \n",
      "_________________________________________________________________\n",
      "max_pooling1d_3 (MaxPooling1 (None, None, 50)          0         \n",
      "_________________________________________________________________\n",
      "conv1d_13 (Conv1D)           (None, None, 40)          6040      \n",
      "_________________________________________________________________\n",
      "conv1d_14 (Conv1D)           (None, None, 40)          4840      \n",
      "_________________________________________________________________\n",
      "batch_normalization_5 (Batch (None, None, 40)          160       \n",
      "_________________________________________________________________\n",
      "conv1d_15 (Conv1D)           (None, None, 13)          533       \n",
      "_________________________________________________________________\n",
      "global_max_pooling1d_1 (Glob (None, 13)                0         \n",
      "_________________________________________________________________\n",
      "activation_1 (Activation)    (None, 13)                0         \n",
      "=================================================================\n",
      "Total params: 41,803\n",
      "Trainable params: 41,543\n",
      "Non-trainable params: 260\n",
      "_________________________________________________________________\n"
     ]
    }
   ],
   "source": [
    "channels = [40, 50]\n",
    "numClasses=13\n",
    "\n",
    "input_layer = layers.Input(shape=(None, 32))\n",
    "x = input_layer\n",
    "x = layers.Conv1D(channels[0], kernel_size=3, padding='valid', activation='relu')(x)\n",
    "x = layers.Conv1D(channels[0], kernel_size=3, padding='valid', activation='relu')(x)\n",
    "x = layers.BatchNormalization()(x)\n",
    "x = layers.MaxPooling1D()(x)\n",
    "\n",
    "x = layers.Conv1D(channels[1], kernel_size=3, padding='valid', activation='relu')(x)\n",
    "x = layers.Conv1D(channels[1], kernel_size=3, padding='valid', activation='relu')(x)\n",
    "x = layers.Conv1D(channels[1], kernel_size=3, padding='valid', activation='relu')(x)\n",
    "x = layers.BatchNormalization()(x)\n",
    "x = layers.MaxPooling1D()(x)\n",
    "\n",
    "x = layers.Conv1D(channels[0], kernel_size=3, padding='valid', activation='relu')(x)\n",
    "x = layers.Conv1D(channels[0], kernel_size=3, padding='valid', activation='relu')(x)\n",
    "x = layers.BatchNormalization()(x)\n",
    "x = layers.Conv1D(numClasses, kernel_size=1, activation='relu')(x)\n",
    "x = layers.GlobalMaxPooling1D()(x)\n",
    "x = layers.Activation(keras.activations.sigmoid)(x)\n",
    "\n",
    "model = keras.models.Model(inputs=input_layer, outputs=x)\n",
    "model.summary()"
   ]
  },
  {
   "cell_type": "code",
   "execution_count": 10,
   "id": "challenging-laundry",
   "metadata": {},
   "outputs": [
    {
     "name": "stdout",
     "output_type": "stream",
     "text": [
      "Epoch 1/10\n",
      "585/585 [==============================] - 12s 5ms/step - loss: 9.4214 - mae: 0.8321 - accuracy: 0.8584\n",
      "Epoch 2/10\n",
      "585/585 [==============================] - 3s 5ms/step - loss: 39.5332 - mae: 0.8453 - accuracy: 1.0000\n",
      "Epoch 3/10\n",
      "585/585 [==============================] - 3s 5ms/step - loss: 77.1881 - mae: 0.8461 - accuracy: 1.0000\n",
      "Epoch 4/10\n",
      "585/585 [==============================] - 3s 5ms/step - loss: 87.3681 - mae: 0.8461 - accuracy: 1.0000\n",
      "Epoch 5/10\n",
      "585/585 [==============================] - 3s 5ms/step - loss: 109.5343 - mae: 0.8461 - accuracy: 1.0000\n",
      "Epoch 6/10\n",
      "585/585 [==============================] - 3s 5ms/step - loss: 143.7923 - mae: 0.8459 - accuracy: 1.0000\n",
      "Epoch 7/10\n",
      "585/585 [==============================] - 3s 5ms/step - loss: 179.6251 - mae: 0.8461 - accuracy: 1.0000\n",
      "Epoch 8/10\n",
      "585/585 [==============================] - 3s 4ms/step - loss: 192.0517 - mae: 0.8459 - accuracy: 1.0000\n",
      "Epoch 9/10\n",
      "585/585 [==============================] - 3s 5ms/step - loss: 245.4693 - mae: 0.8458 - accuracy: 1.0000\n",
      "Epoch 10/10\n",
      "585/585 [==============================] - 3s 4ms/step - loss: 245.2926 - mae: 0.8460 - accuracy: 1.0000\n"
     ]
    }
   ],
   "source": [
    "opt = keras.optimizers.Adam(learning_rate=0.001)\n",
    "model.compile(optimizer=opt, loss='categorical_crossentropy', metrics=['mae', 'accuracy'])\n",
    "history = model.fit(np.array(X_test), np.array(Y_test), batch_size=1, epochs=10, shuffle=True)"
   ]
  },
  {
   "cell_type": "code",
   "execution_count": 14,
   "id": "signal-discovery",
   "metadata": {},
   "outputs": [
    {
     "data": {
      "text/plain": [
       "dtype('O')"
      ]
     },
     "execution_count": 14,
     "metadata": {},
     "output_type": "execute_result"
    }
   ],
   "source": [
    "X_test.dtype"
   ]
  }
 ],
 "metadata": {
  "kernelspec": {
   "display_name": "Python 3",
   "language": "python",
   "name": "python3"
  },
  "language_info": {
   "codemirror_mode": {
    "name": "ipython",
    "version": 3
   },
   "file_extension": ".py",
   "mimetype": "text/x-python",
   "name": "python",
   "nbconvert_exporter": "python",
   "pygments_lexer": "ipython3",
   "version": "3.8.8"
  }
 },
 "nbformat": 4,
 "nbformat_minor": 5
}
