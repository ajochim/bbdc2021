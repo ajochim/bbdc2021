{
 "cells": [
  {
   "cell_type": "code",
   "execution_count": 1,
   "id": "accessible-level",
   "metadata": {},
   "outputs": [],
   "source": [
    "import sys  \n",
    "sys.path.insert(0, './../')\n",
    "import numpy as np\n",
    "import bbdc2021 as bbdc\n",
    "import pandas as pd\n",
    "from importlib import reload\n",
    "reload(bbdc)\n",
    "import tensorflow as tf\n",
    "from keras import layers\n",
    "import keras\n",
    "from keras import backend as K\n",
    "import matplotlib.pyplot as plt\n",
    "from matplotlib import colors \n",
    "import evaluation.evaluate as evaluate\n",
    "from tqdm import tqdm"
   ]
  },
  {
   "cell_type": "code",
   "execution_count": 2,
   "id": "fixed-alabama",
   "metadata": {},
   "outputs": [],
   "source": [
    "np.random.seed(1)\n",
    "tf.random.set_seed(1)\n",
    "pathToDataset = \"dataset_fft_mel_l04_o02495_f32/\""
   ]
  },
  {
   "cell_type": "code",
   "execution_count": 3,
   "id": "communist-anchor",
   "metadata": {},
   "outputs": [
    {
     "name": "stdout",
     "output_type": "stream",
     "text": [
      "Model: \"model\"\n",
      "_________________________________________________________________\n",
      "Layer (type)                 Output Shape              Param #   \n",
      "=================================================================\n",
      "input_3 (InputLayer)         [(None, None, 32)]        0         \n",
      "_________________________________________________________________\n",
      "reshape_2 (Reshape)          (None, None, 32, 1)       0         \n",
      "_________________________________________________________________\n",
      "conv2d_8 (Conv2D)            (None, None, 32, 25)      250       \n",
      "_________________________________________________________________\n",
      "conv2d_9 (Conv2D)            (None, None, 32, 25)      5650      \n",
      "_________________________________________________________________\n",
      "batch_normalization_3 (Batch (None, None, 32, 25)      100       \n",
      "_________________________________________________________________\n",
      "max_pooling2d_3 (MaxPooling2 (None, None, 16, 25)      0         \n",
      "_________________________________________________________________\n",
      "conv2d_10 (Conv2D)           (None, None, 16, 20)      4520      \n",
      "_________________________________________________________________\n",
      "conv2d_11 (Conv2D)           (None, None, 16, 20)      3620      \n",
      "_________________________________________________________________\n",
      "conv2d_12 (Conv2D)           (None, None, 16, 20)      3620      \n",
      "_________________________________________________________________\n",
      "batch_normalization_4 (Batch (None, None, 16, 20)      80        \n",
      "_________________________________________________________________\n",
      "max_pooling2d_4 (MaxPooling2 (None, None, 8, 20)       0         \n",
      "_________________________________________________________________\n",
      "conv2d_13 (Conv2D)           (None, None, 8, 15)       2715      \n",
      "_________________________________________________________________\n",
      "conv2d_14 (Conv2D)           (None, None, 8, 15)       2040      \n",
      "_________________________________________________________________\n",
      "batch_normalization_5 (Batch (None, None, 8, 15)       60        \n",
      "_________________________________________________________________\n",
      "max_pooling2d_5 (MaxPooling2 (None, None, 1, 15)       0         \n",
      "_________________________________________________________________\n",
      "conv2d_15 (Conv2D)           (None, None, 1, 12)       192       \n",
      "_________________________________________________________________\n",
      "reshape_3 (Reshape)          (None, None, 12)          0         \n",
      "_________________________________________________________________\n",
      "global_max_pooling1d_1 (Glob (None, 12)                0         \n",
      "_________________________________________________________________\n",
      "activation (Activation)      (None, 12)                0         \n",
      "=================================================================\n",
      "Total params: 22,847\n",
      "Trainable params: 22,727\n",
      "Non-trainable params: 120\n",
      "_________________________________________________________________\n"
     ]
    }
   ],
   "source": [
    "model = keras.models.load_model(\"classification_2d_BBDC_Data_100.h5\")\n",
    "model.summary()"
   ]
  },
  {
   "cell_type": "markdown",
   "id": "rapid-committee",
   "metadata": {},
   "source": [
    "# Prediction der Challenge-Daten"
   ]
  },
  {
   "cell_type": "code",
   "execution_count": 145,
   "id": "material-upset",
   "metadata": {},
   "outputs": [
    {
     "data": {
      "text/html": [
       "<div>\n",
       "<style scoped>\n",
       "    .dataframe tbody tr th:only-of-type {\n",
       "        vertical-align: middle;\n",
       "    }\n",
       "\n",
       "    .dataframe tbody tr th {\n",
       "        vertical-align: top;\n",
       "    }\n",
       "\n",
       "    .dataframe thead th {\n",
       "        text-align: right;\n",
       "    }\n",
       "</style>\n",
       "<table border=\"1\" class=\"dataframe\">\n",
       "  <thead>\n",
       "    <tr style=\"text-align: right;\">\n",
       "      <th></th>\n",
       "      <th>filename</th>\n",
       "      <th>onset</th>\n",
       "      <th>offset</th>\n",
       "      <th>event_label</th>\n",
       "      <th>MeanProb</th>\n",
       "      <th>MedianProb</th>\n",
       "    </tr>\n",
       "  </thead>\n",
       "  <tbody>\n",
       "    <tr>\n",
       "      <th>0</th>\n",
       "      <td>10001_mix.wav</td>\n",
       "      <td>2.857143</td>\n",
       "      <td>3.684211</td>\n",
       "      <td>Cheering</td>\n",
       "      <td>0.981393</td>\n",
       "      <td>0.995045</td>\n",
       "    </tr>\n",
       "    <tr>\n",
       "      <th>1</th>\n",
       "      <td>10001_mix.wav</td>\n",
       "      <td>5.513784</td>\n",
       "      <td>6.390977</td>\n",
       "      <td>Doorbell</td>\n",
       "      <td>0.887982</td>\n",
       "      <td>0.984081</td>\n",
       "    </tr>\n",
       "    <tr>\n",
       "      <th>2</th>\n",
       "      <td>10002_mix.wav</td>\n",
       "      <td>0.426065</td>\n",
       "      <td>2.481203</td>\n",
       "      <td>Camera</td>\n",
       "      <td>0.551233</td>\n",
       "      <td>0.629025</td>\n",
       "    </tr>\n",
       "    <tr>\n",
       "      <th>3</th>\n",
       "      <td>10002_mix.wav</td>\n",
       "      <td>2.506266</td>\n",
       "      <td>3.508772</td>\n",
       "      <td>Shatter</td>\n",
       "      <td>0.916703</td>\n",
       "      <td>0.997395</td>\n",
       "    </tr>\n",
       "    <tr>\n",
       "      <th>4</th>\n",
       "      <td>10002_mix.wav</td>\n",
       "      <td>5.137845</td>\n",
       "      <td>6.090226</td>\n",
       "      <td>Church_bell</td>\n",
       "      <td>0.341877</td>\n",
       "      <td>0.251322</td>\n",
       "    </tr>\n",
       "  </tbody>\n",
       "</table>\n",
       "</div>"
      ],
      "text/plain": [
       "        filename     onset    offset  event_label  MeanProb  MedianProb\n",
       "0  10001_mix.wav  2.857143  3.684211     Cheering  0.981393    0.995045\n",
       "1  10001_mix.wav  5.513784  6.390977     Doorbell  0.887982    0.984081\n",
       "2  10002_mix.wav  0.426065  2.481203       Camera  0.551233    0.629025\n",
       "3  10002_mix.wav  2.506266  3.508772      Shatter  0.916703    0.997395\n",
       "4  10002_mix.wav  5.137845  6.090226  Church_bell  0.341877    0.251322"
      ]
     },
     "execution_count": 145,
     "metadata": {},
     "output_type": "execute_result"
    }
   ],
   "source": [
    "pathToDataDir = \"../data/\"\n",
    "pathToDataset = \"dataset_fft_mel_l04_o02495_f32/\"\n",
    "firstPredictionFile = \"../submissions/challenge_submission_t08n03b2_extra_submission7.csv\"\n",
    "firstPrediction = pd.read_csv(firstPredictionFile)\n",
    "firstPrediction.head()"
   ]
  },
  {
   "cell_type": "code",
   "execution_count": 146,
   "id": "french-battery",
   "metadata": {},
   "outputs": [
    {
     "name": "stderr",
     "output_type": "stream",
     "text": [
      "<ipython-input-146-346313726371>:2: SettingWithCopyWarning: \n",
      "A value is trying to be set on a copy of a slice from a DataFrame\n",
      "\n",
      "See the caveats in the documentation: https://pandas.pydata.org/pandas-docs/stable/user_guide/indexing.html#returning-a-view-versus-a-copy\n",
      "  firstPrediction.MedianProb[firstPrediction.numberOfFile<=10500]=1\n"
     ]
    },
    {
     "data": {
      "text/html": [
       "<div>\n",
       "<style scoped>\n",
       "    .dataframe tbody tr th:only-of-type {\n",
       "        vertical-align: middle;\n",
       "    }\n",
       "\n",
       "    .dataframe tbody tr th {\n",
       "        vertical-align: top;\n",
       "    }\n",
       "\n",
       "    .dataframe thead th {\n",
       "        text-align: right;\n",
       "    }\n",
       "</style>\n",
       "<table border=\"1\" class=\"dataframe\">\n",
       "  <thead>\n",
       "    <tr style=\"text-align: right;\">\n",
       "      <th></th>\n",
       "      <th>filename</th>\n",
       "      <th>onset</th>\n",
       "      <th>offset</th>\n",
       "      <th>event_label</th>\n",
       "      <th>MeanProb</th>\n",
       "      <th>MedianProb</th>\n",
       "      <th>numberOfFile</th>\n",
       "    </tr>\n",
       "  </thead>\n",
       "  <tbody>\n",
       "    <tr>\n",
       "      <th>0</th>\n",
       "      <td>10001_mix.wav</td>\n",
       "      <td>2.857143</td>\n",
       "      <td>3.684211</td>\n",
       "      <td>Cheering</td>\n",
       "      <td>0.981393</td>\n",
       "      <td>1.0</td>\n",
       "      <td>10001</td>\n",
       "    </tr>\n",
       "    <tr>\n",
       "      <th>1</th>\n",
       "      <td>10001_mix.wav</td>\n",
       "      <td>5.513784</td>\n",
       "      <td>6.390977</td>\n",
       "      <td>Doorbell</td>\n",
       "      <td>0.887982</td>\n",
       "      <td>1.0</td>\n",
       "      <td>10001</td>\n",
       "    </tr>\n",
       "    <tr>\n",
       "      <th>2</th>\n",
       "      <td>10002_mix.wav</td>\n",
       "      <td>0.426065</td>\n",
       "      <td>2.481203</td>\n",
       "      <td>Camera</td>\n",
       "      <td>0.551233</td>\n",
       "      <td>1.0</td>\n",
       "      <td>10002</td>\n",
       "    </tr>\n",
       "    <tr>\n",
       "      <th>3</th>\n",
       "      <td>10002_mix.wav</td>\n",
       "      <td>2.506266</td>\n",
       "      <td>3.508772</td>\n",
       "      <td>Shatter</td>\n",
       "      <td>0.916703</td>\n",
       "      <td>1.0</td>\n",
       "      <td>10002</td>\n",
       "    </tr>\n",
       "    <tr>\n",
       "      <th>4</th>\n",
       "      <td>10002_mix.wav</td>\n",
       "      <td>5.137845</td>\n",
       "      <td>6.090226</td>\n",
       "      <td>Church_bell</td>\n",
       "      <td>0.341877</td>\n",
       "      <td>1.0</td>\n",
       "      <td>10002</td>\n",
       "    </tr>\n",
       "  </tbody>\n",
       "</table>\n",
       "</div>"
      ],
      "text/plain": [
       "        filename     onset    offset  event_label  MeanProb  MedianProb  \\\n",
       "0  10001_mix.wav  2.857143  3.684211     Cheering  0.981393         1.0   \n",
       "1  10001_mix.wav  5.513784  6.390977     Doorbell  0.887982         1.0   \n",
       "2  10002_mix.wav  0.426065  2.481203       Camera  0.551233         1.0   \n",
       "3  10002_mix.wav  2.506266  3.508772      Shatter  0.916703         1.0   \n",
       "4  10002_mix.wav  5.137845  6.090226  Church_bell  0.341877         1.0   \n",
       "\n",
       "   numberOfFile  \n",
       "0         10001  \n",
       "1         10001  \n",
       "2         10002  \n",
       "3         10002  \n",
       "4         10002  "
      ]
     },
     "execution_count": 146,
     "metadata": {},
     "output_type": "execute_result"
    }
   ],
   "source": [
    "firstPrediction[\"numberOfFile\"] = firstPrediction.filename.str.split(pat=\"_\", n=1, expand=True)[0].astype(int)\n",
    "firstPrediction.MedianProb[firstPrediction.numberOfFile<=10500]=1\n",
    "firstPrediction.head()"
   ]
  },
  {
   "cell_type": "code",
   "execution_count": 157,
   "id": "tribal-kennedy",
   "metadata": {},
   "outputs": [],
   "source": [
    "ignoredClasses = ['Cough', 'Burping_and_eructation', 'Scratching_(performance_technique)']\n",
    "predictUntilProb = 0.7\n",
    "usedProb = \"MedianProb\""
   ]
  },
  {
   "cell_type": "code",
   "execution_count": 158,
   "id": "damaged-oklahoma",
   "metadata": {},
   "outputs": [],
   "source": [
    "predictionProbabilities = firstPrediction[usedProb].values\n",
    "predictionProbabilities[np.isnan(predictionProbabilities)] = 0\n",
    "sortedIndices = np.argsort(predictionProbabilities)"
   ]
  },
  {
   "cell_type": "code",
   "execution_count": 159,
   "id": "expanded-roots",
   "metadata": {},
   "outputs": [],
   "source": [
    "index  = 0\n",
    "X = []\n",
    "indicesToReplace = []\n",
    "while firstPrediction.iloc[sortedIndices[index]][usedProb]<predictUntilProb:\n",
    "    row = firstPrediction.iloc[sortedIndices[index]]\n",
    "    if row.event_label not in ignoredClasses:\n",
    "        features = np.genfromtxt(pathToDataDir + pathToDataset +\"/eval/\" + row[\"filename\"].replace(\".wav\", \".csv\"), delimiter=',')\n",
    "        indices = np.where(np.logical_and(features[:,0]>=row[\"onset\"], features[:,0]<=row[\"offset\"]))[0]\n",
    "        start = indices[0]\n",
    "        end = indices[-1]\n",
    "        while end-start<44:\n",
    "            start = start-10\n",
    "            end = end+10\n",
    "            if end>=len(features):\n",
    "                end = len(features)\n",
    "            if start<0:\n",
    "                start=0\n",
    "        X.append(features[start:end, 1:])\n",
    "        indicesToReplace.append(sortedIndices[index])\n",
    "    index += 1"
   ]
  },
  {
   "cell_type": "code",
   "execution_count": 160,
   "id": "threaded-discovery",
   "metadata": {},
   "outputs": [],
   "source": [
    "firstPrediction[\"oldLabel\"] = firstPrediction.event_label\n",
    "newPrediction = firstPrediction.copy()\n",
    "for i in range(len(X)):\n",
    "    newLabel= bbdc.invLabelMap[np.argmax(model.predict(np.array([X[i]])))+1]\n",
    "    newPrediction.at[sortedIndices[i], \"event_label\"] = newLabel"
   ]
  },
  {
   "cell_type": "code",
   "execution_count": 161,
   "id": "emotional-milan",
   "metadata": {},
   "outputs": [
    {
     "name": "stdout",
     "output_type": "stream",
     "text": [
      "1754\n"
     ]
    }
   ],
   "source": [
    "print(len(indicesToReplace))"
   ]
  },
  {
   "cell_type": "code",
   "execution_count": 162,
   "id": "pointed-jenny",
   "metadata": {},
   "outputs": [
    {
     "name": "stdout",
     "output_type": "stream",
     "text": [
      "Changed 1571 Labels\n"
     ]
    }
   ],
   "source": [
    "n = np.sum(newPrediction.event_label.values != newPrediction.oldLabel.values)\n",
    "print(\"Changed \"+str(n)+\" Labels\")"
   ]
  },
  {
   "cell_type": "code",
   "execution_count": 163,
   "id": "minute-wagon",
   "metadata": {},
   "outputs": [
    {
     "name": "stdout",
     "output_type": "stream",
     "text": [
      "File: 11173_mix.wav  Label was: Fireworks     now is Shatter  0.12531328320802 bis 1.45363408521303\n",
      "File: 11465_mix.wav  Label was: Fireworks     now is Fireworks  0.952380952380952 bis 1.9047619047619\n",
      "File: 12143_mix.wav  Label was: Bark     now is Meow  2.68170426065163 bis 4.61152882205514\n",
      "File: 12619_mix.wav  Label was: Camera     now is Bark  1.70426065162907 bis 2.65664160401002\n",
      "File: 10802_mix.wav  Label was: Cheering     now is Bark  5.13784461152882 bis 6.11528822055138\n",
      "File: 11072_mix.wav  Label was: Camera     now is Meow  5.11278195488722 bis 6.59147869674185\n",
      "File: 12495_mix.wav  Label was: Church_bell     now is Bark  5.03759398496241 bis 6.8421052631579\n",
      "File: 12122_mix.wav  Label was: Church_bell     now is Meow  7.44360902255639 bis 8.7468671679198\n",
      "File: 10768_mix.wav  Label was: Shout     now is Meow  0.25062656641604 bis 2.13032581453634\n",
      "File: 11132_mix.wav  Label was: Meow     now is Cough  2.98245614035088 bis 3.88471177944862\n"
     ]
    }
   ],
   "source": [
    "for i in range(10):\n",
    "    row = newPrediction.iloc[indicesToReplace[i]]\n",
    "    print(\"File: \"+ row.filename + \"  Label was: \" +row.oldLabel + \"     now is \"+row.event_label + \"  \"+str(row.onset)+\" bis \"+str(row.offset))"
   ]
  },
  {
   "cell_type": "code",
   "execution_count": 164,
   "id": "tested-anthony",
   "metadata": {},
   "outputs": [
    {
     "name": "stdout",
     "output_type": "stream",
     "text": [
      "File: 11515_mix.wav  Label was: Camera     now is Camera  5.38847117794486 bis 6.41604010025063\n",
      "File: 12651_mix.wav  Label was: Fireworks     now is Fireworks  3.80952380952381 bis 4.53634085213033\n",
      "File: 11215_mix.wav  Label was: Cheering     now is Cheering  5.41353383458647 bis 6.34085213032581\n",
      "File: 12347_mix.wav  Label was: Fireworks     now is Fireworks  9.07268170426065 bis 9.47368421052632\n",
      "File: 12136_mix.wav  Label was: Fireworks     now is Fireworks  1.52882205513784 bis 3.25814536340852\n",
      "File: 12817_mix.wav  Label was: Fireworks     now is Fireworks  0.75187969924812 bis 1.70426065162907\n",
      "File: 11208_mix.wav  Label was: Meow     now is Meow  2.68170426065163 bis 4.63659147869674\n",
      "File: 10809_mix.wav  Label was: Church_bell     now is Church_bell  2.5062656641604 bis 3.38345864661654\n",
      "File: 10858_mix.wav  Label was: Cheering     now is Cheering  4.53634085213033 bis 5.51378446115288\n",
      "File: 11787_mix.wav  Label was: Doorbell     now is Doorbell  2.93233082706767 bis 3.90977443609023\n",
      "File: 11300_mix.wav  Label was: Doorbell     now is Doorbell  8.02005012531328 bis 9.82456140350877\n",
      "File: 11817_mix.wav  Label was: Shout     now is Shout  8.02005012531328 bis 8.92230576441103\n",
      "File: 12688_mix.wav  Label was: Shout     now is Shout  0.075187969924812 bis 1.02756892230576\n",
      "File: 10877_mix.wav  Label was: Meow     now is Meow  0.175438596491228 bis 0.476190476190476\n",
      "File: 12126_mix.wav  Label was: Doorbell     now is Doorbell  5.43859649122807 bis 7.21804511278195\n",
      "File: 12119_mix.wav  Label was: Meow     now is Meow  0.551378446115288 bis 1.50375939849624\n",
      "File: 11396_mix.wav  Label was: Shout     now is Shout  3.63408521303258 bis 4.63659147869674\n",
      "File: 12795_mix.wav  Label was: Cheering     now is Cheering  6.09022556390977 bis 7.34335839598997\n",
      "File: 11229_mix.wav  Label was: Meow     now is Meow  3.1328320802005 bis 4.08521303258145\n"
     ]
    }
   ],
   "source": [
    "for i in range(1,20):\n",
    "    row = newPrediction.iloc[indicesToReplace[-i]]\n",
    "    print(\"File: \"+ row.filename + \"  Label was: \" +row.oldLabel + \"     now is \"+row.event_label + \"  \"+str(row.onset)+\" bis \"+str(row.offset))"
   ]
  },
  {
   "cell_type": "code",
   "execution_count": 165,
   "id": "acknowledged-conjunction",
   "metadata": {},
   "outputs": [
    {
     "data": {
      "text/html": [
       "<div>\n",
       "<style scoped>\n",
       "    .dataframe tbody tr th:only-of-type {\n",
       "        vertical-align: middle;\n",
       "    }\n",
       "\n",
       "    .dataframe tbody tr th {\n",
       "        vertical-align: top;\n",
       "    }\n",
       "\n",
       "    .dataframe thead th {\n",
       "        text-align: right;\n",
       "    }\n",
       "</style>\n",
       "<table border=\"1\" class=\"dataframe\">\n",
       "  <thead>\n",
       "    <tr style=\"text-align: right;\">\n",
       "      <th></th>\n",
       "      <th>filename</th>\n",
       "      <th>onset</th>\n",
       "      <th>offset</th>\n",
       "      <th>event_label</th>\n",
       "      <th>MeanProb</th>\n",
       "      <th>MedianProb</th>\n",
       "      <th>numberOfFile</th>\n",
       "      <th>oldLabel</th>\n",
       "    </tr>\n",
       "  </thead>\n",
       "  <tbody>\n",
       "    <tr>\n",
       "      <th>0</th>\n",
       "      <td>10001_mix.wav</td>\n",
       "      <td>2.857143</td>\n",
       "      <td>3.684211</td>\n",
       "      <td>Cheering</td>\n",
       "      <td>0.981393</td>\n",
       "      <td>1.0</td>\n",
       "      <td>10001</td>\n",
       "      <td>Cheering</td>\n",
       "    </tr>\n",
       "    <tr>\n",
       "      <th>1</th>\n",
       "      <td>10001_mix.wav</td>\n",
       "      <td>5.513784</td>\n",
       "      <td>6.390977</td>\n",
       "      <td>Doorbell</td>\n",
       "      <td>0.887982</td>\n",
       "      <td>1.0</td>\n",
       "      <td>10001</td>\n",
       "      <td>Doorbell</td>\n",
       "    </tr>\n",
       "    <tr>\n",
       "      <th>2</th>\n",
       "      <td>10002_mix.wav</td>\n",
       "      <td>0.426065</td>\n",
       "      <td>2.481203</td>\n",
       "      <td>Camera</td>\n",
       "      <td>0.551233</td>\n",
       "      <td>1.0</td>\n",
       "      <td>10002</td>\n",
       "      <td>Camera</td>\n",
       "    </tr>\n",
       "    <tr>\n",
       "      <th>3</th>\n",
       "      <td>10002_mix.wav</td>\n",
       "      <td>2.506266</td>\n",
       "      <td>3.508772</td>\n",
       "      <td>Shatter</td>\n",
       "      <td>0.916703</td>\n",
       "      <td>1.0</td>\n",
       "      <td>10002</td>\n",
       "      <td>Shatter</td>\n",
       "    </tr>\n",
       "    <tr>\n",
       "      <th>4</th>\n",
       "      <td>10002_mix.wav</td>\n",
       "      <td>5.137845</td>\n",
       "      <td>6.090226</td>\n",
       "      <td>Church_bell</td>\n",
       "      <td>0.341877</td>\n",
       "      <td>1.0</td>\n",
       "      <td>10002</td>\n",
       "      <td>Church_bell</td>\n",
       "    </tr>\n",
       "  </tbody>\n",
       "</table>\n",
       "</div>"
      ],
      "text/plain": [
       "        filename     onset    offset  event_label  MeanProb  MedianProb  \\\n",
       "0  10001_mix.wav  2.857143  3.684211     Cheering  0.981393         1.0   \n",
       "1  10001_mix.wav  5.513784  6.390977     Doorbell  0.887982         1.0   \n",
       "2  10002_mix.wav  0.426065  2.481203       Camera  0.551233         1.0   \n",
       "3  10002_mix.wav  2.506266  3.508772      Shatter  0.916703         1.0   \n",
       "4  10002_mix.wav  5.137845  6.090226  Church_bell  0.341877         1.0   \n",
       "\n",
       "   numberOfFile     oldLabel  \n",
       "0         10001     Cheering  \n",
       "1         10001     Doorbell  \n",
       "2         10002       Camera  \n",
       "3         10002      Shatter  \n",
       "4         10002  Church_bell  "
      ]
     },
     "execution_count": 165,
     "metadata": {},
     "output_type": "execute_result"
    }
   ],
   "source": [
    "newPrediction.to_csv(\"../submissions/submission17/submission7_extra_changedUnsecure.csv\", index=False)\n",
    "newPrediction.head()"
   ]
  },
  {
   "cell_type": "code",
   "execution_count": 166,
   "id": "patient-badge",
   "metadata": {},
   "outputs": [
    {
     "data": {
      "text/html": [
       "<div>\n",
       "<style scoped>\n",
       "    .dataframe tbody tr th:only-of-type {\n",
       "        vertical-align: middle;\n",
       "    }\n",
       "\n",
       "    .dataframe tbody tr th {\n",
       "        vertical-align: top;\n",
       "    }\n",
       "\n",
       "    .dataframe thead th {\n",
       "        text-align: right;\n",
       "    }\n",
       "</style>\n",
       "<table border=\"1\" class=\"dataframe\">\n",
       "  <thead>\n",
       "    <tr style=\"text-align: right;\">\n",
       "      <th></th>\n",
       "      <th>filename</th>\n",
       "      <th>onset</th>\n",
       "      <th>offset</th>\n",
       "      <th>event_label</th>\n",
       "    </tr>\n",
       "  </thead>\n",
       "  <tbody>\n",
       "    <tr>\n",
       "      <th>0</th>\n",
       "      <td>10001_mix.wav</td>\n",
       "      <td>2.857143</td>\n",
       "      <td>3.684211</td>\n",
       "      <td>Cheering</td>\n",
       "    </tr>\n",
       "    <tr>\n",
       "      <th>1</th>\n",
       "      <td>10001_mix.wav</td>\n",
       "      <td>5.513784</td>\n",
       "      <td>6.390977</td>\n",
       "      <td>Doorbell</td>\n",
       "    </tr>\n",
       "    <tr>\n",
       "      <th>2</th>\n",
       "      <td>10002_mix.wav</td>\n",
       "      <td>0.426065</td>\n",
       "      <td>2.481203</td>\n",
       "      <td>Camera</td>\n",
       "    </tr>\n",
       "    <tr>\n",
       "      <th>3</th>\n",
       "      <td>10002_mix.wav</td>\n",
       "      <td>2.506266</td>\n",
       "      <td>3.508772</td>\n",
       "      <td>Shatter</td>\n",
       "    </tr>\n",
       "    <tr>\n",
       "      <th>4</th>\n",
       "      <td>10002_mix.wav</td>\n",
       "      <td>5.137845</td>\n",
       "      <td>6.090226</td>\n",
       "      <td>Church_bell</td>\n",
       "    </tr>\n",
       "  </tbody>\n",
       "</table>\n",
       "</div>"
      ],
      "text/plain": [
       "        filename     onset    offset  event_label\n",
       "0  10001_mix.wav  2.857143  3.684211     Cheering\n",
       "1  10001_mix.wav  5.513784  6.390977     Doorbell\n",
       "2  10002_mix.wav  0.426065  2.481203       Camera\n",
       "3  10002_mix.wav  2.506266  3.508772      Shatter\n",
       "4  10002_mix.wav  5.137845  6.090226  Church_bell"
      ]
     },
     "execution_count": 166,
     "metadata": {},
     "output_type": "execute_result"
    }
   ],
   "source": [
    "predictionForChallenge = newPrediction.drop(columns=['MeanProb', \"MedianProb\", \"numberOfFile\", \"oldLabel\"])\n",
    "predictionForChallenge.to_csv(\"../submissions/submission17/submission7_extra_changedUnsecure_forChallenge.csv\", index=False)\n",
    "predictionForChallenge.head()"
   ]
  }
 ],
 "metadata": {
  "kernelspec": {
   "display_name": "Python 3",
   "language": "python",
   "name": "python3"
  },
  "language_info": {
   "codemirror_mode": {
    "name": "ipython",
    "version": 3
   },
   "file_extension": ".py",
   "mimetype": "text/x-python",
   "name": "python",
   "nbconvert_exporter": "python",
   "pygments_lexer": "ipython3",
   "version": "3.8.8"
  }
 },
 "nbformat": 4,
 "nbformat_minor": 5
}
