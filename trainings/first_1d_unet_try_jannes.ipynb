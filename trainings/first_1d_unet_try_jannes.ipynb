{
 "cells": [
  {
   "cell_type": "code",
   "execution_count": 1,
   "id": "identified-result",
   "metadata": {},
   "outputs": [
    {
     "data": {
      "text/plain": [
       "<module 'models.cnn.u_net_1d' from './../models/cnn/u_net_1d.py'>"
      ]
     },
     "execution_count": 1,
     "metadata": {},
     "output_type": "execute_result"
    }
   ],
   "source": [
    "import sys  \n",
    "sys.path.insert(0, './../')\n",
    "import numpy as np\n",
    "import bbdc2021 as bbdc\n",
    "import pandas as pd\n",
    "from importlib import reload\n",
    "reload(bbdc)\n",
    "import tensorflow as tf\n",
    "from keras import layers\n",
    "import keras\n",
    "from keras import backend as K\n",
    "from itertools import groupby\n",
    "import matplotlib.pyplot as plt\n",
    "from matplotlib import colors \n",
    "import models.cnn.u_net_1d as unet\n",
    "reload(unet)"
   ]
  },
  {
   "cell_type": "code",
   "execution_count": null,
   "id": "split-michael",
   "metadata": {},
   "outputs": [],
   "source": [
    "pathToDataset = \"dataset_fft_l1024_o523_b4/dev/\"\n",
    "X_train, Y_train, timepoints, trainFileList = bbdc.load_data(\"train.csv\", pathToDataset)\n",
    "X_validation, Y_validation, timepoints, validationFileList = bbdc.load_data(\"validation.csv\", pathToDataset)  \n",
    "X_test, Y_test, timepoints, testFileList = bbdc.load_data(\"test.csv\", pathToDataset)\n",
    "\n",
    "inputShape = X_train[0].shape"
   ]
  },
  {
   "cell_type": "code",
   "execution_count": 21,
   "id": "digital-medicine",
   "metadata": {},
   "outputs": [
    {
     "name": "stdout",
     "output_type": "stream",
     "text": [
      "2.4.1\n"
     ]
    }
   ],
   "source": [
    "print(tf.__version__)"
   ]
  },
  {
   "cell_type": "code",
   "execution_count": 4,
   "id": "signed-kingdom",
   "metadata": {},
   "outputs": [
    {
     "name": "stdout",
     "output_type": "stream",
     "text": [
      "Model: \"model\"\n",
      "__________________________________________________________________________________________________\n",
      "Layer (type)                    Output Shape         Param #     Connected to                     \n",
      "==================================================================================================\n",
      "input_1 (InputLayer)            [(None, 320, 129)]   0                                            \n",
      "__________________________________________________________________________________________________\n",
      "conv1d (Conv1D)                 (None, 320, 32)      12416       input_1[0][0]                    \n",
      "__________________________________________________________________________________________________\n",
      "batch_normalization (BatchNorma (None, 320, 32)      128         conv1d[0][0]                     \n",
      "__________________________________________________________________________________________________\n",
      "re_lu (ReLU)                    (None, 320, 32)      0           batch_normalization[0][0]        \n",
      "__________________________________________________________________________________________________\n",
      "conv1d_1 (Conv1D)               (None, 320, 32)      3104        re_lu[0][0]                      \n",
      "__________________________________________________________________________________________________\n",
      "batch_normalization_1 (BatchNor (None, 320, 32)      128         conv1d_1[0][0]                   \n",
      "__________________________________________________________________________________________________\n",
      "re_lu_1 (ReLU)                  (None, 320, 32)      0           batch_normalization_1[0][0]      \n",
      "__________________________________________________________________________________________________\n",
      "max_pooling1d (MaxPooling1D)    (None, 160, 32)      0           re_lu_1[0][0]                    \n",
      "__________________________________________________________________________________________________\n",
      "conv1d_2 (Conv1D)               (None, 160, 64)      6208        max_pooling1d[0][0]              \n",
      "__________________________________________________________________________________________________\n",
      "batch_normalization_2 (BatchNor (None, 160, 64)      256         conv1d_2[0][0]                   \n",
      "__________________________________________________________________________________________________\n",
      "re_lu_2 (ReLU)                  (None, 160, 64)      0           batch_normalization_2[0][0]      \n",
      "__________________________________________________________________________________________________\n",
      "conv1d_3 (Conv1D)               (None, 160, 64)      12352       re_lu_2[0][0]                    \n",
      "__________________________________________________________________________________________________\n",
      "batch_normalization_3 (BatchNor (None, 160, 64)      256         conv1d_3[0][0]                   \n",
      "__________________________________________________________________________________________________\n",
      "re_lu_3 (ReLU)                  (None, 160, 64)      0           batch_normalization_3[0][0]      \n",
      "__________________________________________________________________________________________________\n",
      "max_pooling1d_1 (MaxPooling1D)  (None, 80, 64)       0           re_lu_3[0][0]                    \n",
      "__________________________________________________________________________________________________\n",
      "conv1d_4 (Conv1D)               (None, 80, 90)       17370       max_pooling1d_1[0][0]            \n",
      "__________________________________________________________________________________________________\n",
      "batch_normalization_4 (BatchNor (None, 80, 90)       360         conv1d_4[0][0]                   \n",
      "__________________________________________________________________________________________________\n",
      "re_lu_4 (ReLU)                  (None, 80, 90)       0           batch_normalization_4[0][0]      \n",
      "__________________________________________________________________________________________________\n",
      "conv1d_5 (Conv1D)               (None, 80, 90)       24390       re_lu_4[0][0]                    \n",
      "__________________________________________________________________________________________________\n",
      "batch_normalization_5 (BatchNor (None, 80, 90)       360         conv1d_5[0][0]                   \n",
      "__________________________________________________________________________________________________\n",
      "re_lu_5 (ReLU)                  (None, 80, 90)       0           batch_normalization_5[0][0]      \n",
      "__________________________________________________________________________________________________\n",
      "max_pooling1d_2 (MaxPooling1D)  (None, 40, 90)       0           re_lu_5[0][0]                    \n",
      "__________________________________________________________________________________________________\n",
      "conv1d_6 (Conv1D)               (None, 40, 130)      35230       max_pooling1d_2[0][0]            \n",
      "__________________________________________________________________________________________________\n",
      "batch_normalization_6 (BatchNor (None, 40, 130)      520         conv1d_6[0][0]                   \n",
      "__________________________________________________________________________________________________\n",
      "re_lu_6 (ReLU)                  (None, 40, 130)      0           batch_normalization_6[0][0]      \n",
      "__________________________________________________________________________________________________\n",
      "conv1d_7 (Conv1D)               (None, 40, 130)      50830       re_lu_6[0][0]                    \n",
      "__________________________________________________________________________________________________\n",
      "batch_normalization_7 (BatchNor (None, 40, 130)      520         conv1d_7[0][0]                   \n",
      "__________________________________________________________________________________________________\n",
      "re_lu_7 (ReLU)                  (None, 40, 130)      0           batch_normalization_7[0][0]      \n",
      "__________________________________________________________________________________________________\n",
      "max_pooling1d_3 (MaxPooling1D)  (None, 20, 130)      0           re_lu_7[0][0]                    \n",
      "__________________________________________________________________________________________________\n",
      "conv1d_8 (Conv1D)               (None, 20, 130)      50830       max_pooling1d_3[0][0]            \n",
      "__________________________________________________________________________________________________\n",
      "batch_normalization_8 (BatchNor (None, 20, 130)      520         conv1d_8[0][0]                   \n",
      "__________________________________________________________________________________________________\n",
      "re_lu_8 (ReLU)                  (None, 20, 130)      0           batch_normalization_8[0][0]      \n",
      "__________________________________________________________________________________________________\n",
      "conv1d_9 (Conv1D)               (None, 20, 130)      50830       re_lu_8[0][0]                    \n",
      "__________________________________________________________________________________________________\n",
      "batch_normalization_9 (BatchNor (None, 20, 130)      520         conv1d_9[0][0]                   \n",
      "__________________________________________________________________________________________________\n",
      "re_lu_9 (ReLU)                  (None, 20, 130)      0           batch_normalization_9[0][0]      \n",
      "__________________________________________________________________________________________________\n",
      "up_sampling1d (UpSampling1D)    (None, 40, 130)      0           re_lu_9[0][0]                    \n",
      "__________________________________________________________________________________________________\n",
      "concatenate (Concatenate)       (None, 40, 260)      0           up_sampling1d[0][0]              \n",
      "                                                                 re_lu_7[0][0]                    \n",
      "__________________________________________________________________________________________________\n",
      "conv1d_10 (Conv1D)              (None, 40, 130)      101530      concatenate[0][0]                \n",
      "__________________________________________________________________________________________________\n",
      "batch_normalization_10 (BatchNo (None, 40, 130)      520         conv1d_10[0][0]                  \n",
      "__________________________________________________________________________________________________\n",
      "re_lu_10 (ReLU)                 (None, 40, 130)      0           batch_normalization_10[0][0]     \n",
      "__________________________________________________________________________________________________\n",
      "conv1d_11 (Conv1D)              (None, 40, 130)      50830       re_lu_10[0][0]                   \n",
      "__________________________________________________________________________________________________\n",
      "batch_normalization_11 (BatchNo (None, 40, 130)      520         conv1d_11[0][0]                  \n",
      "__________________________________________________________________________________________________\n",
      "re_lu_11 (ReLU)                 (None, 40, 130)      0           batch_normalization_11[0][0]     \n",
      "__________________________________________________________________________________________________\n",
      "up_sampling1d_1 (UpSampling1D)  (None, 80, 130)      0           re_lu_11[0][0]                   \n",
      "__________________________________________________________________________________________________\n",
      "concatenate_1 (Concatenate)     (None, 80, 220)      0           up_sampling1d_1[0][0]            \n",
      "                                                                 re_lu_5[0][0]                    \n",
      "__________________________________________________________________________________________________\n",
      "conv1d_12 (Conv1D)              (None, 80, 90)       59490       concatenate_1[0][0]              \n",
      "__________________________________________________________________________________________________\n",
      "batch_normalization_12 (BatchNo (None, 80, 90)       360         conv1d_12[0][0]                  \n",
      "__________________________________________________________________________________________________\n",
      "re_lu_12 (ReLU)                 (None, 80, 90)       0           batch_normalization_12[0][0]     \n",
      "__________________________________________________________________________________________________\n",
      "conv1d_13 (Conv1D)              (None, 80, 90)       24390       re_lu_12[0][0]                   \n",
      "__________________________________________________________________________________________________\n",
      "batch_normalization_13 (BatchNo (None, 80, 90)       360         conv1d_13[0][0]                  \n",
      "__________________________________________________________________________________________________\n",
      "re_lu_13 (ReLU)                 (None, 80, 90)       0           batch_normalization_13[0][0]     \n",
      "__________________________________________________________________________________________________\n",
      "up_sampling1d_2 (UpSampling1D)  (None, 160, 90)      0           re_lu_13[0][0]                   \n",
      "__________________________________________________________________________________________________\n",
      "concatenate_2 (Concatenate)     (None, 160, 154)     0           up_sampling1d_2[0][0]            \n",
      "                                                                 re_lu_3[0][0]                    \n",
      "__________________________________________________________________________________________________\n",
      "conv1d_14 (Conv1D)              (None, 160, 64)      29632       concatenate_2[0][0]              \n",
      "__________________________________________________________________________________________________\n",
      "batch_normalization_14 (BatchNo (None, 160, 64)      256         conv1d_14[0][0]                  \n",
      "__________________________________________________________________________________________________\n",
      "re_lu_14 (ReLU)                 (None, 160, 64)      0           batch_normalization_14[0][0]     \n",
      "__________________________________________________________________________________________________\n",
      "conv1d_15 (Conv1D)              (None, 160, 64)      12352       re_lu_14[0][0]                   \n",
      "__________________________________________________________________________________________________\n",
      "batch_normalization_15 (BatchNo (None, 160, 64)      256         conv1d_15[0][0]                  \n",
      "__________________________________________________________________________________________________\n",
      "re_lu_15 (ReLU)                 (None, 160, 64)      0           batch_normalization_15[0][0]     \n",
      "__________________________________________________________________________________________________\n",
      "up_sampling1d_3 (UpSampling1D)  (None, 320, 64)      0           re_lu_15[0][0]                   \n",
      "__________________________________________________________________________________________________\n",
      "concatenate_3 (Concatenate)     (None, 320, 96)      0           up_sampling1d_3[0][0]            \n",
      "                                                                 re_lu_1[0][0]                    \n",
      "__________________________________________________________________________________________________\n",
      "conv1d_16 (Conv1D)              (None, 320, 32)      9248        concatenate_3[0][0]              \n",
      "__________________________________________________________________________________________________\n",
      "batch_normalization_16 (BatchNo (None, 320, 32)      128         conv1d_16[0][0]                  \n",
      "__________________________________________________________________________________________________\n",
      "re_lu_16 (ReLU)                 (None, 320, 32)      0           batch_normalization_16[0][0]     \n",
      "__________________________________________________________________________________________________\n",
      "conv1d_17 (Conv1D)              (None, 320, 32)      3104        re_lu_16[0][0]                   \n",
      "__________________________________________________________________________________________________\n",
      "batch_normalization_17 (BatchNo (None, 320, 32)      128         conv1d_17[0][0]                  \n",
      "__________________________________________________________________________________________________\n",
      "re_lu_17 (ReLU)                 (None, 320, 32)      0           batch_normalization_17[0][0]     \n",
      "__________________________________________________________________________________________________\n",
      "conv1d_18 (Conv1D)              (None, 320, 13)      429         re_lu_17[0][0]                   \n",
      "==================================================================================================\n",
      "Total params: 560,661\n",
      "Trainable params: 557,613\n",
      "Non-trainable params: 3,048\n",
      "__________________________________________________________________________________________________\n"
     ]
    }
   ],
   "source": [
    "channels = [32, 64, 90, 130, 180]\n",
    "model = unet.u_net(inputShape, channels)\n",
    "model.summary()"
   ]
  },
  {
   "cell_type": "code",
   "execution_count": 5,
   "id": "indoor-astronomy",
   "metadata": {},
   "outputs": [
    {
     "name": "stdout",
     "output_type": "stream",
     "text": [
      "Epoch 1/7\n",
      "534/534 [==============================] - 137s 152ms/step - loss: 1.2899 - mae: 0.0807 - accuracy: 0.6189 - val_loss: 4.3188 - val_mae: 0.1383 - val_accuracy: 0.1112\n",
      "Epoch 2/7\n",
      "534/534 [==============================] - 11s 21ms/step - loss: 0.5820 - mae: 0.0392 - accuracy: 0.8265 - val_loss: 2.1428 - val_mae: 0.0941 - val_accuracy: 0.4554\n",
      "Epoch 3/7\n",
      "534/534 [==============================] - 11s 20ms/step - loss: 0.4187 - mae: 0.0293 - accuracy: 0.8711 - val_loss: 2.0154 - val_mae: 0.0711 - val_accuracy: 0.5657\n",
      "Epoch 4/7\n",
      "534/534 [==============================] - 11s 20ms/step - loss: 0.3462 - mae: 0.0245 - accuracy: 0.8924 - val_loss: 4.3832 - val_mae: 0.1331 - val_accuracy: 0.1236\n",
      "Epoch 5/7\n",
      "534/534 [==============================] - 11s 20ms/step - loss: 0.2809 - mae: 0.0205 - accuracy: 0.9104 - val_loss: 1.1860 - val_mae: 0.0564 - val_accuracy: 0.6872\n",
      "Epoch 6/7\n",
      "534/534 [==============================] - 11s 20ms/step - loss: 0.2447 - mae: 0.0179 - accuracy: 0.9210 - val_loss: 1.3831 - val_mae: 0.0543 - val_accuracy: 0.6744\n",
      "Epoch 7/7\n",
      "534/534 [==============================] - 11s 20ms/step - loss: 0.2162 - mae: 0.0161 - accuracy: 0.9302 - val_loss: 2.8698 - val_mae: 0.1041 - val_accuracy: 0.3285\n"
     ]
    }
   ],
   "source": [
    "#Mit crossentropy\n",
    "model.compile(optimizer='adam', loss='categorical_crossentropy', metrics=['mae', 'accuracy'])\n",
    "history = model.fit(X_train,Y_train, batch_size=15, epochs=7, validation_data=(X_validation, Y_validation))"
   ]
  },
  {
   "cell_type": "code",
   "execution_count": 30,
   "id": "second-playlist",
   "metadata": {},
   "outputs": [
    {
     "name": "stdout",
     "output_type": "stream",
     "text": [
      "Epoch 1/15\n",
      "534/534 [==============================] - 11s 21ms/step - loss: 0.0186 - mae: 0.0066 - accuracy: 0.9681 - val_loss: 0.1035 - val_mae: 0.0287 - val_accuracy: 0.8278\n",
      "Epoch 2/15\n",
      "534/534 [==============================] - 11s 21ms/step - loss: 0.0174 - mae: 0.0062 - accuracy: 0.9701 - val_loss: 0.1890 - val_mae: 0.0492 - val_accuracy: 0.6939\n",
      "Epoch 3/15\n",
      "534/534 [==============================] - 11s 21ms/step - loss: 0.0167 - mae: 0.0059 - accuracy: 0.9714 - val_loss: 0.2337 - val_mae: 0.0642 - val_accuracy: 0.6032\n",
      "Epoch 4/15\n",
      "534/534 [==============================] - 11s 21ms/step - loss: 0.0175 - mae: 0.0061 - accuracy: 0.9700 - val_loss: 0.3501 - val_mae: 0.0950 - val_accuracy: 0.3993\n",
      "Epoch 5/15\n",
      "534/534 [==============================] - 11s 21ms/step - loss: 0.0171 - mae: 0.0060 - accuracy: 0.9707 - val_loss: 0.2163 - val_mae: 0.0600 - val_accuracy: 0.6421\n",
      "Epoch 6/15\n",
      "534/534 [==============================] - 11s 21ms/step - loss: 0.0167 - mae: 0.0059 - accuracy: 0.9715 - val_loss: 0.3335 - val_mae: 0.0903 - val_accuracy: 0.4246\n",
      "Epoch 7/15\n",
      "534/534 [==============================] - 11s 21ms/step - loss: 0.0168 - mae: 0.0059 - accuracy: 0.9711 - val_loss: 0.2321 - val_mae: 0.0658 - val_accuracy: 0.6024\n",
      "Epoch 8/15\n",
      "534/534 [==============================] - 11s 21ms/step - loss: 0.0154 - mae: 0.0055 - accuracy: 0.9735 - val_loss: 0.1568 - val_mae: 0.0422 - val_accuracy: 0.7421\n",
      "Epoch 9/15\n",
      "534/534 [==============================] - 11s 21ms/step - loss: 0.0154 - mae: 0.0054 - accuracy: 0.9736 - val_loss: 0.1619 - val_mae: 0.0420 - val_accuracy: 0.7412\n",
      "Epoch 10/15\n",
      "534/534 [==============================] - 11s 21ms/step - loss: 0.0144 - mae: 0.0052 - accuracy: 0.9751 - val_loss: 0.3443 - val_mae: 0.0911 - val_accuracy: 0.4216\n",
      "Epoch 11/15\n",
      "534/534 [==============================] - 11s 21ms/step - loss: 0.0136 - mae: 0.0049 - accuracy: 0.9767 - val_loss: 0.2644 - val_mae: 0.0707 - val_accuracy: 0.5649\n",
      "Epoch 12/15\n",
      "534/534 [==============================] - 11s 21ms/step - loss: 0.0151 - mae: 0.0053 - accuracy: 0.9742 - val_loss: 0.1777 - val_mae: 0.0495 - val_accuracy: 0.7046\n",
      "Epoch 13/15\n",
      "534/534 [==============================] - 11s 21ms/step - loss: 0.0137 - mae: 0.0049 - accuracy: 0.9764 - val_loss: 0.1728 - val_mae: 0.0456 - val_accuracy: 0.7185\n",
      "Epoch 14/15\n",
      "534/534 [==============================] - 11s 21ms/step - loss: 0.0133 - mae: 0.0047 - accuracy: 0.9772 - val_loss: 0.2039 - val_mae: 0.0561 - val_accuracy: 0.6582\n",
      "Epoch 15/15\n",
      "534/534 [==============================] - 11s 21ms/step - loss: 0.0122 - mae: 0.0044 - accuracy: 0.9791 - val_loss: 0.2429 - val_mae: 0.0657 - val_accuracy: 0.5945\n"
     ]
    }
   ],
   "source": [
    "#Mit Dice\n",
    "model.compile(optimizer='adam', loss=bbdc.dice_loss, metrics=['mae', 'accuracy'])\n",
    "history = model.fit(X_train,Y_train, batch_size=15, epochs=10, validation_data=(np.array(X_validation), np.array(Y_validation)))"
   ]
  },
  {
   "cell_type": "code",
   "execution_count": 6,
   "id": "heard-introduction",
   "metadata": {},
   "outputs": [
    {
     "data": {
      "image/png": "[encoded data removed]",
      "text/plain": [
       "<Figure size 432x288 with 1 Axes>"
      ]
     },
     "metadata": {
      "needs_background": "light"
     },
     "output_type": "display_data"
    }
   ],
   "source": [
    "# summarize history for mae\n",
    "plt.plot(history.history['mae'])\n",
    "plt.plot(history.history['val_mae'])\n",
    "plt.title('model mae')\n",
    "plt.ylabel('mae')\n",
    "plt.xlabel('epoch')\n",
    "plt.legend(['train', 'test'], loc='upper left')\n",
    "plt.show()"
   ]
  },
  {
   "cell_type": "code",
   "execution_count": 7,
   "id": "silent-harassment",
   "metadata": {},
   "outputs": [
    {
     "data": {
      "image/png": "[encoded data removed]",
      "text/plain": [
       "<Figure size 432x288 with 1 Axes>"
      ]
     },
     "metadata": {
      "needs_background": "light"
     },
     "output_type": "display_data"
    }
   ],
   "source": [
    "plt.plot(history.history['loss'])\n",
    "plt.plot(history.history['val_loss'])\n",
    "plt.title('model loss')\n",
    "plt.ylabel('loss')\n",
    "plt.xlabel('epoch')\n",
    "plt.legend(['train', 'test'], loc='upper left')\n",
    "plt.show()"
   ]
  },
  {
   "cell_type": "code",
   "execution_count": 8,
   "id": "random-missile",
   "metadata": {},
   "outputs": [],
   "source": [
    "prediction = model.predict(np.array(X_validation))\n",
    "discretePrediction = (prediction == prediction.max(axis=1)[:,None]).astype(int)"
   ]
  },
  {
   "cell_type": "code",
   "execution_count": 10,
   "id": "informative-louis",
   "metadata": {},
   "outputs": [
    {
     "data": {
      "text/html": [
       "<div>\n",
       "<style scoped>\n",
       "    .dataframe tbody tr th:only-of-type {\n",
       "        vertical-align: middle;\n",
       "    }\n",
       "\n",
       "    .dataframe tbody tr th {\n",
       "        vertical-align: top;\n",
       "    }\n",
       "\n",
       "    .dataframe thead th {\n",
       "        text-align: right;\n",
       "    }\n",
       "</style>\n",
       "<table border=\"1\" class=\"dataframe\">\n",
       "  <thead>\n",
       "    <tr style=\"text-align: right;\">\n",
       "      <th></th>\n",
       "      <th>filename</th>\n",
       "      <th>onset</th>\n",
       "      <th>offset</th>\n",
       "      <th>event_label</th>\n",
       "    </tr>\n",
       "  </thead>\n",
       "  <tbody>\n",
       "    <tr>\n",
       "      <th>0</th>\n",
       "      <td>09001_mix.wav</td>\n",
       "      <td>0.469687</td>\n",
       "      <td>0.501000</td>\n",
       "      <td>Doorbell</td>\n",
       "    </tr>\n",
       "    <tr>\n",
       "      <th>1</th>\n",
       "      <td>09001_mix.wav</td>\n",
       "      <td>0.532312</td>\n",
       "      <td>1.033313</td>\n",
       "      <td>Shatter</td>\n",
       "    </tr>\n",
       "    <tr>\n",
       "      <th>2</th>\n",
       "      <td>09001_mix.wav</td>\n",
       "      <td>1.064625</td>\n",
       "      <td>1.095938</td>\n",
       "      <td>Fireworks</td>\n",
       "    </tr>\n",
       "    <tr>\n",
       "      <th>3</th>\n",
       "      <td>09001_mix.wav</td>\n",
       "      <td>1.127250</td>\n",
       "      <td>1.127250</td>\n",
       "      <td>Shatter</td>\n",
       "    </tr>\n",
       "    <tr>\n",
       "      <th>4</th>\n",
       "      <td>09001_mix.wav</td>\n",
       "      <td>1.158562</td>\n",
       "      <td>1.158562</td>\n",
       "      <td>Fireworks</td>\n",
       "    </tr>\n",
       "  </tbody>\n",
       "</table>\n",
       "</div>"
      ],
      "text/plain": [
       "        filename     onset    offset event_label\n",
       "0  09001_mix.wav  0.469687  0.501000    Doorbell\n",
       "1  09001_mix.wav  0.532312  1.033313     Shatter\n",
       "2  09001_mix.wav  1.064625  1.095938   Fireworks\n",
       "3  09001_mix.wav  1.127250  1.127250     Shatter\n",
       "4  09001_mix.wav  1.158562  1.158562   Fireworks"
      ]
     },
     "execution_count": 10,
     "metadata": {},
     "output_type": "execute_result"
    }
   ],
   "source": [
    "df = bbdc.getPredictionAsSequenceDF(prediction, timepoints, testFileList)\n",
    "#df.to_csv(\"Prediction.csv\")\n",
    "df.head()"
   ]
  },
  {
   "cell_type": "code",
   "execution_count": 27,
   "id": "alternative-overview",
   "metadata": {},
   "outputs": [
    {
     "data": {
      "image/png": "[encoded data removed]",
      "text/plain": [
       "<Figure size 2160x1440 with 1 Axes>"
      ]
     },
     "metadata": {
      "needs_background": "light"
     },
     "output_type": "display_data"
    }
   ],
   "source": [
    "bbdc.plotPredictionAndGT(Y_validation, prediction, 0)"
   ]
  }
 ],
 "metadata": {
  "kernelspec": {
   "display_name": "Python 3",
   "language": "python",
   "name": "python3"
  },
  "language_info": {
   "codemirror_mode": {
    "name": "ipython",
    "version": 3
   },
   "file_extension": ".py",
   "mimetype": "text/x-python",
   "name": "python",
   "nbconvert_exporter": "python",
   "pygments_lexer": "ipython3",
   "version": "3.8.8"
  }
 },
 "nbformat": 4,
 "nbformat_minor": 5
}
