{
 "cells": [
  {
   "cell_type": "code",
   "execution_count": 2,
   "metadata": {},
   "outputs": [],
   "source": [
    "import sys  \n",
    "sys.path.insert(0, './../')\n",
    "import bbdc2021\n",
    "import pandas as pd"
   ]
  },
  {
   "cell_type": "code",
   "execution_count": 8,
   "metadata": {},
   "outputs": [
    {
     "data": {
      "text/html": [
       "<div>\n",
       "<style scoped>\n",
       "    .dataframe tbody tr th:only-of-type {\n",
       "        vertical-align: middle;\n",
       "    }\n",
       "\n",
       "    .dataframe tbody tr th {\n",
       "        vertical-align: top;\n",
       "    }\n",
       "\n",
       "    .dataframe thead th {\n",
       "        text-align: right;\n",
       "    }\n",
       "</style>\n",
       "<table border=\"1\" class=\"dataframe\">\n",
       "  <thead>\n",
       "    <tr style=\"text-align: right;\">\n",
       "      <th></th>\n",
       "      <th>filename</th>\n",
       "      <th>onset</th>\n",
       "      <th>offset</th>\n",
       "      <th>event_label</th>\n",
       "      <th>duration</th>\n",
       "    </tr>\n",
       "  </thead>\n",
       "  <tbody>\n",
       "    <tr>\n",
       "      <th>0</th>\n",
       "      <td>00001_mix.wav</td>\n",
       "      <td>2.852143</td>\n",
       "      <td>3.852143</td>\n",
       "      <td>Cheering</td>\n",
       "      <td>1.0</td>\n",
       "    </tr>\n",
       "    <tr>\n",
       "      <th>1</th>\n",
       "      <td>00001_mix.wav</td>\n",
       "      <td>5.468056</td>\n",
       "      <td>6.468056</td>\n",
       "      <td>Church_bell</td>\n",
       "      <td>1.0</td>\n",
       "    </tr>\n",
       "    <tr>\n",
       "      <th>2</th>\n",
       "      <td>00002_mix.wav</td>\n",
       "      <td>0.433088</td>\n",
       "      <td>1.433088</td>\n",
       "      <td>Doorbell</td>\n",
       "      <td>1.0</td>\n",
       "    </tr>\n",
       "    <tr>\n",
       "      <th>3</th>\n",
       "      <td>00002_mix.wav</td>\n",
       "      <td>2.510292</td>\n",
       "      <td>3.510292</td>\n",
       "      <td>Shatter</td>\n",
       "      <td>1.0</td>\n",
       "    </tr>\n",
       "    <tr>\n",
       "      <th>4</th>\n",
       "      <td>00002_mix.wav</td>\n",
       "      <td>5.106170</td>\n",
       "      <td>6.106170</td>\n",
       "      <td>Church_bell</td>\n",
       "      <td>1.0</td>\n",
       "    </tr>\n",
       "    <tr>\n",
       "      <th>...</th>\n",
       "      <td>...</td>\n",
       "      <td>...</td>\n",
       "      <td>...</td>\n",
       "      <td>...</td>\n",
       "      <td>...</td>\n",
       "    </tr>\n",
       "    <tr>\n",
       "      <th>30039</th>\n",
       "      <td>09999_mix.wav</td>\n",
       "      <td>7.528819</td>\n",
       "      <td>9.528819</td>\n",
       "      <td>Doorbell</td>\n",
       "      <td>2.0</td>\n",
       "    </tr>\n",
       "    <tr>\n",
       "      <th>30040</th>\n",
       "      <td>10000_mix.wav</td>\n",
       "      <td>0.337247</td>\n",
       "      <td>1.337247</td>\n",
       "      <td>Shout</td>\n",
       "      <td>1.0</td>\n",
       "    </tr>\n",
       "    <tr>\n",
       "      <th>30041</th>\n",
       "      <td>10000_mix.wav</td>\n",
       "      <td>2.881387</td>\n",
       "      <td>4.881387</td>\n",
       "      <td>Shatter</td>\n",
       "      <td>2.0</td>\n",
       "    </tr>\n",
       "    <tr>\n",
       "      <th>30042</th>\n",
       "      <td>10000_mix.wav</td>\n",
       "      <td>5.006086</td>\n",
       "      <td>7.006086</td>\n",
       "      <td>Burping_and_eructation</td>\n",
       "      <td>2.0</td>\n",
       "    </tr>\n",
       "    <tr>\n",
       "      <th>30043</th>\n",
       "      <td>10000_mix.wav</td>\n",
       "      <td>7.559835</td>\n",
       "      <td>9.559835</td>\n",
       "      <td>Camera</td>\n",
       "      <td>2.0</td>\n",
       "    </tr>\n",
       "  </tbody>\n",
       "</table>\n",
       "<p>30044 rows × 5 columns</p>\n",
       "</div>"
      ],
      "text/plain": [
       "            filename     onset    offset             event_label  duration\n",
       "0      00001_mix.wav  2.852143  3.852143                Cheering       1.0\n",
       "1      00001_mix.wav  5.468056  6.468056             Church_bell       1.0\n",
       "2      00002_mix.wav  0.433088  1.433088                Doorbell       1.0\n",
       "3      00002_mix.wav  2.510292  3.510292                 Shatter       1.0\n",
       "4      00002_mix.wav  5.106170  6.106170             Church_bell       1.0\n",
       "...              ...       ...       ...                     ...       ...\n",
       "30039  09999_mix.wav  7.528819  9.528819                Doorbell       2.0\n",
       "30040  10000_mix.wav  0.337247  1.337247                   Shout       1.0\n",
       "30041  10000_mix.wav  2.881387  4.881387                 Shatter       2.0\n",
       "30042  10000_mix.wav  5.006086  7.006086  Burping_and_eructation       2.0\n",
       "30043  10000_mix.wav  7.559835  9.559835                  Camera       2.0\n",
       "\n",
       "[30044 rows x 5 columns]"
      ]
     },
     "execution_count": 8,
     "metadata": {},
     "output_type": "execute_result"
    }
   ],
   "source": [
    "labels = pd.read_csv('../data/final_pre_dataset/dev-labels.csv')\n",
    "labels['duration'] = labels.offset - labels.onset\n",
    "labels"
   ]
  },
  {
   "cell_type": "code",
   "execution_count": 7,
   "metadata": {},
   "outputs": [
    {
     "data": {
      "text/plain": [
       "<AxesSubplot:xlabel='event_label'>"
      ]
     },
     "execution_count": 7,
     "metadata": {},
     "output_type": "execute_result"
    },
    {
     "data": {
      "image/png": "[encoded data removed]",
      "text/plain": [
       "<Figure size 432x288 with 1 Axes>"
      ]
     },
     "metadata": {
      "needs_background": "light"
     },
     "output_type": "display_data"
    }
   ],
   "source": [
    "# total length of different events\n",
    "labels_agg = labels.groupby('event_label')['duration'].sum()\n",
    "labels_agg.plot.bar()"
   ]
  },
  {
   "cell_type": "code",
   "execution_count": 33,
   "metadata": {},
   "outputs": [
    {
     "name": "stdout",
     "output_type": "stream",
     "text": [
      "Bark                                  1.446935\n",
      "Burping_and_eructation                1.386952\n",
      "Camera                                1.428941\n",
      "Cheering                              1.491904\n",
      "Church_bell                           1.475973\n",
      "Cough                                 1.379018\n",
      "Doorbell                              1.459490\n",
      "Fireworks                             1.419495\n",
      "Meow                                  1.426861\n",
      "Scratching_(performance_technique)    1.462962\n",
      "Shatter                               1.384241\n",
      "Shout                                 1.373852\n",
      "dtype: float64\n"
     ]
    },
    {
     "data": {
      "text/plain": [
       "<AxesSubplot:>"
      ]
     },
     "execution_count": 33,
     "metadata": {},
     "output_type": "execute_result"
    },
    {
     "data": {
      "image/png": "[encoded data removed]",
      "text/plain": [
       "<Figure size 1440x360 with 1 Axes>"
      ]
     },
     "metadata": {
      "needs_background": "light"
     },
     "output_type": "display_data"
    }
   ],
   "source": [
    "# ditribution of label lengths \n",
    "durat = labels.groupby('event_label')['duration'].apply(pd.DataFrame)\n",
    "print(durat.mean())\n",
    "durat.boxplot(figsize=(20, 5))"
   ]
  },
  {
   "cell_type": "code",
   "execution_count": 30,
   "metadata": {},
   "outputs": [
    {
     "data": {
      "text/plain": [
       "<AxesSubplot:>"
      ]
     },
     "execution_count": 30,
     "metadata": {},
     "output_type": "execute_result"
    },
    {
     "data": {
      "image/png": "[encoded data removed]",
      "text/plain": [
       "<Figure size 432x288 with 1 Axes>"
      ]
     },
     "metadata": {
      "needs_background": "light"
     },
     "output_type": "display_data"
    }
   ],
   "source": [
    "# count of labels within records\n",
    "counts = labels.groupby('filename')['duration'].count()\n",
    "pd.DataFrame(counts).boxplot()"
   ]
  }
 ],
 "metadata": {
  "kernelspec": {
   "display_name": "Python 3",
   "language": "python",
   "name": "python3"
  },
  "language_info": {
   "codemirror_mode": {
    "name": "ipython",
    "version": 3
   },
   "file_extension": ".py",
   "mimetype": "text/x-python",
   "name": "python",
   "nbconvert_exporter": "python",
   "pygments_lexer": "ipython3",
   "version": "3.8.6"
  }
 },
 "nbformat": 4,
 "nbformat_minor": 4
}
