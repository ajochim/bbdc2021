{
 "cells": [
  {
   "cell_type": "code",
   "execution_count": 1,
   "id": "strategic-connection",
   "metadata": {},
   "outputs": [],
   "source": [
    "import pandas as pd\n",
    "import numpy as np\n",
    "from psds_eval import PSDSEval"
   ]
  },
  {
   "cell_type": "code",
   "execution_count": 79,
   "id": "twelve-windows",
   "metadata": {},
   "outputs": [],
   "source": [
    "def score_all(hyp_data, ref_data):\n",
    "    # as the unique files are the same, only one unique call is enough\n",
    "    metadata = pd.DataFrame(np.unique(hyp_data['filename']), columns=['filename'])\n",
    "    metadata = metadata.assign(duration=10)\n",
    "\n",
    "    psds_eval = PSDSEval(ground_truth=ref_data, metadata=metadata)\n",
    "    info = {\"threshold\": 0.5}\n",
    "    psds_eval.add_operating_point(hyp_data, info=info)\n",
    "    return psds_eval.psds(max_efpr=100).value\n"
   ]
  },
  {
   "cell_type": "code",
   "execution_count": 11,
   "id": "experimental-murder",
   "metadata": {},
   "outputs": [
    {
     "data": {
      "text/plain": [
       "1.0"
      ]
     },
     "execution_count": 11,
     "metadata": {},
     "output_type": "execute_result"
    }
   ],
   "source": [
    "#Same data\n",
    "reference_data = {'filename': ['test1', 'test1'], 'onset': [1,2], 'offset': [2,4], 'event_label':[\"Bark\",\"Bark\"]}\n",
    "reference_data = pd.DataFrame(data=reference_data)\n",
    "hypo_data = {'filename': ['test1', 'test1'], 'onset': [1,2], 'offset': [2,4], 'event_label':[\"Bark\",\"Bark\"]}\n",
    "hypo_data = pd.DataFrame(data=hypo_data)\n",
    "score_all(hypo_data, reference_data)"
   ]
  },
  {
   "cell_type": "code",
   "execution_count": 10,
   "id": "chronic-fever",
   "metadata": {},
   "outputs": [
    {
     "data": {
      "text/plain": [
       "0.5"
      ]
     },
     "execution_count": 10,
     "metadata": {},
     "output_type": "execute_result"
    }
   ],
   "source": [
    "#Same on- and offset, but wrong label\n",
    "reference_data = {'filename': ['test1', 'test1'], 'onset': [1,2], 'offset': [2,4], 'event_label':[\"Bark\",\"Bark\"]}\n",
    "reference_data = pd.DataFrame(data=reference_data)\n",
    "hypo_data = {'filename': ['test1', 'test1'], 'onset': [1,2], 'offset': [2,4], 'event_label':[\"Bark\",\"Cheering\"]}\n",
    "hypo_data = pd.DataFrame(data=hypo_data)\n",
    "score_all(hypo_data, reference_data)"
   ]
  },
  {
   "cell_type": "code",
   "execution_count": 80,
   "id": "coordinated-marketplace",
   "metadata": {},
   "outputs": [
    {
     "data": {
      "text/plain": [
       "1.0"
      ]
     },
     "execution_count": 80,
     "metadata": {},
     "output_type": "execute_result"
    }
   ],
   "source": [
    "#Same data but 1/3 different (little) offset\n",
    "reference_data = {'filename': ['test1', 'test2', 'test3'], 'onset': [1,2,0], 'offset': [2,4,1], 'event_label':[\"Bark\",\"Cheering\", \"Cough\"]}\n",
    "reference_data = pd.DataFrame(data=reference_data)\n",
    "hypo_data = {'filename': ['test1', 'test2', 'test3'], 'onset': [1,2,0], 'offset': [2,6, 1], 'event_label':[\"Bark\",\"Cheering\", \"Cough\"]}\n",
    "hypo_data = pd.DataFrame(data=hypo_data)\n",
    "score_all(hypo_data, reference_data)"
   ]
  },
  {
   "cell_type": "code",
   "execution_count": 64,
   "id": "smart-livestock",
   "metadata": {},
   "outputs": [
    {
     "data": {
      "text/plain": [
       "0.6666666666666665"
      ]
     },
     "execution_count": 64,
     "metadata": {},
     "output_type": "execute_result"
    }
   ],
   "source": [
    "#Same data but 1/3 different (little) offset\n",
    "reference_data = {'filename': ['test1', 'test2', 'test3'], 'onset': [1,2,0], 'offset': [2,4,1], 'event_label':[\"Bark\",\"Cheering\", \"Cough\"]}\n",
    "reference_data = pd.DataFrame(data=reference_data)\n",
    "hypo_data = {'filename': ['test1', 'test2', 'test3'], 'onset': [1,2,0], 'offset': [2,7, 1], 'event_label':[\"Bark\",\"Cheering\", \"Cough\"]}\n",
    "hypo_data = pd.DataFrame(data=hypo_data)\n",
    "score_all(hypo_data, reference_data)"
   ]
  },
  {
   "cell_type": "code",
   "execution_count": 82,
   "id": "convenient-discussion",
   "metadata": {},
   "outputs": [
    {
     "name": "stdout",
     "output_type": "stream",
     "text": [
      "2.549633628707956\n"
     ]
    },
    {
     "name": "stderr",
     "output_type": "stream",
     "text": [
      "<ipython-input-82-c32f946cd109>:5: SettingWithCopyWarning: \n",
      "A value is trying to be set on a copy of a slice from a DataFrame\n",
      "\n",
      "See the caveats in the documentation: https://pandas.pydata.org/pandas-docs/stable/user_guide/indexing.html#returning-a-view-versus-a-copy\n",
      "  valDfCpy['onset'][1] = 1.5\n"
     ]
    },
    {
     "name": "stdout",
     "output_type": "stream",
     "text": [
      "0.8\n"
     ]
    },
    {
     "data": {
      "text/html": [
       "<div>\n",
       "<style scoped>\n",
       "    .dataframe tbody tr th:only-of-type {\n",
       "        vertical-align: middle;\n",
       "    }\n",
       "\n",
       "    .dataframe tbody tr th {\n",
       "        vertical-align: top;\n",
       "    }\n",
       "\n",
       "    .dataframe thead th {\n",
       "        text-align: right;\n",
       "    }\n",
       "</style>\n",
       "<table border=\"1\" class=\"dataframe\">\n",
       "  <thead>\n",
       "    <tr style=\"text-align: right;\">\n",
       "      <th></th>\n",
       "      <th>filename</th>\n",
       "      <th>onset</th>\n",
       "      <th>offset</th>\n",
       "      <th>event_label</th>\n",
       "    </tr>\n",
       "  </thead>\n",
       "  <tbody>\n",
       "    <tr>\n",
       "      <th>0</th>\n",
       "      <td>08001_mix.wav</td>\n",
       "      <td>0.465174</td>\n",
       "      <td>2.465174</td>\n",
       "      <td>Shatter</td>\n",
       "    </tr>\n",
       "    <tr>\n",
       "      <th>1</th>\n",
       "      <td>08001_mix.wav</td>\n",
       "      <td>1.500000</td>\n",
       "      <td>3.549634</td>\n",
       "      <td>Church_bell</td>\n",
       "    </tr>\n",
       "    <tr>\n",
       "      <th>2</th>\n",
       "      <td>08001_mix.wav</td>\n",
       "      <td>5.062997</td>\n",
       "      <td>6.062997</td>\n",
       "      <td>Scratching_(performance_technique)</td>\n",
       "    </tr>\n",
       "    <tr>\n",
       "      <th>3</th>\n",
       "      <td>08001_mix.wav</td>\n",
       "      <td>7.992229</td>\n",
       "      <td>9.992229</td>\n",
       "      <td>Meow</td>\n",
       "    </tr>\n",
       "    <tr>\n",
       "      <th>4</th>\n",
       "      <td>08002_mix.wav</td>\n",
       "      <td>0.332248</td>\n",
       "      <td>1.332248</td>\n",
       "      <td>Doorbell</td>\n",
       "    </tr>\n",
       "  </tbody>\n",
       "</table>\n",
       "</div>"
      ],
      "text/plain": [
       "        filename     onset    offset                         event_label\n",
       "0  08001_mix.wav  0.465174  2.465174                             Shatter\n",
       "1  08001_mix.wav  1.500000  3.549634                         Church_bell\n",
       "2  08001_mix.wav  5.062997  6.062997  Scratching_(performance_technique)\n",
       "3  08001_mix.wav  7.992229  9.992229                                Meow\n",
       "4  08002_mix.wav  0.332248  1.332248                            Doorbell"
      ]
     },
     "execution_count": 82,
     "metadata": {},
     "output_type": "execute_result"
    }
   ],
   "source": [
    "#With original (manipulated) data\n",
    "valDf = pd.read_csv('../data/validation.csv')\n",
    "valDfCpy = valDf.iloc[0:5].copy()\n",
    "print(valDfCpy['onset'][1])\n",
    "valDfCpy['onset'][1] = 1.5\n",
    "print(score_all(valDfCpy, valDf.iloc[0:5]))\n",
    "valDfCpy.head()"
   ]
  }
 ],
 "metadata": {
  "kernelspec": {
   "display_name": "Python 3",
   "language": "python",
   "name": "python3"
  },
  "language_info": {
   "codemirror_mode": {
    "name": "ipython",
    "version": 3
   },
   "file_extension": ".py",
   "mimetype": "text/x-python",
   "name": "python",
   "nbconvert_exporter": "python",
   "pygments_lexer": "ipython3",
   "version": "3.8.8"
  }
 },
 "nbformat": 4,
 "nbformat_minor": 5
}
