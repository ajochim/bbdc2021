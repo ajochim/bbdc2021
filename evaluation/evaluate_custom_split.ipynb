{
 "cells": [
  {
   "cell_type": "markdown",
   "metadata": {},
   "source": [
    "# Evaluation for custom splits - BBDC 2021"
   ]
  },
  {
   "cell_type": "markdown",
   "metadata": {},
   "source": [
    "This notebook provides you with an easy way to test your predictions:\n",
    "1. Click on the open in colab button (this will open an instance just for you)\n",
    "2. Upload your prediction and groundtruth (last cell of this notebook)\n",
    "3. The files are checked and the score printed out below the upload buttons"
   ]
  },
  {
   "cell_type": "code",
   "execution_count": 1,
   "metadata": {
    "scrolled": true
   },
   "outputs": [],
   "source": [
    "# %pip install psds-eval==0.3.0"
   ]
  },
  {
   "cell_type": "code",
   "execution_count": 2,
   "metadata": {},
   "outputs": [],
   "source": [
    "import io\n",
    "import pandas as pd\n",
    "\n",
    "from ipywidgets import Box, FileUpload, Output\n",
    "from IPython.display import display\n",
    "\n",
    "from evaluate import evaluate"
   ]
  },
  {
   "cell_type": "code",
   "execution_count": 3,
   "metadata": {},
   "outputs": [
    {
     "data": {
      "application/vnd.jupyter.widget-view+json": {
       "model_id": "5c8af785e9f7451d96adbfbf3b7eb9c6",
       "version_major": 2,
       "version_minor": 0
      },
      "text/plain": [
       "Output()"
      ]
     },
     "metadata": {},
     "output_type": "display_data"
    }
   ],
   "source": [
    "items = [FileUpload(accept='.csv', multiple=False, description=name) for name in ['Prediction', 'Groundtruth']]\n",
    "\n",
    "out = Output()\n",
    "\n",
    "@out.capture()\n",
    "def show_content(change):\n",
    "    if all([len(item.value.values()) > 0 for item in items]):\n",
    "        print('Files:', [list(item.value.keys())[0] for item in items])\n",
    "        prediction, groundtruth = [io.BytesIO(list(item.value.values())[0]['content']) for item in items]\n",
    "        score, error = evaluate(prediction, groundtruth)\n",
    "        print(f\"Score: {score}, Msg: {error}\")\n",
    "        \n",
    "for item in items:\n",
    "    item.observe(show_content, 'value')\n",
    "\n",
    "with out:\n",
    "    display(Box(items))\n",
    "out"
   ]
  }
 ],
 "metadata": {
  "kernelspec": {
   "display_name": "bbdc_eval",
   "language": "python",
   "name": "bbdc_eval"
  },
  "language_info": {
   "codemirror_mode": {
    "name": "ipython",
    "version": 3
   },
   "file_extension": ".py",
   "mimetype": "text/x-python",
   "name": "python",
   "nbconvert_exporter": "python",
   "pygments_lexer": "ipython3",
   "version": "3.6.6"
  }
 },
 "nbformat": 4,
 "nbformat_minor": 4
}
